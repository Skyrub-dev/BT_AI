{
  "cells": [
    {
      "cell_type": "markdown",
      "metadata": {
        "id": "view-in-github",
        "colab_type": "text"
      },
      "source": [
        "<a href=\"https://colab.research.google.com/github/Skyy-Dev/BT_AI/blob/main/BT_AI.ipynb\" target=\"_parent\"><img src=\"https://colab.research.google.com/assets/colab-badge.svg\" alt=\"Open In Colab\"/></a>"
      ]
    },
    {
      "cell_type": "markdown",
      "metadata": {
        "id": "ITl913RrtYZL"
      },
      "source": [
        "# **L6 End-of-year project**"
      ]
    },
    {
      "cell_type": "markdown",
      "metadata": {
        "id": "1RKzqSqO5qgV"
      },
      "source": [
        "**Import Files**\n",
        "\n",
        "---\n",
        "\n"
      ]
    },
    {
      "cell_type": "code",
      "execution_count": null,
      "metadata": {
        "colab": {
          "base_uri": "https://localhost:8080/",
          "height": 336
        },
        "id": "z4hrSFDsGduZ",
        "outputId": "316d7094-df05-4958-a33c-cda7530d3789"
      },
      "outputs": [
        {
          "ename": "ValueError",
          "evalue": "ignored",
          "output_type": "error",
          "traceback": [
            "\u001b[0;31m---------------------------------------------------------------------------\u001b[0m",
            "\u001b[0;31mValueError\u001b[0m                                Traceback (most recent call last)",
            "\u001b[0;32m<ipython-input-1-272d4cbdf5cd>\u001b[0m in \u001b[0;36m<module>\u001b[0;34m\u001b[0m\n\u001b[1;32m      1\u001b[0m \u001b[0;32mfrom\u001b[0m \u001b[0mgoogle\u001b[0m\u001b[0;34m.\u001b[0m\u001b[0mcolab\u001b[0m \u001b[0;32mimport\u001b[0m \u001b[0mdrive\u001b[0m\u001b[0;34m\u001b[0m\u001b[0;34m\u001b[0m\u001b[0m\n\u001b[0;32m----> 2\u001b[0;31m \u001b[0mdrive\u001b[0m\u001b[0;34m.\u001b[0m\u001b[0mmount\u001b[0m\u001b[0;34m(\u001b[0m\u001b[0;34m'/content/drive/MyDrive/data'\u001b[0m\u001b[0;34m)\u001b[0m\u001b[0;34m\u001b[0m\u001b[0;34m\u001b[0m\u001b[0m\n\u001b[0m",
            "\u001b[0;32m/usr/local/lib/python3.8/dist-packages/google/colab/drive.py\u001b[0m in \u001b[0;36mmount\u001b[0;34m(mountpoint, force_remount, timeout_ms, readonly)\u001b[0m\n\u001b[1;32m     99\u001b[0m \u001b[0;32mdef\u001b[0m \u001b[0mmount\u001b[0m\u001b[0;34m(\u001b[0m\u001b[0mmountpoint\u001b[0m\u001b[0;34m,\u001b[0m \u001b[0mforce_remount\u001b[0m\u001b[0;34m=\u001b[0m\u001b[0;32mFalse\u001b[0m\u001b[0;34m,\u001b[0m \u001b[0mtimeout_ms\u001b[0m\u001b[0;34m=\u001b[0m\u001b[0;36m120000\u001b[0m\u001b[0;34m,\u001b[0m \u001b[0mreadonly\u001b[0m\u001b[0;34m=\u001b[0m\u001b[0;32mFalse\u001b[0m\u001b[0;34m)\u001b[0m\u001b[0;34m:\u001b[0m\u001b[0;34m\u001b[0m\u001b[0;34m\u001b[0m\u001b[0m\n\u001b[1;32m    100\u001b[0m   \u001b[0;34m\"\"\"Mount your Google Drive at the specified mountpoint path.\"\"\"\u001b[0m\u001b[0;34m\u001b[0m\u001b[0;34m\u001b[0m\u001b[0m\n\u001b[0;32m--> 101\u001b[0;31m   return _mount(\n\u001b[0m\u001b[1;32m    102\u001b[0m       \u001b[0mmountpoint\u001b[0m\u001b[0;34m,\u001b[0m\u001b[0;34m\u001b[0m\u001b[0;34m\u001b[0m\u001b[0m\n\u001b[1;32m    103\u001b[0m       \u001b[0mforce_remount\u001b[0m\u001b[0;34m=\u001b[0m\u001b[0mforce_remount\u001b[0m\u001b[0;34m,\u001b[0m\u001b[0;34m\u001b[0m\u001b[0;34m\u001b[0m\u001b[0m\n",
            "\u001b[0;32m/usr/local/lib/python3.8/dist-packages/google/colab/drive.py\u001b[0m in \u001b[0;36m_mount\u001b[0;34m(mountpoint, force_remount, timeout_ms, ephemeral, readonly)\u001b[0m\n\u001b[1;32m    187\u001b[0m     \u001b[0mnormed\u001b[0m \u001b[0;34m=\u001b[0m \u001b[0m_os\u001b[0m\u001b[0;34m.\u001b[0m\u001b[0mpath\u001b[0m\u001b[0;34m.\u001b[0m\u001b[0mnormpath\u001b[0m\u001b[0;34m(\u001b[0m\u001b[0mmountpoint\u001b[0m\u001b[0;34m)\u001b[0m\u001b[0;34m\u001b[0m\u001b[0;34m\u001b[0m\u001b[0m\n\u001b[1;32m    188\u001b[0m     \u001b[0;32mif\u001b[0m \u001b[0;34m'/'\u001b[0m \u001b[0;32min\u001b[0m \u001b[0mnormed\u001b[0m \u001b[0;32mand\u001b[0m \u001b[0;32mnot\u001b[0m \u001b[0m_os\u001b[0m\u001b[0;34m.\u001b[0m\u001b[0mpath\u001b[0m\u001b[0;34m.\u001b[0m\u001b[0mexists\u001b[0m\u001b[0;34m(\u001b[0m\u001b[0m_os\u001b[0m\u001b[0;34m.\u001b[0m\u001b[0mpath\u001b[0m\u001b[0;34m.\u001b[0m\u001b[0mdirname\u001b[0m\u001b[0;34m(\u001b[0m\u001b[0mnormed\u001b[0m\u001b[0;34m)\u001b[0m\u001b[0;34m)\u001b[0m\u001b[0;34m:\u001b[0m\u001b[0;34m\u001b[0m\u001b[0;34m\u001b[0m\u001b[0m\n\u001b[0;32m--> 189\u001b[0;31m       \u001b[0;32mraise\u001b[0m \u001b[0mValueError\u001b[0m\u001b[0;34m(\u001b[0m\u001b[0;34m'Mountpoint must be in a directory that exists'\u001b[0m\u001b[0;34m)\u001b[0m\u001b[0;34m\u001b[0m\u001b[0;34m\u001b[0m\u001b[0m\n\u001b[0m\u001b[1;32m    190\u001b[0m   \u001b[0;32mexcept\u001b[0m\u001b[0;34m:\u001b[0m\u001b[0;34m\u001b[0m\u001b[0;34m\u001b[0m\u001b[0m\n\u001b[1;32m    191\u001b[0m     \u001b[0md\u001b[0m\u001b[0;34m.\u001b[0m\u001b[0mkill\u001b[0m\u001b[0;34m(\u001b[0m\u001b[0m_signal\u001b[0m\u001b[0;34m.\u001b[0m\u001b[0mSIGKILL\u001b[0m\u001b[0;34m)\u001b[0m\u001b[0;34m\u001b[0m\u001b[0;34m\u001b[0m\u001b[0m\n",
            "\u001b[0;31mValueError\u001b[0m: Mountpoint must be in a directory that exists"
          ]
        }
      ],
      "source": [
        "from google.colab import drive\n",
        "drive.mount('/content/drive/MyDrive/data')"
      ]
    },
    {
      "cell_type": "code",
      "execution_count": null,
      "metadata": {
        "colab": {
          "base_uri": "https://localhost:8080/"
        },
        "id": "4YVuh3Om96VN",
        "outputId": "febbc1c8-d74d-44b9-db05-2591d186a416"
      },
      "outputs": [
        {
          "output_type": "stream",
          "name": "stdout",
          "text": [
            "Mounted at /content/drive\n"
          ]
        }
      ],
      "source": [
        "from google.colab import drive\n",
        "drive.mount('/content/drive')"
      ]
    },
    {
      "cell_type": "markdown",
      "metadata": {
        "id": "y9XM_FtFdp8_"
      },
      "source": [
        "**Alternatively, through a local machine**"
      ]
    },
    {
      "cell_type": "code",
      "execution_count": null,
      "metadata": {
        "id": "tYtdUe3Rd2C8"
      },
      "outputs": [],
      "source": [
        "local_dir = '../Archive'"
      ]
    },
    {
      "cell_type": "markdown",
      "metadata": {
        "id": "dU8Icm6DY3gV"
      },
      "source": [
        "Before proceeding, check that the directory can be found"
      ]
    },
    {
      "cell_type": "code",
      "execution_count": null,
      "metadata": {
        "id": "2BFYXMEKY3gV",
        "outputId": "79ab8b96-226a-41a6-8621-9ded0b816fb4",
        "colab": {
          "base_uri": "https://localhost:8080/",
          "height": 169
        }
      },
      "outputs": [
        {
          "output_type": "error",
          "ename": "NameError",
          "evalue": "ignored",
          "traceback": [
            "\u001b[0;31m---------------------------------------------------------------------------\u001b[0m",
            "\u001b[0;31mNameError\u001b[0m                                 Traceback (most recent call last)",
            "\u001b[0;32m<ipython-input-4-55bad8a77143>\u001b[0m in \u001b[0;36m<module>\u001b[0;34m\u001b[0m\n\u001b[0;32m----> 1\u001b[0;31m \u001b[0mos\u001b[0m\u001b[0;34m.\u001b[0m\u001b[0mlistdir\u001b[0m\u001b[0;34m(\u001b[0m\u001b[0mlocal_dir\u001b[0m\u001b[0;34m)\u001b[0m\u001b[0;34m\u001b[0m\u001b[0;34m\u001b[0m\u001b[0m\n\u001b[0m",
            "\u001b[0;31mNameError\u001b[0m: name 'local_dir' is not defined"
          ]
        }
      ],
      "source": [
        "os.listdir(local_dir)"
      ]
    },
    {
      "cell_type": "markdown",
      "metadata": {
        "id": "YAHBNGLj5_tt"
      },
      "source": [
        "**Importing libraries**\n",
        "\n",
        "---\n",
        "\n"
      ]
    },
    {
      "cell_type": "code",
      "execution_count": 24,
      "metadata": {
        "id": "z80tFMw8eF2G"
      },
      "outputs": [],
      "source": [
        "import os\n",
        "import tensorflow as tf\n",
        "import cv2 #checkout open cv\n",
        "import imghdr #allows to check file extensions for images\n",
        "from matplotlib import pyplot as plt\n",
        "import numpy as np\n",
        "from sklearn.model_selection import train_test_split\n",
        "import random\n",
        "import shutil\n",
        "#import scipy\n",
        "from sklearn.model_selection import train_test_split\n",
        "#import kaggle - will likely change\n",
        "\n",
        "from tensorflow import keras\n",
        "from tensorflow.python.keras import layers\n",
        "from tensorflow.python.keras.layers import Dense, Flatten, Dropout\n",
        "from tensorflow.python.keras.models import sequential, Model\n",
        "from keras.preprocessing.image import ImageDataGenerator\n",
        "from keras.utils import to_categorical\n",
        "from keras.applications import EfficientNetB0\n",
        "from keras.layers.pooling.global_average_pooling2d import GlobalAveragePooling2D"
      ]
    },
    {
      "cell_type": "markdown",
      "metadata": {
        "id": "dlEfSL8f2Eok"
      },
      "source": [
        "GPU check optimisation"
      ]
    },
    {
      "cell_type": "code",
      "execution_count": null,
      "metadata": {
        "id": "dQ74ovch2GCk"
      },
      "outputs": [],
      "source": [
        "gpus = tf.config.experimental.list_physical_devices('GPU')\n",
        "for gpu in gpus:\n",
        "    tf.config.experimental.set_memory_growth(gpu, True)"
      ]
    },
    {
      "cell_type": "markdown",
      "metadata": {
        "id": "Ja8EYaeISnEg"
      },
      "source": [
        "CPU / GPU debug"
      ]
    },
    {
      "cell_type": "code",
      "execution_count": null,
      "metadata": {
        "colab": {
          "base_uri": "https://localhost:8080/"
        },
        "id": "K6wztOusSuA1",
        "outputId": "9df66efd-dbdb-457e-feb3-d5aff2561213"
      },
      "outputs": [
        {
          "output_type": "execute_result",
          "data": {
            "text/plain": [
              "[PhysicalDevice(name='/physical_device:CPU:0', device_type='CPU'),\n",
              " PhysicalDevice(name='/physical_device:GPU:0', device_type='GPU')]"
            ]
          },
          "metadata": {},
          "execution_count": 3
        }
      ],
      "source": [
        "tf.config.list_physical_devices(device_type=None)"
      ]
    },
    {
      "cell_type": "markdown",
      "metadata": {
        "id": "0xwK85HmsRaT"
      },
      "source": [
        "**If running off a local machine, this line of code must be run to install all dependencies**\n",
        "\n",
        "---\n",
        "\n"
      ]
    },
    {
      "cell_type": "code",
      "execution_count": null,
      "metadata": {
        "colab": {
          "base_uri": "https://localhost:8080/",
          "height": 1000
        },
        "id": "i23KPhcisdD7",
        "outputId": "2de4c2d6-313c-4cd3-a1df-8fb56fc0c5a4"
      },
      "outputs": [
        {
          "name": "stdout",
          "output_type": "stream",
          "text": [
            "Looking in indexes: https://pypi.org/simple, https://us-python.pkg.dev/colab-wheels/public/simple/\n",
            "Requirement already satisfied: tensorflow in /usr/local/lib/python3.8/dist-packages (2.9.2)\n",
            "Collecting tensorflow-gpu\n",
            "  Downloading tensorflow_gpu-2.11.0-cp38-cp38-manylinux_2_17_x86_64.manylinux2014_x86_64.whl (588.3 MB)\n",
            "\u001b[2K     \u001b[90m━━━━━━━━━━━━━━━━━━━━━━━━━━━━━━━━━━━━━━━\u001b[0m \u001b[32m588.3/588.3 MB\u001b[0m \u001b[31m2.3 MB/s\u001b[0m eta \u001b[36m0:00:00\u001b[0m\n",
            "\u001b[?25hRequirement already satisfied: opencv-python in /usr/local/lib/python3.8/dist-packages (4.6.0.66)\n",
            "Requirement already satisfied: matplotlib in /usr/local/lib/python3.8/dist-packages (3.2.2)\n",
            "Requirement already satisfied: six>=1.12.0 in /usr/local/lib/python3.8/dist-packages (from tensorflow) (1.15.0)\n",
            "Requirement already satisfied: keras<2.10.0,>=2.9.0rc0 in /usr/local/lib/python3.8/dist-packages (from tensorflow) (2.9.0)\n",
            "Requirement already satisfied: flatbuffers<2,>=1.12 in /usr/local/lib/python3.8/dist-packages (from tensorflow) (1.12)\n",
            "Requirement already satisfied: protobuf<3.20,>=3.9.2 in /usr/local/lib/python3.8/dist-packages (from tensorflow) (3.19.6)\n",
            "Requirement already satisfied: tensorboard<2.10,>=2.9 in /usr/local/lib/python3.8/dist-packages (from tensorflow) (2.9.1)\n",
            "Requirement already satisfied: gast<=0.4.0,>=0.2.1 in /usr/local/lib/python3.8/dist-packages (from tensorflow) (0.4.0)\n",
            "Requirement already satisfied: grpcio<2.0,>=1.24.3 in /usr/local/lib/python3.8/dist-packages (from tensorflow) (1.51.1)\n",
            "Requirement already satisfied: google-pasta>=0.1.1 in /usr/local/lib/python3.8/dist-packages (from tensorflow) (0.2.0)\n",
            "Requirement already satisfied: wrapt>=1.11.0 in /usr/local/lib/python3.8/dist-packages (from tensorflow) (1.14.1)\n",
            "Requirement already satisfied: opt-einsum>=2.3.2 in /usr/local/lib/python3.8/dist-packages (from tensorflow) (3.3.0)\n",
            "Requirement already satisfied: h5py>=2.9.0 in /usr/local/lib/python3.8/dist-packages (from tensorflow) (3.1.0)\n",
            "Requirement already satisfied: keras-preprocessing>=1.1.1 in /usr/local/lib/python3.8/dist-packages (from tensorflow) (1.1.2)\n",
            "Requirement already satisfied: numpy>=1.20 in /usr/local/lib/python3.8/dist-packages (from tensorflow) (1.21.6)\n",
            "Requirement already satisfied: tensorflow-io-gcs-filesystem>=0.23.1 in /usr/local/lib/python3.8/dist-packages (from tensorflow) (0.29.0)\n",
            "Requirement already satisfied: packaging in /usr/local/lib/python3.8/dist-packages (from tensorflow) (21.3)\n",
            "Requirement already satisfied: setuptools in /usr/local/lib/python3.8/dist-packages (from tensorflow) (57.4.0)\n",
            "Requirement already satisfied: typing-extensions>=3.6.6 in /usr/local/lib/python3.8/dist-packages (from tensorflow) (4.4.0)\n",
            "Requirement already satisfied: tensorflow-estimator<2.10.0,>=2.9.0rc0 in /usr/local/lib/python3.8/dist-packages (from tensorflow) (2.9.0)\n",
            "Requirement already satisfied: libclang>=13.0.0 in /usr/local/lib/python3.8/dist-packages (from tensorflow) (15.0.6.1)\n",
            "Requirement already satisfied: astunparse>=1.6.0 in /usr/local/lib/python3.8/dist-packages (from tensorflow) (1.6.3)\n",
            "Requirement already satisfied: absl-py>=1.0.0 in /usr/local/lib/python3.8/dist-packages (from tensorflow) (1.3.0)\n",
            "Requirement already satisfied: termcolor>=1.1.0 in /usr/local/lib/python3.8/dist-packages (from tensorflow) (2.2.0)\n",
            "  Downloading tensorflow_gpu-2.10.1-cp38-cp38-manylinux_2_17_x86_64.manylinux2014_x86_64.whl (578.1 MB)\n",
            "\u001b[2K     \u001b[90m━━━━━━━━━━━━━━━━━━━━━━━━━━━━━━━━━━━━━━━\u001b[0m \u001b[32m578.1/578.1 MB\u001b[0m \u001b[31m2.8 MB/s\u001b[0m eta \u001b[36m0:00:00\u001b[0m\n",
            "\u001b[?25h  Downloading tensorflow_gpu-2.10.0-cp38-cp38-manylinux_2_17_x86_64.manylinux2014_x86_64.whl (578.1 MB)\n",
            "\u001b[2K     \u001b[90m━━━━━━━━━━━━━━━━━━━━━━━━━━━━━━━━━━━━━━━\u001b[0m \u001b[32m578.1/578.1 MB\u001b[0m \u001b[31m3.2 MB/s\u001b[0m eta \u001b[36m0:00:00\u001b[0m\n",
            "\u001b[?25h  Downloading tensorflow_gpu-2.9.3-cp38-cp38-manylinux_2_17_x86_64.manylinux2014_x86_64.whl (511.8 MB)\n",
            "\u001b[2K     \u001b[90m━━━━━━━━━━━━━━━━━━━━━━━━━━━━━━━━━━━━━━━\u001b[0m \u001b[32m511.8/511.8 MB\u001b[0m \u001b[31m3.5 MB/s\u001b[0m eta \u001b[36m0:00:00\u001b[0m\n",
            "\u001b[?25hRequirement already satisfied: kiwisolver>=1.0.1 in /usr/local/lib/python3.8/dist-packages (from matplotlib) (1.4.4)\n",
            "Requirement already satisfied: python-dateutil>=2.1 in /usr/local/lib/python3.8/dist-packages (from matplotlib) (2.8.2)\n",
            "Requirement already satisfied: pyparsing!=2.0.4,!=2.1.2,!=2.1.6,>=2.0.1 in /usr/local/lib/python3.8/dist-packages (from matplotlib) (3.0.9)\n",
            "Requirement already satisfied: cycler>=0.10 in /usr/local/lib/python3.8/dist-packages (from matplotlib) (0.11.0)\n",
            "Requirement already satisfied: wheel<1.0,>=0.23.0 in /usr/local/lib/python3.8/dist-packages (from astunparse>=1.6.0->tensorflow) (0.38.4)\n",
            "Requirement already satisfied: requests<3,>=2.21.0 in /usr/local/lib/python3.8/dist-packages (from tensorboard<2.10,>=2.9->tensorflow) (2.25.1)\n",
            "Requirement already satisfied: tensorboard-plugin-wit>=1.6.0 in /usr/local/lib/python3.8/dist-packages (from tensorboard<2.10,>=2.9->tensorflow) (1.8.1)\n",
            "Requirement already satisfied: werkzeug>=1.0.1 in /usr/local/lib/python3.8/dist-packages (from tensorboard<2.10,>=2.9->tensorflow) (1.0.1)\n",
            "Requirement already satisfied: google-auth-oauthlib<0.5,>=0.4.1 in /usr/local/lib/python3.8/dist-packages (from tensorboard<2.10,>=2.9->tensorflow) (0.4.6)\n",
            "Requirement already satisfied: markdown>=2.6.8 in /usr/local/lib/python3.8/dist-packages (from tensorboard<2.10,>=2.9->tensorflow) (3.4.1)\n",
            "Requirement already satisfied: google-auth<3,>=1.6.3 in /usr/local/lib/python3.8/dist-packages (from tensorboard<2.10,>=2.9->tensorflow) (2.16.0)\n",
            "Requirement already satisfied: tensorboard-data-server<0.7.0,>=0.6.0 in /usr/local/lib/python3.8/dist-packages (from tensorboard<2.10,>=2.9->tensorflow) (0.6.1)\n",
            "Requirement already satisfied: cachetools<6.0,>=2.0.0 in /usr/local/lib/python3.8/dist-packages (from google-auth<3,>=1.6.3->tensorboard<2.10,>=2.9->tensorflow) (5.2.1)\n",
            "Requirement already satisfied: rsa<5,>=3.1.4 in /usr/local/lib/python3.8/dist-packages (from google-auth<3,>=1.6.3->tensorboard<2.10,>=2.9->tensorflow) (4.9)\n",
            "Requirement already satisfied: pyasn1-modules>=0.2.1 in /usr/local/lib/python3.8/dist-packages (from google-auth<3,>=1.6.3->tensorboard<2.10,>=2.9->tensorflow) (0.2.8)\n",
            "Requirement already satisfied: requests-oauthlib>=0.7.0 in /usr/local/lib/python3.8/dist-packages (from google-auth-oauthlib<0.5,>=0.4.1->tensorboard<2.10,>=2.9->tensorflow) (1.3.1)\n",
            "Requirement already satisfied: importlib-metadata>=4.4 in /usr/local/lib/python3.8/dist-packages (from markdown>=2.6.8->tensorboard<2.10,>=2.9->tensorflow) (6.0.0)\n",
            "Requirement already satisfied: certifi>=2017.4.17 in /usr/local/lib/python3.8/dist-packages (from requests<3,>=2.21.0->tensorboard<2.10,>=2.9->tensorflow) (2022.12.7)\n",
            "Requirement already satisfied: urllib3<1.27,>=1.21.1 in /usr/local/lib/python3.8/dist-packages (from requests<3,>=2.21.0->tensorboard<2.10,>=2.9->tensorflow) (1.24.3)\n",
            "Requirement already satisfied: chardet<5,>=3.0.2 in /usr/local/lib/python3.8/dist-packages (from requests<3,>=2.21.0->tensorboard<2.10,>=2.9->tensorflow) (4.0.0)\n",
            "Requirement already satisfied: idna<3,>=2.5 in /usr/local/lib/python3.8/dist-packages (from requests<3,>=2.21.0->tensorboard<2.10,>=2.9->tensorflow) (2.10)\n",
            "Requirement already satisfied: zipp>=0.5 in /usr/local/lib/python3.8/dist-packages (from importlib-metadata>=4.4->markdown>=2.6.8->tensorboard<2.10,>=2.9->tensorflow) (3.11.0)\n",
            "Requirement already satisfied: pyasn1<0.5.0,>=0.4.6 in /usr/local/lib/python3.8/dist-packages (from pyasn1-modules>=0.2.1->google-auth<3,>=1.6.3->tensorboard<2.10,>=2.9->tensorflow) (0.4.8)\n",
            "Requirement already satisfied: oauthlib>=3.0.0 in /usr/local/lib/python3.8/dist-packages (from requests-oauthlib>=0.7.0->google-auth-oauthlib<0.5,>=0.4.1->tensorboard<2.10,>=2.9->tensorflow) (3.2.2)\n",
            "Installing collected packages: tensorflow-gpu\n",
            "Successfully installed tensorflow-gpu-2.9.3\n"
          ]
        },
        {
          "data": {
            "application/vnd.colab-display-data+json": {
              "pip_warning": {
                "packages": [
                  "tensorflow"
                ]
              }
            }
          },
          "metadata": {},
          "output_type": "display_data"
        }
      ],
      "source": [
        "!pip install tensorflow tensorflow-gpu opencv-python matplotlib #! || % at the beginning"
      ]
    },
    {
      "cell_type": "markdown",
      "metadata": {
        "id": "JN60NljZq1_c"
      },
      "source": [
        "**Importing and loading the data**\n",
        "\n",
        "---\n",
        "\n"
      ]
    },
    {
      "cell_type": "markdown",
      "metadata": {
        "id": "n6XRz8vUswae"
      },
      "source": [
        "To import our data, we're going to be using an approach known as \"Supervised learning\". This is defined through pre-labelled datasets which the AI will be trained on. This is the best approach to solve a classification problem as the model can adjust itself and learn from its mistakes."
      ]
    },
    {
      "cell_type": "markdown",
      "metadata": {
        "id": "TrsCD9TS26Lt"
      },
      "source": [
        "https://www.youtube.com/watch?v=_L2uYfVV48I\n",
        "\n",
        "This is something that you do only for toy datasets or small sample sets. In the reality using image data generator is not recommended when you have huge volumes of images or video frames (which is usually the case). In those cases is a good practice to load and split the data across multiple tfrecords, then loading it progressively with tf.data and perform multithreaded augmentations dynamically during training. The majority of the augmentations can be computed using low level tf or common python functions."
      ]
    },
    {
      "cell_type": "code",
      "execution_count": 25,
      "metadata": {
        "id": "eqHD8gInq9Lo"
      },
      "outputs": [],
      "source": [
        "labels = ['glioma_tumor', 'meningioma_tumor', 'no_tumor', 'pituitary_tumor']"
      ]
    },
    {
      "cell_type": "markdown",
      "metadata": {
        "id": "pH9nl4esw2Ws"
      },
      "source": [
        "**Loading the images**\n",
        "\n",
        "---\n",
        "\n"
      ]
    },
    {
      "cell_type": "markdown",
      "metadata": {
        "id": "lEQV_i18Y3gh"
      },
      "source": [
        "**When using Colab, run the following lines of code from Google drive**"
      ]
    },
    {
      "cell_type": "code",
      "execution_count": 26,
      "metadata": {
        "id": "rLf1DwtKY3gi"
      },
      "outputs": [],
      "source": [
        "testing_path = '/content/drive/MyDrive/data/archive/Testing'\n",
        "training_path = '/content/drive/MyDrive/data/archive/Training'\n",
        "validation_path = '/content/drive/MyDrive/data/archive/Validation'"
      ]
    },
    {
      "cell_type": "markdown",
      "metadata": {
        "id": "OO4Euhf0Y3gj"
      },
      "source": [
        "**If using the downloaded local file, run these lines of code**"
      ]
    },
    {
      "cell_type": "code",
      "execution_count": null,
      "metadata": {
        "id": "bRg9HgRGY3gj"
      },
      "outputs": [],
      "source": [
        "testing_path = '../Archive/Testing/'\n",
        "training_path = '../Archive/Training/'\n",
        "validation_path = '../Archive/Validation/'"
      ]
    },
    {
      "cell_type": "markdown",
      "metadata": {
        "id": "n0vWjgUDZXox"
      },
      "source": [
        "Do **NOT** run them both, this will cause errors, only run the one which is applicable to you"
      ]
    },
    {
      "cell_type": "markdown",
      "source": [
        "**Performing a validation split**\n",
        "\n",
        "---\n",
        "\n"
      ],
      "metadata": {
        "id": "jkbF_f2ZsJh1"
      }
    },
    {
      "cell_type": "markdown",
      "source": [
        "Validation is typically recommended to be split 80/20"
      ],
      "metadata": {
        "id": "uc2FHuAcsOjn"
      }
    },
    {
      "cell_type": "markdown",
      "metadata": {
        "id": "XESSJtE1_eIA"
      },
      "source": [
        "Splitting data into testing, training and validation"
      ]
    },
    {
      "cell_type": "code",
      "source": [
        "for label in labels:\n",
        "  train_dir = os.path.join(training_path, label)\n",
        "  valid_dir = os.path.join(validation_path, label)\n",
        "  T_files = os.listdir(train_dir)\n",
        "  valid_split = int(len(T_files) * 0.2)\n",
        "  valid_files = random.sample(T_files, valid_split)\n",
        "  for file in valid_files:\n",
        "    src = os.path.join(train_dir, file)\n",
        "    dst = os.path.join(valid_dir, file)\n",
        "    shutil.move(src, dst)\n",
        "\n",
        "#https://www.v7labs.com/blog/train-validation-test-set"
      ],
      "metadata": {
        "id": "RVo55_Lw_4ao"
      },
      "execution_count": null,
      "outputs": []
    },
    {
      "cell_type": "code",
      "source": [
        "for label in labels:\n",
        "  vlid_dir = os.path.join(validation_path, label)\n",
        "  "
      ],
      "metadata": {
        "id": "p_mWzl1sPi2C"
      },
      "execution_count": null,
      "outputs": []
    },
    {
      "cell_type": "code",
      "execution_count": null,
      "metadata": {
        "id": "merjq1--_eIB",
        "outputId": "76d3de0a-85e7-4e99-d4d9-033799518933",
        "colab": {
          "base_uri": "https://localhost:8080/",
          "height": 425
        }
      },
      "outputs": [
        {
          "output_type": "stream",
          "name": "stdout",
          "text": [
            "Found 394 files belonging to 4 classes.\n",
            "Found 2870 files belonging to 4 classes.\n"
          ]
        },
        {
          "output_type": "error",
          "ename": "ValueError",
          "evalue": "ignored",
          "traceback": [
            "\u001b[0;31m---------------------------------------------------------------------------\u001b[0m",
            "\u001b[0;31mValueError\u001b[0m                                Traceback (most recent call last)",
            "\u001b[0;32m<ipython-input-4-43678a790fff>\u001b[0m in \u001b[0;36m<module>\u001b[0;34m\u001b[0m\n\u001b[1;32m     19\u001b[0m )\n\u001b[1;32m     20\u001b[0m \u001b[0;34m\u001b[0m\u001b[0m\n\u001b[0;32m---> 21\u001b[0;31m validgen = tf.keras.preprocessing.image_dataset_from_directory(\n\u001b[0m\u001b[1;32m     22\u001b[0m     \u001b[0mdirectory\u001b[0m \u001b[0;34m=\u001b[0m \u001b[0mvalidation_path\u001b[0m\u001b[0;34m,\u001b[0m\u001b[0;34m\u001b[0m\u001b[0;34m\u001b[0m\u001b[0m\n\u001b[1;32m     23\u001b[0m     \u001b[0mlabels\u001b[0m \u001b[0;34m=\u001b[0m \u001b[0;34m'inferred'\u001b[0m\u001b[0;34m,\u001b[0m\u001b[0;34m\u001b[0m\u001b[0;34m\u001b[0m\u001b[0m\n",
            "\u001b[0;32m/usr/local/lib/python3.8/dist-packages/keras/utils/image_dataset.py\u001b[0m in \u001b[0;36mimage_dataset_from_directory\u001b[0;34m(directory, labels, label_mode, class_names, color_mode, batch_size, image_size, shuffle, seed, validation_split, subset, interpolation, follow_links, crop_to_aspect_ratio, **kwargs)\u001b[0m\n\u001b[1;32m    205\u001b[0m     \u001b[0;32mif\u001b[0m \u001b[0mseed\u001b[0m \u001b[0;32mis\u001b[0m \u001b[0;32mNone\u001b[0m\u001b[0;34m:\u001b[0m\u001b[0;34m\u001b[0m\u001b[0;34m\u001b[0m\u001b[0m\n\u001b[1;32m    206\u001b[0m         \u001b[0mseed\u001b[0m \u001b[0;34m=\u001b[0m \u001b[0mnp\u001b[0m\u001b[0;34m.\u001b[0m\u001b[0mrandom\u001b[0m\u001b[0;34m.\u001b[0m\u001b[0mrandint\u001b[0m\u001b[0;34m(\u001b[0m\u001b[0;36m1e6\u001b[0m\u001b[0;34m)\u001b[0m\u001b[0;34m\u001b[0m\u001b[0;34m\u001b[0m\u001b[0m\n\u001b[0;32m--> 207\u001b[0;31m     image_paths, labels, class_names = dataset_utils.index_directory(\n\u001b[0m\u001b[1;32m    208\u001b[0m         \u001b[0mdirectory\u001b[0m\u001b[0;34m,\u001b[0m\u001b[0;34m\u001b[0m\u001b[0;34m\u001b[0m\u001b[0m\n\u001b[1;32m    209\u001b[0m         \u001b[0mlabels\u001b[0m\u001b[0;34m,\u001b[0m\u001b[0;34m\u001b[0m\u001b[0;34m\u001b[0m\u001b[0m\n",
            "\u001b[0;32m/usr/local/lib/python3.8/dist-packages/keras/utils/dataset_utils.py\u001b[0m in \u001b[0;36mindex_directory\u001b[0;34m(directory, labels, formats, class_names, shuffle, seed, follow_links)\u001b[0m\n\u001b[1;32m    541\u001b[0m         \u001b[0;32melse\u001b[0m\u001b[0;34m:\u001b[0m\u001b[0;34m\u001b[0m\u001b[0;34m\u001b[0m\u001b[0m\n\u001b[1;32m    542\u001b[0m             \u001b[0;32mif\u001b[0m \u001b[0mset\u001b[0m\u001b[0;34m(\u001b[0m\u001b[0mclass_names\u001b[0m\u001b[0;34m)\u001b[0m \u001b[0;34m!=\u001b[0m \u001b[0mset\u001b[0m\u001b[0;34m(\u001b[0m\u001b[0msubdirs\u001b[0m\u001b[0;34m)\u001b[0m\u001b[0;34m:\u001b[0m\u001b[0;34m\u001b[0m\u001b[0;34m\u001b[0m\u001b[0m\n\u001b[0;32m--> 543\u001b[0;31m                 raise ValueError(\n\u001b[0m\u001b[1;32m    544\u001b[0m                     \u001b[0;34m\"The `class_names` passed did not match the \"\u001b[0m\u001b[0;34m\u001b[0m\u001b[0;34m\u001b[0m\u001b[0m\n\u001b[1;32m    545\u001b[0m                     \u001b[0;34m\"names of the subdirectories of the target directory. \"\u001b[0m\u001b[0;34m\u001b[0m\u001b[0;34m\u001b[0m\u001b[0m\n",
            "\u001b[0;31mValueError\u001b[0m: The `class_names` passed did not match the names of the subdirectories of the target directory. Expected: [], but received: ['glioma_tumor', 'meningioma_tumor', 'no_tumor', 'pituitary_tumor']"
          ]
        }
      ],
      "source": [
        "testgen = tf.keras.preprocessing.image_dataset_from_directory(\n",
        "    directory = testing_path,\n",
        "    labels = 'inferred',\n",
        "    label_mode= 'categorical',\n",
        "    class_names = ['glioma_tumor', 'meningioma_tumor', 'no_tumor', 'pituitary_tumor'],\n",
        "    batch_size = 32,\n",
        "    image_size = (150, 150),\n",
        "    shuffle = True\n",
        ")\n",
        "\n",
        "traingen = tf.keras.preprocessing.image_dataset_from_directory(\n",
        "    directory = training_path,\n",
        "    labels = 'inferred',\n",
        "    label_mode= 'categorical',\n",
        "    class_names = ['glioma_tumor', 'meningioma_tumor', 'no_tumor', 'pituitary_tumor'],\n",
        "    batch_size = 32,\n",
        "    image_size = (150, 150),\n",
        "    shuffle = True\n",
        ")\n",
        "\n",
        "validgen = tf.keras.preprocessing.image_dataset_from_directory(\n",
        "    directory = validation_path,\n",
        "    labels = 'inferred',\n",
        "    label_mode= 'categorical',\n",
        "    class_names = ['glioma_tumor', 'meningioma_tumor', 'no_tumor', 'pituitary_tumor'],\n",
        "    batch_size = 32,\n",
        "    image_size = (150, 150),\n",
        "    shuffle = True\n",
        ")"
      ]
    },
    {
      "cell_type": "code",
      "source": [
        "#https://ibrahimsobh.github.io/kaggle-COVID19-Classification/\n",
        "#https://www.datacamp.com/tutorial/complete-guide-data-augmentation\n",
        "#https://kylewbanks.com/blog/train-validation-split-with-imagedatagenerator-keras"
      ],
      "metadata": {
        "id": "euSJF5lK-XIp"
      },
      "execution_count": null,
      "outputs": []
    },
    {
      "cell_type": "code",
      "execution_count": 27,
      "metadata": {
        "colab": {
          "base_uri": "https://localhost:8080/"
        },
        "id": "EL9s954SlLvg",
        "outputId": "a938339f-344d-49c4-a4be-5552ff1994e2"
      },
      "outputs": [
        {
          "output_type": "stream",
          "name": "stdout",
          "text": [
            "Found 394 images belonging to 4 classes.\n",
            "Found 2297 images belonging to 4 classes.\n"
          ]
        }
      ],
      "source": [
        "#https://studymachinelearning.com/keras-imagedatagenerator-with-flow_from_directory/\n",
        "#https://stackoverflow.com/questions/54263218/cnn-divide-images-into-training-validation-testing\n",
        "\n",
        "img_size = 150 #Likely not necessary but could be used\n",
        "\n",
        "classes = 4\n",
        "#Normalising pixel values to be between 0 and 1\n",
        "testing_data_generator = ImageDataGenerator(rescale = 1./255)\n",
        "training_data_generator = ImageDataGenerator(rescale = 1./255, shear_range=0.2, zoom_range=0.2, horizontal_flip=True)\n",
        "validation_data_generator = ImageDataGenerator(rescale = 1./255)\n",
        "\n",
        "testing_generator = testing_data_generator.flow_from_directory (testing_path,\n",
        "                                                                target_size = (150, 150),\n",
        "                                                                color_mode = 'rgb',\n",
        "                                                                save_format = 'jpg',\n",
        "                                                                batch_size = 32,\n",
        "                                                                class_mode = 'categorical', #Automatically converts the class labels to a one-hot encoded form\n",
        "                                                                classes = ['glioma_tumor', 'meningioma_tumor', 'no_tumor', 'pituitary_tumor'])\n",
        "\n",
        "#Need to check these two and make sure they're configured correctly\n",
        "\n",
        "training_generator = training_data_generator.flow_from_directory (training_path,\n",
        "                                                                target_size = (150, 150),\n",
        "                                                                color_mode = 'rgb',\n",
        "                                                                save_format = 'jpg',\n",
        "                                                                batch_size = 32,\n",
        "                                                                class_mode = 'categorical',\n",
        "                                                                shuffle = True, #Prevents overfitting but when evaluating model keep the data in its original order\n",
        "                                                                subset = 'training',\n",
        "                                                                #validation_split = 0.2,\n",
        "                                                                classes = ['glioma_tumor', 'meningioma_tumor', 'no_tumor', 'pituitary_tumor'])\n",
        "\n",
        "#validation_generator = validation_data_generator.flow_from_directory (validation_path,\n",
        "                                                                #target_size = (150, 150),\n",
        "                                                                #color_mode = 'rgb',\n",
        "                                                                #save_format = 'jpg',\n",
        "                                                                #batch_size = 32,\n",
        "                                                                #class_mode = 'categorical',\n",
        "                                                                #subset = 'validation',\n",
        "                                                                #classes = ['glioma_tumor', 'meningioma_tumor', 'no_tumor', 'pituitary_tumor'])\n"
      ]
    },
    {
      "cell_type": "code",
      "source": [],
      "metadata": {
        "id": "aQB5jYloPchC"
      },
      "execution_count": null,
      "outputs": []
    },
    {
      "cell_type": "markdown",
      "source": [
        "Grabs data from the batch"
      ],
      "metadata": {
        "id": "I9NXEFXvA7A4"
      }
    },
    {
      "cell_type": "code",
      "execution_count": null,
      "metadata": {
        "id": "RLCtifJw_eIC"
      },
      "outputs": [],
      "source": [
        "batch = images, labels = next(training_generator)"
      ]
    },
    {
      "cell_type": "code",
      "source": [
        "label_keys = list(testing_generator.class_indices.keys()) # https://stackoverflow.com/questions/48373685/keras-imagedatagenerator-how-to-get-all-labels-from-data#51652128"
      ],
      "metadata": {
        "id": "alSFoLj9FSfT"
      },
      "execution_count": null,
      "outputs": []
    },
    {
      "cell_type": "code",
      "source": [
        "num_images = images.shape[0] #May remove"
      ],
      "metadata": {
        "id": "k9CPOCu9_-Pb"
      },
      "execution_count": null,
      "outputs": []
    },
    {
      "cell_type": "code",
      "source": [
        "ground_truth_labels = ['glioma_tumor', 'meningioma_tumor', 'no_tumor', 'pituitary_tumor']"
      ],
      "metadata": {
        "id": "UEyW7EPej9KS"
      },
      "execution_count": null,
      "outputs": []
    },
    {
      "cell_type": "code",
      "source": [
        "#NEED TO REWORK THIS - JUST AN EXAMPLE\n",
        "for i in range(num_images):\n",
        "  image = images[i]\n",
        "  label = labels[i]\n",
        "\n",
        "  label_index = label.argmax()\n",
        "\n",
        "  class_name = ['giloma_tumor', 'meningioma_tumor', 'no_tumor', 'pituitary_tumor'][label_index]\n",
        "\n",
        "  plt.imshow(image)\n",
        "  plt.title(class_name)\n",
        "  plt.show()"
      ],
      "metadata": {
        "id": "UJjVeUw3ACI9"
      },
      "execution_count": null,
      "outputs": []
    },
    {
      "cell_type": "code",
      "source": [
        "#for i in range(num_images):\n",
        "  \n",
        "\n",
        "fig, ax = plt.subplots(ncols=4, figsize=(20,20))\n",
        "fig.text(s='Batch images', size = 18, fontweight = 'bold', fontname = 'monospace', y=0.62, x=0.4, alpha=0.8)\n",
        "for i in range(4):\n",
        "  image = images[i]\n",
        "  label = labels[i]\n",
        "  label_index = label.argmax() #Because it's one-hot encoded it's pulling the highest value\n",
        "  class_name = ['glioma_tumor', 'meningioma_tumor', 'no_tumor', 'pituitary_tumor'][label_index]\n",
        "  ax[i].imshow(images[i])\n",
        "  ax[i].set_title(class_name)\n",
        "  \n",
        "#plt.imshow(image)\n",
        "#plt.title(class_name)\n",
        "#plt.show()\n",
        "#for idx, img in enumerate(batch[0][:4]):\n",
        "  #ax[idx].imshow(image)\n",
        "  #ax[idx].title.set_text(class_name)"
      ],
      "metadata": {
        "colab": {
          "base_uri": "https://localhost:8080/",
          "height": 353
        },
        "id": "HMdoR19sBYtw",
        "outputId": "792b8a2e-10cd-4c7b-b168-64ec326e88b3"
      },
      "execution_count": null,
      "outputs": [
        {
          "output_type": "display_data",
          "data": {
            "text/plain": [
              "<Figure size 1440x1440 with 4 Axes>"
            ],
            "image/png": "[encoded data removed]"
          },
          "metadata": {
            "needs_background": "light"
          }
        }
      ]
    },
    {
      "cell_type": "markdown",
      "source": [
        "Build the model"
      ],
      "metadata": {
        "id": "Msz_AU6Lrxl-"
      }
    },
    {
      "cell_type": "markdown",
      "source": [
        "Transfer learning"
      ],
      "metadata": {
        "id": "DBrmPnwLTGLD"
      }
    },
    {
      "cell_type": "markdown",
      "source": [
        "Source: https://keras.io/examples/vision/image_classification_efficientnet_fine_tuning/"
      ],
      "metadata": {
        "id": "eNq2uwwadH26"
      }
    },
    {
      "cell_type": "markdown",
      "source": [
        "![Screenshot 2023-03-02 175223.png](data:image/png;base64,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)"
      ],
      "metadata": {
        "id": "OlN1-U7jc7wU"
      }
    },
    {
      "cell_type": "code",
      "source": [
        "#Define the model\n",
        "trnsfer_model = tf.keras.applications.InceptionV3(weights='imagenet', include_top=False, input_shape=(img_size, img_size, 3))\n",
        "\n",
        "#freeze the model\n",
        "#trnsfer_model.trainable = False\n",
        "\n",
        "#freeze model layers\n",
        "for layer in trnsfer_model.layers:\n",
        "  layer.trainable = False"
      ],
      "metadata": {
        "id": "9MBJfO1VTHv0",
        "colab": {
          "base_uri": "https://localhost:8080/"
        },
        "outputId": "131704d1-6e9c-40b7-936a-88bb037a3d92"
      },
      "execution_count": 28,
      "outputs": [
        {
          "output_type": "stream",
          "name": "stdout",
          "text": [
            "Downloading data from https://storage.googleapis.com/tensorflow/keras-applications/inception_v3/inception_v3_weights_tf_dim_ordering_tf_kernels_notop.h5\n",
            "87910968/87910968 [==============================] - 6s 0us/step\n"
          ]
        }
      ]
    },
    {
      "cell_type": "markdown",
      "source": [
        "Model"
      ],
      "metadata": {
        "id": "ujc2E9APbVP0"
      }
    },
    {
      "cell_type": "markdown",
      "source": [
        "https://stackoverflow.com/questions/53825007/keras-cnn-model-training-time"
      ],
      "metadata": {
        "id": "ztiVg4Vinnmm"
      }
    },
    {
      "cell_type": "code",
      "source": [
        "model = trnsfer_model.output\n",
        "model = tf.keras.layers.GlobalAveragePooling2D()(model)\n",
        "model = tf.keras.layers.Dense(128, activation='relu')(model)\n",
        "model = tf.keras.layers.Dropout(0.5)(model)\n",
        "predict = tf.keras.layers.Dense(classes, activation='softmax')(model)\n",
        "\n",
        "#for layer in trnsfer_model.layers[-5:]:\n",
        "  #layer.trainable = True\n",
        "\n",
        "model = keras.Model(inputs=trnsfer_model.input, outputs=predict)\n",
        "model.summary()\n",
        "#model.fit(training_generator, epochs=10, validation_data=validation_data_generator)"
      ],
      "metadata": {
        "id": "jMqfgCh7bWBr"
      },
      "execution_count": null,
      "outputs": []
    },
    {
      "cell_type": "code",
      "source": [
        "x = trnsfer_model.output\n",
        "x = tf.keras.layers.GlobalAveragePooling2D()(x)\n",
        "x = tf.keras.layers.Dense(1024, activation='relu')(x)\n",
        "x = tf.keras.layers.Dropout(0.2)(x)\n",
        "x = tf.keras.layers.Dense(512, activation='relu')(x)\n",
        "x = tf.keras.layers.Dropout(0.2)(x)\n",
        "predictions = tf.keras.layers.Dense(4, activation='softmax')(x)\n",
        "model = tf.keras.models.Model(inputs=trnsfer_model.input, outputs=predictions)\n",
        "model.summary()"
      ],
      "metadata": {
        "id": "LSJ1rQidXqCZ",
        "outputId": "fd48dd5c-a692-4356-d981-cca5c5e8d972",
        "colab": {
          "base_uri": "https://localhost:8080/"
        }
      },
      "execution_count": 29,
      "outputs": [
        {
          "output_type": "stream",
          "name": "stdout",
          "text": [
            "Model: \"model_2\"\n",
            "__________________________________________________________________________________________________\n",
            " Layer (type)                   Output Shape         Param #     Connected to                     \n",
            "==================================================================================================\n",
            " input_3 (InputLayer)           [(None, 150, 150, 3  0           []                               \n",
            "                                )]                                                                \n",
            "                                                                                                  \n",
            " conv2d (Conv2D)                (None, 74, 74, 32)   864         ['input_3[0][0]']                \n",
            "                                                                                                  \n",
            " batch_normalization (BatchNorm  (None, 74, 74, 32)  96          ['conv2d[0][0]']                 \n",
            " alization)                                                                                       \n",
            "                                                                                                  \n",
            " activation (Activation)        (None, 74, 74, 32)   0           ['batch_normalization[0][0]']    \n",
            "                                                                                                  \n",
            " conv2d_1 (Conv2D)              (None, 72, 72, 32)   9216        ['activation[0][0]']             \n",
            "                                                                                                  \n",
            " batch_normalization_1 (BatchNo  (None, 72, 72, 32)  96          ['conv2d_1[0][0]']               \n",
            " rmalization)                                                                                     \n",
            "                                                                                                  \n",
            " activation_1 (Activation)      (None, 72, 72, 32)   0           ['batch_normalization_1[0][0]']  \n",
            "                                                                                                  \n",
            " conv2d_2 (Conv2D)              (None, 72, 72, 64)   18432       ['activation_1[0][0]']           \n",
            "                                                                                                  \n",
            " batch_normalization_2 (BatchNo  (None, 72, 72, 64)  192         ['conv2d_2[0][0]']               \n",
            " rmalization)                                                                                     \n",
            "                                                                                                  \n",
            " activation_2 (Activation)      (None, 72, 72, 64)   0           ['batch_normalization_2[0][0]']  \n",
            "                                                                                                  \n",
            " max_pooling2d (MaxPooling2D)   (None, 35, 35, 64)   0           ['activation_2[0][0]']           \n",
            "                                                                                                  \n",
            " conv2d_3 (Conv2D)              (None, 35, 35, 80)   5120        ['max_pooling2d[0][0]']          \n",
            "                                                                                                  \n",
            " batch_normalization_3 (BatchNo  (None, 35, 35, 80)  240         ['conv2d_3[0][0]']               \n",
            " rmalization)                                                                                     \n",
            "                                                                                                  \n",
            " activation_3 (Activation)      (None, 35, 35, 80)   0           ['batch_normalization_3[0][0]']  \n",
            "                                                                                                  \n",
            " conv2d_4 (Conv2D)              (None, 33, 33, 192)  138240      ['activation_3[0][0]']           \n",
            "                                                                                                  \n",
            " batch_normalization_4 (BatchNo  (None, 33, 33, 192)  576        ['conv2d_4[0][0]']               \n",
            " rmalization)                                                                                     \n",
            "                                                                                                  \n",
            " activation_4 (Activation)      (None, 33, 33, 192)  0           ['batch_normalization_4[0][0]']  \n",
            "                                                                                                  \n",
            " max_pooling2d_1 (MaxPooling2D)  (None, 16, 16, 192)  0          ['activation_4[0][0]']           \n",
            "                                                                                                  \n",
            " conv2d_8 (Conv2D)              (None, 16, 16, 64)   12288       ['max_pooling2d_1[0][0]']        \n",
            "                                                                                                  \n",
            " batch_normalization_8 (BatchNo  (None, 16, 16, 64)  192         ['conv2d_8[0][0]']               \n",
            " rmalization)                                                                                     \n",
            "                                                                                                  \n",
            " activation_8 (Activation)      (None, 16, 16, 64)   0           ['batch_normalization_8[0][0]']  \n",
            "                                                                                                  \n",
            " conv2d_6 (Conv2D)              (None, 16, 16, 48)   9216        ['max_pooling2d_1[0][0]']        \n",
            "                                                                                                  \n",
            " conv2d_9 (Conv2D)              (None, 16, 16, 96)   55296       ['activation_8[0][0]']           \n",
            "                                                                                                  \n",
            " batch_normalization_6 (BatchNo  (None, 16, 16, 48)  144         ['conv2d_6[0][0]']               \n",
            " rmalization)                                                                                     \n",
            "                                                                                                  \n",
            " batch_normalization_9 (BatchNo  (None, 16, 16, 96)  288         ['conv2d_9[0][0]']               \n",
            " rmalization)                                                                                     \n",
            "                                                                                                  \n",
            " activation_6 (Activation)      (None, 16, 16, 48)   0           ['batch_normalization_6[0][0]']  \n",
            "                                                                                                  \n",
            " activation_9 (Activation)      (None, 16, 16, 96)   0           ['batch_normalization_9[0][0]']  \n",
            "                                                                                                  \n",
            " average_pooling2d (AveragePool  (None, 16, 16, 192)  0          ['max_pooling2d_1[0][0]']        \n",
            " ing2D)                                                                                           \n",
            "                                                                                                  \n",
            " conv2d_5 (Conv2D)              (None, 16, 16, 64)   12288       ['max_pooling2d_1[0][0]']        \n",
            "                                                                                                  \n",
            " conv2d_7 (Conv2D)              (None, 16, 16, 64)   76800       ['activation_6[0][0]']           \n",
            "                                                                                                  \n",
            " conv2d_10 (Conv2D)             (None, 16, 16, 96)   82944       ['activation_9[0][0]']           \n",
            "                                                                                                  \n",
            " conv2d_11 (Conv2D)             (None, 16, 16, 32)   6144        ['average_pooling2d[0][0]']      \n",
            "                                                                                                  \n",
            " batch_normalization_5 (BatchNo  (None, 16, 16, 64)  192         ['conv2d_5[0][0]']               \n",
            " rmalization)                                                                                     \n",
            "                                                                                                  \n",
            " batch_normalization_7 (BatchNo  (None, 16, 16, 64)  192         ['conv2d_7[0][0]']               \n",
            " rmalization)                                                                                     \n",
            "                                                                                                  \n",
            " batch_normalization_10 (BatchN  (None, 16, 16, 96)  288         ['conv2d_10[0][0]']              \n",
            " ormalization)                                                                                    \n",
            "                                                                                                  \n",
            " batch_normalization_11 (BatchN  (None, 16, 16, 32)  96          ['conv2d_11[0][0]']              \n",
            " ormalization)                                                                                    \n",
            "                                                                                                  \n",
            " activation_5 (Activation)      (None, 16, 16, 64)   0           ['batch_normalization_5[0][0]']  \n",
            "                                                                                                  \n",
            " activation_7 (Activation)      (None, 16, 16, 64)   0           ['batch_normalization_7[0][0]']  \n",
            "                                                                                                  \n",
            " activation_10 (Activation)     (None, 16, 16, 96)   0           ['batch_normalization_10[0][0]'] \n",
            "                                                                                                  \n",
            " activation_11 (Activation)     (None, 16, 16, 32)   0           ['batch_normalization_11[0][0]'] \n",
            "                                                                                                  \n",
            " mixed0 (Concatenate)           (None, 16, 16, 256)  0           ['activation_5[0][0]',           \n",
            "                                                                  'activation_7[0][0]',           \n",
            "                                                                  'activation_10[0][0]',          \n",
            "                                                                  'activation_11[0][0]']          \n",
            "                                                                                                  \n",
            " conv2d_15 (Conv2D)             (None, 16, 16, 64)   16384       ['mixed0[0][0]']                 \n",
            "                                                                                                  \n",
            " batch_normalization_15 (BatchN  (None, 16, 16, 64)  192         ['conv2d_15[0][0]']              \n",
            " ormalization)                                                                                    \n",
            "                                                                                                  \n",
            " activation_15 (Activation)     (None, 16, 16, 64)   0           ['batch_normalization_15[0][0]'] \n",
            "                                                                                                  \n",
            " conv2d_13 (Conv2D)             (None, 16, 16, 48)   12288       ['mixed0[0][0]']                 \n",
            "                                                                                                  \n",
            " conv2d_16 (Conv2D)             (None, 16, 16, 96)   55296       ['activation_15[0][0]']          \n",
            "                                                                                                  \n",
            " batch_normalization_13 (BatchN  (None, 16, 16, 48)  144         ['conv2d_13[0][0]']              \n",
            " ormalization)                                                                                    \n",
            "                                                                                                  \n",
            " batch_normalization_16 (BatchN  (None, 16, 16, 96)  288         ['conv2d_16[0][0]']              \n",
            " ormalization)                                                                                    \n",
            "                                                                                                  \n",
            " activation_13 (Activation)     (None, 16, 16, 48)   0           ['batch_normalization_13[0][0]'] \n",
            "                                                                                                  \n",
            " activation_16 (Activation)     (None, 16, 16, 96)   0           ['batch_normalization_16[0][0]'] \n",
            "                                                                                                  \n",
            " average_pooling2d_1 (AveragePo  (None, 16, 16, 256)  0          ['mixed0[0][0]']                 \n",
            " oling2D)                                                                                         \n",
            "                                                                                                  \n",
            " conv2d_12 (Conv2D)             (None, 16, 16, 64)   16384       ['mixed0[0][0]']                 \n",
            "                                                                                                  \n",
            " conv2d_14 (Conv2D)             (None, 16, 16, 64)   76800       ['activation_13[0][0]']          \n",
            "                                                                                                  \n",
            " conv2d_17 (Conv2D)             (None, 16, 16, 96)   82944       ['activation_16[0][0]']          \n",
            "                                                                                                  \n",
            " conv2d_18 (Conv2D)             (None, 16, 16, 64)   16384       ['average_pooling2d_1[0][0]']    \n",
            "                                                                                                  \n",
            " batch_normalization_12 (BatchN  (None, 16, 16, 64)  192         ['conv2d_12[0][0]']              \n",
            " ormalization)                                                                                    \n",
            "                                                                                                  \n",
            " batch_normalization_14 (BatchN  (None, 16, 16, 64)  192         ['conv2d_14[0][0]']              \n",
            " ormalization)                                                                                    \n",
            "                                                                                                  \n",
            " batch_normalization_17 (BatchN  (None, 16, 16, 96)  288         ['conv2d_17[0][0]']              \n",
            " ormalization)                                                                                    \n",
            "                                                                                                  \n",
            " batch_normalization_18 (BatchN  (None, 16, 16, 64)  192         ['conv2d_18[0][0]']              \n",
            " ormalization)                                                                                    \n",
            "                                                                                                  \n",
            " activation_12 (Activation)     (None, 16, 16, 64)   0           ['batch_normalization_12[0][0]'] \n",
            "                                                                                                  \n",
            " activation_14 (Activation)     (None, 16, 16, 64)   0           ['batch_normalization_14[0][0]'] \n",
            "                                                                                                  \n",
            " activation_17 (Activation)     (None, 16, 16, 96)   0           ['batch_normalization_17[0][0]'] \n",
            "                                                                                                  \n",
            " activation_18 (Activation)     (None, 16, 16, 64)   0           ['batch_normalization_18[0][0]'] \n",
            "                                                                                                  \n",
            " mixed1 (Concatenate)           (None, 16, 16, 288)  0           ['activation_12[0][0]',          \n",
            "                                                                  'activation_14[0][0]',          \n",
            "                                                                  'activation_17[0][0]',          \n",
            "                                                                  'activation_18[0][0]']          \n",
            "                                                                                                  \n",
            " conv2d_22 (Conv2D)             (None, 16, 16, 64)   18432       ['mixed1[0][0]']                 \n",
            "                                                                                                  \n",
            " batch_normalization_22 (BatchN  (None, 16, 16, 64)  192         ['conv2d_22[0][0]']              \n",
            " ormalization)                                                                                    \n",
            "                                                                                                  \n",
            " activation_22 (Activation)     (None, 16, 16, 64)   0           ['batch_normalization_22[0][0]'] \n",
            "                                                                                                  \n",
            " conv2d_20 (Conv2D)             (None, 16, 16, 48)   13824       ['mixed1[0][0]']                 \n",
            "                                                                                                  \n",
            " conv2d_23 (Conv2D)             (None, 16, 16, 96)   55296       ['activation_22[0][0]']          \n",
            "                                                                                                  \n",
            " batch_normalization_20 (BatchN  (None, 16, 16, 48)  144         ['conv2d_20[0][0]']              \n",
            " ormalization)                                                                                    \n",
            "                                                                                                  \n",
            " batch_normalization_23 (BatchN  (None, 16, 16, 96)  288         ['conv2d_23[0][0]']              \n",
            " ormalization)                                                                                    \n",
            "                                                                                                  \n",
            " activation_20 (Activation)     (None, 16, 16, 48)   0           ['batch_normalization_20[0][0]'] \n",
            "                                                                                                  \n",
            " activation_23 (Activation)     (None, 16, 16, 96)   0           ['batch_normalization_23[0][0]'] \n",
            "                                                                                                  \n",
            " average_pooling2d_2 (AveragePo  (None, 16, 16, 288)  0          ['mixed1[0][0]']                 \n",
            " oling2D)                                                                                         \n",
            "                                                                                                  \n",
            " conv2d_19 (Conv2D)             (None, 16, 16, 64)   18432       ['mixed1[0][0]']                 \n",
            "                                                                                                  \n",
            " conv2d_21 (Conv2D)             (None, 16, 16, 64)   76800       ['activation_20[0][0]']          \n",
            "                                                                                                  \n",
            " conv2d_24 (Conv2D)             (None, 16, 16, 96)   82944       ['activation_23[0][0]']          \n",
            "                                                                                                  \n",
            " conv2d_25 (Conv2D)             (None, 16, 16, 64)   18432       ['average_pooling2d_2[0][0]']    \n",
            "                                                                                                  \n",
            " batch_normalization_19 (BatchN  (None, 16, 16, 64)  192         ['conv2d_19[0][0]']              \n",
            " ormalization)                                                                                    \n",
            "                                                                                                  \n",
            " batch_normalization_21 (BatchN  (None, 16, 16, 64)  192         ['conv2d_21[0][0]']              \n",
            " ormalization)                                                                                    \n",
            "                                                                                                  \n",
            " batch_normalization_24 (BatchN  (None, 16, 16, 96)  288         ['conv2d_24[0][0]']              \n",
            " ormalization)                                                                                    \n",
            "                                                                                                  \n",
            " batch_normalization_25 (BatchN  (None, 16, 16, 64)  192         ['conv2d_25[0][0]']              \n",
            " ormalization)                                                                                    \n",
            "                                                                                                  \n",
            " activation_19 (Activation)     (None, 16, 16, 64)   0           ['batch_normalization_19[0][0]'] \n",
            "                                                                                                  \n",
            " activation_21 (Activation)     (None, 16, 16, 64)   0           ['batch_normalization_21[0][0]'] \n",
            "                                                                                                  \n",
            " activation_24 (Activation)     (None, 16, 16, 96)   0           ['batch_normalization_24[0][0]'] \n",
            "                                                                                                  \n",
            " activation_25 (Activation)     (None, 16, 16, 64)   0           ['batch_normalization_25[0][0]'] \n",
            "                                                                                                  \n",
            " mixed2 (Concatenate)           (None, 16, 16, 288)  0           ['activation_19[0][0]',          \n",
            "                                                                  'activation_21[0][0]',          \n",
            "                                                                  'activation_24[0][0]',          \n",
            "                                                                  'activation_25[0][0]']          \n",
            "                                                                                                  \n",
            " conv2d_27 (Conv2D)             (None, 16, 16, 64)   18432       ['mixed2[0][0]']                 \n",
            "                                                                                                  \n",
            " batch_normalization_27 (BatchN  (None, 16, 16, 64)  192         ['conv2d_27[0][0]']              \n",
            " ormalization)                                                                                    \n",
            "                                                                                                  \n",
            " activation_27 (Activation)     (None, 16, 16, 64)   0           ['batch_normalization_27[0][0]'] \n",
            "                                                                                                  \n",
            " conv2d_28 (Conv2D)             (None, 16, 16, 96)   55296       ['activation_27[0][0]']          \n",
            "                                                                                                  \n",
            " batch_normalization_28 (BatchN  (None, 16, 16, 96)  288         ['conv2d_28[0][0]']              \n",
            " ormalization)                                                                                    \n",
            "                                                                                                  \n",
            " activation_28 (Activation)     (None, 16, 16, 96)   0           ['batch_normalization_28[0][0]'] \n",
            "                                                                                                  \n",
            " conv2d_26 (Conv2D)             (None, 7, 7, 384)    995328      ['mixed2[0][0]']                 \n",
            "                                                                                                  \n",
            " conv2d_29 (Conv2D)             (None, 7, 7, 96)     82944       ['activation_28[0][0]']          \n",
            "                                                                                                  \n",
            " batch_normalization_26 (BatchN  (None, 7, 7, 384)   1152        ['conv2d_26[0][0]']              \n",
            " ormalization)                                                                                    \n",
            "                                                                                                  \n",
            " batch_normalization_29 (BatchN  (None, 7, 7, 96)    288         ['conv2d_29[0][0]']              \n",
            " ormalization)                                                                                    \n",
            "                                                                                                  \n",
            " activation_26 (Activation)     (None, 7, 7, 384)    0           ['batch_normalization_26[0][0]'] \n",
            "                                                                                                  \n",
            " activation_29 (Activation)     (None, 7, 7, 96)     0           ['batch_normalization_29[0][0]'] \n",
            "                                                                                                  \n",
            " max_pooling2d_2 (MaxPooling2D)  (None, 7, 7, 288)   0           ['mixed2[0][0]']                 \n",
            "                                                                                                  \n",
            " mixed3 (Concatenate)           (None, 7, 7, 768)    0           ['activation_26[0][0]',          \n",
            "                                                                  'activation_29[0][0]',          \n",
            "                                                                  'max_pooling2d_2[0][0]']        \n",
            "                                                                                                  \n",
            " conv2d_34 (Conv2D)             (None, 7, 7, 128)    98304       ['mixed3[0][0]']                 \n",
            "                                                                                                  \n",
            " batch_normalization_34 (BatchN  (None, 7, 7, 128)   384         ['conv2d_34[0][0]']              \n",
            " ormalization)                                                                                    \n",
            "                                                                                                  \n",
            " activation_34 (Activation)     (None, 7, 7, 128)    0           ['batch_normalization_34[0][0]'] \n",
            "                                                                                                  \n",
            " conv2d_35 (Conv2D)             (None, 7, 7, 128)    114688      ['activation_34[0][0]']          \n",
            "                                                                                                  \n",
            " batch_normalization_35 (BatchN  (None, 7, 7, 128)   384         ['conv2d_35[0][0]']              \n",
            " ormalization)                                                                                    \n",
            "                                                                                                  \n",
            " activation_35 (Activation)     (None, 7, 7, 128)    0           ['batch_normalization_35[0][0]'] \n",
            "                                                                                                  \n",
            " conv2d_31 (Conv2D)             (None, 7, 7, 128)    98304       ['mixed3[0][0]']                 \n",
            "                                                                                                  \n",
            " conv2d_36 (Conv2D)             (None, 7, 7, 128)    114688      ['activation_35[0][0]']          \n",
            "                                                                                                  \n",
            " batch_normalization_31 (BatchN  (None, 7, 7, 128)   384         ['conv2d_31[0][0]']              \n",
            " ormalization)                                                                                    \n",
            "                                                                                                  \n",
            " batch_normalization_36 (BatchN  (None, 7, 7, 128)   384         ['conv2d_36[0][0]']              \n",
            " ormalization)                                                                                    \n",
            "                                                                                                  \n",
            " activation_31 (Activation)     (None, 7, 7, 128)    0           ['batch_normalization_31[0][0]'] \n",
            "                                                                                                  \n",
            " activation_36 (Activation)     (None, 7, 7, 128)    0           ['batch_normalization_36[0][0]'] \n",
            "                                                                                                  \n",
            " conv2d_32 (Conv2D)             (None, 7, 7, 128)    114688      ['activation_31[0][0]']          \n",
            "                                                                                                  \n",
            " conv2d_37 (Conv2D)             (None, 7, 7, 128)    114688      ['activation_36[0][0]']          \n",
            "                                                                                                  \n",
            " batch_normalization_32 (BatchN  (None, 7, 7, 128)   384         ['conv2d_32[0][0]']              \n",
            " ormalization)                                                                                    \n",
            "                                                                                                  \n",
            " batch_normalization_37 (BatchN  (None, 7, 7, 128)   384         ['conv2d_37[0][0]']              \n",
            " ormalization)                                                                                    \n",
            "                                                                                                  \n",
            " activation_32 (Activation)     (None, 7, 7, 128)    0           ['batch_normalization_32[0][0]'] \n",
            "                                                                                                  \n",
            " activation_37 (Activation)     (None, 7, 7, 128)    0           ['batch_normalization_37[0][0]'] \n",
            "                                                                                                  \n",
            " average_pooling2d_3 (AveragePo  (None, 7, 7, 768)   0           ['mixed3[0][0]']                 \n",
            " oling2D)                                                                                         \n",
            "                                                                                                  \n",
            " conv2d_30 (Conv2D)             (None, 7, 7, 192)    147456      ['mixed3[0][0]']                 \n",
            "                                                                                                  \n",
            " conv2d_33 (Conv2D)             (None, 7, 7, 192)    172032      ['activation_32[0][0]']          \n",
            "                                                                                                  \n",
            " conv2d_38 (Conv2D)             (None, 7, 7, 192)    172032      ['activation_37[0][0]']          \n",
            "                                                                                                  \n",
            " conv2d_39 (Conv2D)             (None, 7, 7, 192)    147456      ['average_pooling2d_3[0][0]']    \n",
            "                                                                                                  \n",
            " batch_normalization_30 (BatchN  (None, 7, 7, 192)   576         ['conv2d_30[0][0]']              \n",
            " ormalization)                                                                                    \n",
            "                                                                                                  \n",
            " batch_normalization_33 (BatchN  (None, 7, 7, 192)   576         ['conv2d_33[0][0]']              \n",
            " ormalization)                                                                                    \n",
            "                                                                                                  \n",
            " batch_normalization_38 (BatchN  (None, 7, 7, 192)   576         ['conv2d_38[0][0]']              \n",
            " ormalization)                                                                                    \n",
            "                                                                                                  \n",
            " batch_normalization_39 (BatchN  (None, 7, 7, 192)   576         ['conv2d_39[0][0]']              \n",
            " ormalization)                                                                                    \n",
            "                                                                                                  \n",
            " activation_30 (Activation)     (None, 7, 7, 192)    0           ['batch_normalization_30[0][0]'] \n",
            "                                                                                                  \n",
            " activation_33 (Activation)     (None, 7, 7, 192)    0           ['batch_normalization_33[0][0]'] \n",
            "                                                                                                  \n",
            " activation_38 (Activation)     (None, 7, 7, 192)    0           ['batch_normalization_38[0][0]'] \n",
            "                                                                                                  \n",
            " activation_39 (Activation)     (None, 7, 7, 192)    0           ['batch_normalization_39[0][0]'] \n",
            "                                                                                                  \n",
            " mixed4 (Concatenate)           (None, 7, 7, 768)    0           ['activation_30[0][0]',          \n",
            "                                                                  'activation_33[0][0]',          \n",
            "                                                                  'activation_38[0][0]',          \n",
            "                                                                  'activation_39[0][0]']          \n",
            "                                                                                                  \n",
            " conv2d_44 (Conv2D)             (None, 7, 7, 160)    122880      ['mixed4[0][0]']                 \n",
            "                                                                                                  \n",
            " batch_normalization_44 (BatchN  (None, 7, 7, 160)   480         ['conv2d_44[0][0]']              \n",
            " ormalization)                                                                                    \n",
            "                                                                                                  \n",
            " activation_44 (Activation)     (None, 7, 7, 160)    0           ['batch_normalization_44[0][0]'] \n",
            "                                                                                                  \n",
            " conv2d_45 (Conv2D)             (None, 7, 7, 160)    179200      ['activation_44[0][0]']          \n",
            "                                                                                                  \n",
            " batch_normalization_45 (BatchN  (None, 7, 7, 160)   480         ['conv2d_45[0][0]']              \n",
            " ormalization)                                                                                    \n",
            "                                                                                                  \n",
            " activation_45 (Activation)     (None, 7, 7, 160)    0           ['batch_normalization_45[0][0]'] \n",
            "                                                                                                  \n",
            " conv2d_41 (Conv2D)             (None, 7, 7, 160)    122880      ['mixed4[0][0]']                 \n",
            "                                                                                                  \n",
            " conv2d_46 (Conv2D)             (None, 7, 7, 160)    179200      ['activation_45[0][0]']          \n",
            "                                                                                                  \n",
            " batch_normalization_41 (BatchN  (None, 7, 7, 160)   480         ['conv2d_41[0][0]']              \n",
            " ormalization)                                                                                    \n",
            "                                                                                                  \n",
            " batch_normalization_46 (BatchN  (None, 7, 7, 160)   480         ['conv2d_46[0][0]']              \n",
            " ormalization)                                                                                    \n",
            "                                                                                                  \n",
            " activation_41 (Activation)     (None, 7, 7, 160)    0           ['batch_normalization_41[0][0]'] \n",
            "                                                                                                  \n",
            " activation_46 (Activation)     (None, 7, 7, 160)    0           ['batch_normalization_46[0][0]'] \n",
            "                                                                                                  \n",
            " conv2d_42 (Conv2D)             (None, 7, 7, 160)    179200      ['activation_41[0][0]']          \n",
            "                                                                                                  \n",
            " conv2d_47 (Conv2D)             (None, 7, 7, 160)    179200      ['activation_46[0][0]']          \n",
            "                                                                                                  \n",
            " batch_normalization_42 (BatchN  (None, 7, 7, 160)   480         ['conv2d_42[0][0]']              \n",
            " ormalization)                                                                                    \n",
            "                                                                                                  \n",
            " batch_normalization_47 (BatchN  (None, 7, 7, 160)   480         ['conv2d_47[0][0]']              \n",
            " ormalization)                                                                                    \n",
            "                                                                                                  \n",
            " activation_42 (Activation)     (None, 7, 7, 160)    0           ['batch_normalization_42[0][0]'] \n",
            "                                                                                                  \n",
            " activation_47 (Activation)     (None, 7, 7, 160)    0           ['batch_normalization_47[0][0]'] \n",
            "                                                                                                  \n",
            " average_pooling2d_4 (AveragePo  (None, 7, 7, 768)   0           ['mixed4[0][0]']                 \n",
            " oling2D)                                                                                         \n",
            "                                                                                                  \n",
            " conv2d_40 (Conv2D)             (None, 7, 7, 192)    147456      ['mixed4[0][0]']                 \n",
            "                                                                                                  \n",
            " conv2d_43 (Conv2D)             (None, 7, 7, 192)    215040      ['activation_42[0][0]']          \n",
            "                                                                                                  \n",
            " conv2d_48 (Conv2D)             (None, 7, 7, 192)    215040      ['activation_47[0][0]']          \n",
            "                                                                                                  \n",
            " conv2d_49 (Conv2D)             (None, 7, 7, 192)    147456      ['average_pooling2d_4[0][0]']    \n",
            "                                                                                                  \n",
            " batch_normalization_40 (BatchN  (None, 7, 7, 192)   576         ['conv2d_40[0][0]']              \n",
            " ormalization)                                                                                    \n",
            "                                                                                                  \n",
            " batch_normalization_43 (BatchN  (None, 7, 7, 192)   576         ['conv2d_43[0][0]']              \n",
            " ormalization)                                                                                    \n",
            "                                                                                                  \n",
            " batch_normalization_48 (BatchN  (None, 7, 7, 192)   576         ['conv2d_48[0][0]']              \n",
            " ormalization)                                                                                    \n",
            "                                                                                                  \n",
            " batch_normalization_49 (BatchN  (None, 7, 7, 192)   576         ['conv2d_49[0][0]']              \n",
            " ormalization)                                                                                    \n",
            "                                                                                                  \n",
            " activation_40 (Activation)     (None, 7, 7, 192)    0           ['batch_normalization_40[0][0]'] \n",
            "                                                                                                  \n",
            " activation_43 (Activation)     (None, 7, 7, 192)    0           ['batch_normalization_43[0][0]'] \n",
            "                                                                                                  \n",
            " activation_48 (Activation)     (None, 7, 7, 192)    0           ['batch_normalization_48[0][0]'] \n",
            "                                                                                                  \n",
            " activation_49 (Activation)     (None, 7, 7, 192)    0           ['batch_normalization_49[0][0]'] \n",
            "                                                                                                  \n",
            " mixed5 (Concatenate)           (None, 7, 7, 768)    0           ['activation_40[0][0]',          \n",
            "                                                                  'activation_43[0][0]',          \n",
            "                                                                  'activation_48[0][0]',          \n",
            "                                                                  'activation_49[0][0]']          \n",
            "                                                                                                  \n",
            " conv2d_54 (Conv2D)             (None, 7, 7, 160)    122880      ['mixed5[0][0]']                 \n",
            "                                                                                                  \n",
            " batch_normalization_54 (BatchN  (None, 7, 7, 160)   480         ['conv2d_54[0][0]']              \n",
            " ormalization)                                                                                    \n",
            "                                                                                                  \n",
            " activation_54 (Activation)     (None, 7, 7, 160)    0           ['batch_normalization_54[0][0]'] \n",
            "                                                                                                  \n",
            " conv2d_55 (Conv2D)             (None, 7, 7, 160)    179200      ['activation_54[0][0]']          \n",
            "                                                                                                  \n",
            " batch_normalization_55 (BatchN  (None, 7, 7, 160)   480         ['conv2d_55[0][0]']              \n",
            " ormalization)                                                                                    \n",
            "                                                                                                  \n",
            " activation_55 (Activation)     (None, 7, 7, 160)    0           ['batch_normalization_55[0][0]'] \n",
            "                                                                                                  \n",
            " conv2d_51 (Conv2D)             (None, 7, 7, 160)    122880      ['mixed5[0][0]']                 \n",
            "                                                                                                  \n",
            " conv2d_56 (Conv2D)             (None, 7, 7, 160)    179200      ['activation_55[0][0]']          \n",
            "                                                                                                  \n",
            " batch_normalization_51 (BatchN  (None, 7, 7, 160)   480         ['conv2d_51[0][0]']              \n",
            " ormalization)                                                                                    \n",
            "                                                                                                  \n",
            " batch_normalization_56 (BatchN  (None, 7, 7, 160)   480         ['conv2d_56[0][0]']              \n",
            " ormalization)                                                                                    \n",
            "                                                                                                  \n",
            " activation_51 (Activation)     (None, 7, 7, 160)    0           ['batch_normalization_51[0][0]'] \n",
            "                                                                                                  \n",
            " activation_56 (Activation)     (None, 7, 7, 160)    0           ['batch_normalization_56[0][0]'] \n",
            "                                                                                                  \n",
            " conv2d_52 (Conv2D)             (None, 7, 7, 160)    179200      ['activation_51[0][0]']          \n",
            "                                                                                                  \n",
            " conv2d_57 (Conv2D)             (None, 7, 7, 160)    179200      ['activation_56[0][0]']          \n",
            "                                                                                                  \n",
            " batch_normalization_52 (BatchN  (None, 7, 7, 160)   480         ['conv2d_52[0][0]']              \n",
            " ormalization)                                                                                    \n",
            "                                                                                                  \n",
            " batch_normalization_57 (BatchN  (None, 7, 7, 160)   480         ['conv2d_57[0][0]']              \n",
            " ormalization)                                                                                    \n",
            "                                                                                                  \n",
            " activation_52 (Activation)     (None, 7, 7, 160)    0           ['batch_normalization_52[0][0]'] \n",
            "                                                                                                  \n",
            " activation_57 (Activation)     (None, 7, 7, 160)    0           ['batch_normalization_57[0][0]'] \n",
            "                                                                                                  \n",
            " average_pooling2d_5 (AveragePo  (None, 7, 7, 768)   0           ['mixed5[0][0]']                 \n",
            " oling2D)                                                                                         \n",
            "                                                                                                  \n",
            " conv2d_50 (Conv2D)             (None, 7, 7, 192)    147456      ['mixed5[0][0]']                 \n",
            "                                                                                                  \n",
            " conv2d_53 (Conv2D)             (None, 7, 7, 192)    215040      ['activation_52[0][0]']          \n",
            "                                                                                                  \n",
            " conv2d_58 (Conv2D)             (None, 7, 7, 192)    215040      ['activation_57[0][0]']          \n",
            "                                                                                                  \n",
            " conv2d_59 (Conv2D)             (None, 7, 7, 192)    147456      ['average_pooling2d_5[0][0]']    \n",
            "                                                                                                  \n",
            " batch_normalization_50 (BatchN  (None, 7, 7, 192)   576         ['conv2d_50[0][0]']              \n",
            " ormalization)                                                                                    \n",
            "                                                                                                  \n",
            " batch_normalization_53 (BatchN  (None, 7, 7, 192)   576         ['conv2d_53[0][0]']              \n",
            " ormalization)                                                                                    \n",
            "                                                                                                  \n",
            " batch_normalization_58 (BatchN  (None, 7, 7, 192)   576         ['conv2d_58[0][0]']              \n",
            " ormalization)                                                                                    \n",
            "                                                                                                  \n",
            " batch_normalization_59 (BatchN  (None, 7, 7, 192)   576         ['conv2d_59[0][0]']              \n",
            " ormalization)                                                                                    \n",
            "                                                                                                  \n",
            " activation_50 (Activation)     (None, 7, 7, 192)    0           ['batch_normalization_50[0][0]'] \n",
            "                                                                                                  \n",
            " activation_53 (Activation)     (None, 7, 7, 192)    0           ['batch_normalization_53[0][0]'] \n",
            "                                                                                                  \n",
            " activation_58 (Activation)     (None, 7, 7, 192)    0           ['batch_normalization_58[0][0]'] \n",
            "                                                                                                  \n",
            " activation_59 (Activation)     (None, 7, 7, 192)    0           ['batch_normalization_59[0][0]'] \n",
            "                                                                                                  \n",
            " mixed6 (Concatenate)           (None, 7, 7, 768)    0           ['activation_50[0][0]',          \n",
            "                                                                  'activation_53[0][0]',          \n",
            "                                                                  'activation_58[0][0]',          \n",
            "                                                                  'activation_59[0][0]']          \n",
            "                                                                                                  \n",
            " conv2d_64 (Conv2D)             (None, 7, 7, 192)    147456      ['mixed6[0][0]']                 \n",
            "                                                                                                  \n",
            " batch_normalization_64 (BatchN  (None, 7, 7, 192)   576         ['conv2d_64[0][0]']              \n",
            " ormalization)                                                                                    \n",
            "                                                                                                  \n",
            " activation_64 (Activation)     (None, 7, 7, 192)    0           ['batch_normalization_64[0][0]'] \n",
            "                                                                                                  \n",
            " conv2d_65 (Conv2D)             (None, 7, 7, 192)    258048      ['activation_64[0][0]']          \n",
            "                                                                                                  \n",
            " batch_normalization_65 (BatchN  (None, 7, 7, 192)   576         ['conv2d_65[0][0]']              \n",
            " ormalization)                                                                                    \n",
            "                                                                                                  \n",
            " activation_65 (Activation)     (None, 7, 7, 192)    0           ['batch_normalization_65[0][0]'] \n",
            "                                                                                                  \n",
            " conv2d_61 (Conv2D)             (None, 7, 7, 192)    147456      ['mixed6[0][0]']                 \n",
            "                                                                                                  \n",
            " conv2d_66 (Conv2D)             (None, 7, 7, 192)    258048      ['activation_65[0][0]']          \n",
            "                                                                                                  \n",
            " batch_normalization_61 (BatchN  (None, 7, 7, 192)   576         ['conv2d_61[0][0]']              \n",
            " ormalization)                                                                                    \n",
            "                                                                                                  \n",
            " batch_normalization_66 (BatchN  (None, 7, 7, 192)   576         ['conv2d_66[0][0]']              \n",
            " ormalization)                                                                                    \n",
            "                                                                                                  \n",
            " activation_61 (Activation)     (None, 7, 7, 192)    0           ['batch_normalization_61[0][0]'] \n",
            "                                                                                                  \n",
            " activation_66 (Activation)     (None, 7, 7, 192)    0           ['batch_normalization_66[0][0]'] \n",
            "                                                                                                  \n",
            " conv2d_62 (Conv2D)             (None, 7, 7, 192)    258048      ['activation_61[0][0]']          \n",
            "                                                                                                  \n",
            " conv2d_67 (Conv2D)             (None, 7, 7, 192)    258048      ['activation_66[0][0]']          \n",
            "                                                                                                  \n",
            " batch_normalization_62 (BatchN  (None, 7, 7, 192)   576         ['conv2d_62[0][0]']              \n",
            " ormalization)                                                                                    \n",
            "                                                                                                  \n",
            " batch_normalization_67 (BatchN  (None, 7, 7, 192)   576         ['conv2d_67[0][0]']              \n",
            " ormalization)                                                                                    \n",
            "                                                                                                  \n",
            " activation_62 (Activation)     (None, 7, 7, 192)    0           ['batch_normalization_62[0][0]'] \n",
            "                                                                                                  \n",
            " activation_67 (Activation)     (None, 7, 7, 192)    0           ['batch_normalization_67[0][0]'] \n",
            "                                                                                                  \n",
            " average_pooling2d_6 (AveragePo  (None, 7, 7, 768)   0           ['mixed6[0][0]']                 \n",
            " oling2D)                                                                                         \n",
            "                                                                                                  \n",
            " conv2d_60 (Conv2D)             (None, 7, 7, 192)    147456      ['mixed6[0][0]']                 \n",
            "                                                                                                  \n",
            " conv2d_63 (Conv2D)             (None, 7, 7, 192)    258048      ['activation_62[0][0]']          \n",
            "                                                                                                  \n",
            " conv2d_68 (Conv2D)             (None, 7, 7, 192)    258048      ['activation_67[0][0]']          \n",
            "                                                                                                  \n",
            " conv2d_69 (Conv2D)             (None, 7, 7, 192)    147456      ['average_pooling2d_6[0][0]']    \n",
            "                                                                                                  \n",
            " batch_normalization_60 (BatchN  (None, 7, 7, 192)   576         ['conv2d_60[0][0]']              \n",
            " ormalization)                                                                                    \n",
            "                                                                                                  \n",
            " batch_normalization_63 (BatchN  (None, 7, 7, 192)   576         ['conv2d_63[0][0]']              \n",
            " ormalization)                                                                                    \n",
            "                                                                                                  \n",
            " batch_normalization_68 (BatchN  (None, 7, 7, 192)   576         ['conv2d_68[0][0]']              \n",
            " ormalization)                                                                                    \n",
            "                                                                                                  \n",
            " batch_normalization_69 (BatchN  (None, 7, 7, 192)   576         ['conv2d_69[0][0]']              \n",
            " ormalization)                                                                                    \n",
            "                                                                                                  \n",
            " activation_60 (Activation)     (None, 7, 7, 192)    0           ['batch_normalization_60[0][0]'] \n",
            "                                                                                                  \n",
            " activation_63 (Activation)     (None, 7, 7, 192)    0           ['batch_normalization_63[0][0]'] \n",
            "                                                                                                  \n",
            " activation_68 (Activation)     (None, 7, 7, 192)    0           ['batch_normalization_68[0][0]'] \n",
            "                                                                                                  \n",
            " activation_69 (Activation)     (None, 7, 7, 192)    0           ['batch_normalization_69[0][0]'] \n",
            "                                                                                                  \n",
            " mixed7 (Concatenate)           (None, 7, 7, 768)    0           ['activation_60[0][0]',          \n",
            "                                                                  'activation_63[0][0]',          \n",
            "                                                                  'activation_68[0][0]',          \n",
            "                                                                  'activation_69[0][0]']          \n",
            "                                                                                                  \n",
            " conv2d_72 (Conv2D)             (None, 7, 7, 192)    147456      ['mixed7[0][0]']                 \n",
            "                                                                                                  \n",
            " batch_normalization_72 (BatchN  (None, 7, 7, 192)   576         ['conv2d_72[0][0]']              \n",
            " ormalization)                                                                                    \n",
            "                                                                                                  \n",
            " activation_72 (Activation)     (None, 7, 7, 192)    0           ['batch_normalization_72[0][0]'] \n",
            "                                                                                                  \n",
            " conv2d_73 (Conv2D)             (None, 7, 7, 192)    258048      ['activation_72[0][0]']          \n",
            "                                                                                                  \n",
            " batch_normalization_73 (BatchN  (None, 7, 7, 192)   576         ['conv2d_73[0][0]']              \n",
            " ormalization)                                                                                    \n",
            "                                                                                                  \n",
            " activation_73 (Activation)     (None, 7, 7, 192)    0           ['batch_normalization_73[0][0]'] \n",
            "                                                                                                  \n",
            " conv2d_70 (Conv2D)             (None, 7, 7, 192)    147456      ['mixed7[0][0]']                 \n",
            "                                                                                                  \n",
            " conv2d_74 (Conv2D)             (None, 7, 7, 192)    258048      ['activation_73[0][0]']          \n",
            "                                                                                                  \n",
            " batch_normalization_70 (BatchN  (None, 7, 7, 192)   576         ['conv2d_70[0][0]']              \n",
            " ormalization)                                                                                    \n",
            "                                                                                                  \n",
            " batch_normalization_74 (BatchN  (None, 7, 7, 192)   576         ['conv2d_74[0][0]']              \n",
            " ormalization)                                                                                    \n",
            "                                                                                                  \n",
            " activation_70 (Activation)     (None, 7, 7, 192)    0           ['batch_normalization_70[0][0]'] \n",
            "                                                                                                  \n",
            " activation_74 (Activation)     (None, 7, 7, 192)    0           ['batch_normalization_74[0][0]'] \n",
            "                                                                                                  \n",
            " conv2d_71 (Conv2D)             (None, 3, 3, 320)    552960      ['activation_70[0][0]']          \n",
            "                                                                                                  \n",
            " conv2d_75 (Conv2D)             (None, 3, 3, 192)    331776      ['activation_74[0][0]']          \n",
            "                                                                                                  \n",
            " batch_normalization_71 (BatchN  (None, 3, 3, 320)   960         ['conv2d_71[0][0]']              \n",
            " ormalization)                                                                                    \n",
            "                                                                                                  \n",
            " batch_normalization_75 (BatchN  (None, 3, 3, 192)   576         ['conv2d_75[0][0]']              \n",
            " ormalization)                                                                                    \n",
            "                                                                                                  \n",
            " activation_71 (Activation)     (None, 3, 3, 320)    0           ['batch_normalization_71[0][0]'] \n",
            "                                                                                                  \n",
            " activation_75 (Activation)     (None, 3, 3, 192)    0           ['batch_normalization_75[0][0]'] \n",
            "                                                                                                  \n",
            " max_pooling2d_3 (MaxPooling2D)  (None, 3, 3, 768)   0           ['mixed7[0][0]']                 \n",
            "                                                                                                  \n",
            " mixed8 (Concatenate)           (None, 3, 3, 1280)   0           ['activation_71[0][0]',          \n",
            "                                                                  'activation_75[0][0]',          \n",
            "                                                                  'max_pooling2d_3[0][0]']        \n",
            "                                                                                                  \n",
            " conv2d_80 (Conv2D)             (None, 3, 3, 448)    573440      ['mixed8[0][0]']                 \n",
            "                                                                                                  \n",
            " batch_normalization_80 (BatchN  (None, 3, 3, 448)   1344        ['conv2d_80[0][0]']              \n",
            " ormalization)                                                                                    \n",
            "                                                                                                  \n",
            " activation_80 (Activation)     (None, 3, 3, 448)    0           ['batch_normalization_80[0][0]'] \n",
            "                                                                                                  \n",
            " conv2d_77 (Conv2D)             (None, 3, 3, 384)    491520      ['mixed8[0][0]']                 \n",
            "                                                                                                  \n",
            " conv2d_81 (Conv2D)             (None, 3, 3, 384)    1548288     ['activation_80[0][0]']          \n",
            "                                                                                                  \n",
            " batch_normalization_77 (BatchN  (None, 3, 3, 384)   1152        ['conv2d_77[0][0]']              \n",
            " ormalization)                                                                                    \n",
            "                                                                                                  \n",
            " batch_normalization_81 (BatchN  (None, 3, 3, 384)   1152        ['conv2d_81[0][0]']              \n",
            " ormalization)                                                                                    \n",
            "                                                                                                  \n",
            " activation_77 (Activation)     (None, 3, 3, 384)    0           ['batch_normalization_77[0][0]'] \n",
            "                                                                                                  \n",
            " activation_81 (Activation)     (None, 3, 3, 384)    0           ['batch_normalization_81[0][0]'] \n",
            "                                                                                                  \n",
            " conv2d_78 (Conv2D)             (None, 3, 3, 384)    442368      ['activation_77[0][0]']          \n",
            "                                                                                                  \n",
            " conv2d_79 (Conv2D)             (None, 3, 3, 384)    442368      ['activation_77[0][0]']          \n",
            "                                                                                                  \n",
            " conv2d_82 (Conv2D)             (None, 3, 3, 384)    442368      ['activation_81[0][0]']          \n",
            "                                                                                                  \n",
            " conv2d_83 (Conv2D)             (None, 3, 3, 384)    442368      ['activation_81[0][0]']          \n",
            "                                                                                                  \n",
            " average_pooling2d_7 (AveragePo  (None, 3, 3, 1280)  0           ['mixed8[0][0]']                 \n",
            " oling2D)                                                                                         \n",
            "                                                                                                  \n",
            " conv2d_76 (Conv2D)             (None, 3, 3, 320)    409600      ['mixed8[0][0]']                 \n",
            "                                                                                                  \n",
            " batch_normalization_78 (BatchN  (None, 3, 3, 384)   1152        ['conv2d_78[0][0]']              \n",
            " ormalization)                                                                                    \n",
            "                                                                                                  \n",
            " batch_normalization_79 (BatchN  (None, 3, 3, 384)   1152        ['conv2d_79[0][0]']              \n",
            " ormalization)                                                                                    \n",
            "                                                                                                  \n",
            " batch_normalization_82 (BatchN  (None, 3, 3, 384)   1152        ['conv2d_82[0][0]']              \n",
            " ormalization)                                                                                    \n",
            "                                                                                                  \n",
            " batch_normalization_83 (BatchN  (None, 3, 3, 384)   1152        ['conv2d_83[0][0]']              \n",
            " ormalization)                                                                                    \n",
            "                                                                                                  \n",
            " conv2d_84 (Conv2D)             (None, 3, 3, 192)    245760      ['average_pooling2d_7[0][0]']    \n",
            "                                                                                                  \n",
            " batch_normalization_76 (BatchN  (None, 3, 3, 320)   960         ['conv2d_76[0][0]']              \n",
            " ormalization)                                                                                    \n",
            "                                                                                                  \n",
            " activation_78 (Activation)     (None, 3, 3, 384)    0           ['batch_normalization_78[0][0]'] \n",
            "                                                                                                  \n",
            " activation_79 (Activation)     (None, 3, 3, 384)    0           ['batch_normalization_79[0][0]'] \n",
            "                                                                                                  \n",
            " activation_82 (Activation)     (None, 3, 3, 384)    0           ['batch_normalization_82[0][0]'] \n",
            "                                                                                                  \n",
            " activation_83 (Activation)     (None, 3, 3, 384)    0           ['batch_normalization_83[0][0]'] \n",
            "                                                                                                  \n",
            " batch_normalization_84 (BatchN  (None, 3, 3, 192)   576         ['conv2d_84[0][0]']              \n",
            " ormalization)                                                                                    \n",
            "                                                                                                  \n",
            " activation_76 (Activation)     (None, 3, 3, 320)    0           ['batch_normalization_76[0][0]'] \n",
            "                                                                                                  \n",
            " mixed9_0 (Concatenate)         (None, 3, 3, 768)    0           ['activation_78[0][0]',          \n",
            "                                                                  'activation_79[0][0]']          \n",
            "                                                                                                  \n",
            " concatenate (Concatenate)      (None, 3, 3, 768)    0           ['activation_82[0][0]',          \n",
            "                                                                  'activation_83[0][0]']          \n",
            "                                                                                                  \n",
            " activation_84 (Activation)     (None, 3, 3, 192)    0           ['batch_normalization_84[0][0]'] \n",
            "                                                                                                  \n",
            " mixed9 (Concatenate)           (None, 3, 3, 2048)   0           ['activation_76[0][0]',          \n",
            "                                                                  'mixed9_0[0][0]',               \n",
            "                                                                  'concatenate[0][0]',            \n",
            "                                                                  'activation_84[0][0]']          \n",
            "                                                                                                  \n",
            " conv2d_89 (Conv2D)             (None, 3, 3, 448)    917504      ['mixed9[0][0]']                 \n",
            "                                                                                                  \n",
            " batch_normalization_89 (BatchN  (None, 3, 3, 448)   1344        ['conv2d_89[0][0]']              \n",
            " ormalization)                                                                                    \n",
            "                                                                                                  \n",
            " activation_89 (Activation)     (None, 3, 3, 448)    0           ['batch_normalization_89[0][0]'] \n",
            "                                                                                                  \n",
            " conv2d_86 (Conv2D)             (None, 3, 3, 384)    786432      ['mixed9[0][0]']                 \n",
            "                                                                                                  \n",
            " conv2d_90 (Conv2D)             (None, 3, 3, 384)    1548288     ['activation_89[0][0]']          \n",
            "                                                                                                  \n",
            " batch_normalization_86 (BatchN  (None, 3, 3, 384)   1152        ['conv2d_86[0][0]']              \n",
            " ormalization)                                                                                    \n",
            "                                                                                                  \n",
            " batch_normalization_90 (BatchN  (None, 3, 3, 384)   1152        ['conv2d_90[0][0]']              \n",
            " ormalization)                                                                                    \n",
            "                                                                                                  \n",
            " activation_86 (Activation)     (None, 3, 3, 384)    0           ['batch_normalization_86[0][0]'] \n",
            "                                                                                                  \n",
            " activation_90 (Activation)     (None, 3, 3, 384)    0           ['batch_normalization_90[0][0]'] \n",
            "                                                                                                  \n",
            " conv2d_87 (Conv2D)             (None, 3, 3, 384)    442368      ['activation_86[0][0]']          \n",
            "                                                                                                  \n",
            " conv2d_88 (Conv2D)             (None, 3, 3, 384)    442368      ['activation_86[0][0]']          \n",
            "                                                                                                  \n",
            " conv2d_91 (Conv2D)             (None, 3, 3, 384)    442368      ['activation_90[0][0]']          \n",
            "                                                                                                  \n",
            " conv2d_92 (Conv2D)             (None, 3, 3, 384)    442368      ['activation_90[0][0]']          \n",
            "                                                                                                  \n",
            " average_pooling2d_8 (AveragePo  (None, 3, 3, 2048)  0           ['mixed9[0][0]']                 \n",
            " oling2D)                                                                                         \n",
            "                                                                                                  \n",
            " conv2d_85 (Conv2D)             (None, 3, 3, 320)    655360      ['mixed9[0][0]']                 \n",
            "                                                                                                  \n",
            " batch_normalization_87 (BatchN  (None, 3, 3, 384)   1152        ['conv2d_87[0][0]']              \n",
            " ormalization)                                                                                    \n",
            "                                                                                                  \n",
            " batch_normalization_88 (BatchN  (None, 3, 3, 384)   1152        ['conv2d_88[0][0]']              \n",
            " ormalization)                                                                                    \n",
            "                                                                                                  \n",
            " batch_normalization_91 (BatchN  (None, 3, 3, 384)   1152        ['conv2d_91[0][0]']              \n",
            " ormalization)                                                                                    \n",
            "                                                                                                  \n",
            " batch_normalization_92 (BatchN  (None, 3, 3, 384)   1152        ['conv2d_92[0][0]']              \n",
            " ormalization)                                                                                    \n",
            "                                                                                                  \n",
            " conv2d_93 (Conv2D)             (None, 3, 3, 192)    393216      ['average_pooling2d_8[0][0]']    \n",
            "                                                                                                  \n",
            " batch_normalization_85 (BatchN  (None, 3, 3, 320)   960         ['conv2d_85[0][0]']              \n",
            " ormalization)                                                                                    \n",
            "                                                                                                  \n",
            " activation_87 (Activation)     (None, 3, 3, 384)    0           ['batch_normalization_87[0][0]'] \n",
            "                                                                                                  \n",
            " activation_88 (Activation)     (None, 3, 3, 384)    0           ['batch_normalization_88[0][0]'] \n",
            "                                                                                                  \n",
            " activation_91 (Activation)     (None, 3, 3, 384)    0           ['batch_normalization_91[0][0]'] \n",
            "                                                                                                  \n",
            " activation_92 (Activation)     (None, 3, 3, 384)    0           ['batch_normalization_92[0][0]'] \n",
            "                                                                                                  \n",
            " batch_normalization_93 (BatchN  (None, 3, 3, 192)   576         ['conv2d_93[0][0]']              \n",
            " ormalization)                                                                                    \n",
            "                                                                                                  \n",
            " activation_85 (Activation)     (None, 3, 3, 320)    0           ['batch_normalization_85[0][0]'] \n",
            "                                                                                                  \n",
            " mixed9_1 (Concatenate)         (None, 3, 3, 768)    0           ['activation_87[0][0]',          \n",
            "                                                                  'activation_88[0][0]']          \n",
            "                                                                                                  \n",
            " concatenate_1 (Concatenate)    (None, 3, 3, 768)    0           ['activation_91[0][0]',          \n",
            "                                                                  'activation_92[0][0]']          \n",
            "                                                                                                  \n",
            " activation_93 (Activation)     (None, 3, 3, 192)    0           ['batch_normalization_93[0][0]'] \n",
            "                                                                                                  \n",
            " mixed10 (Concatenate)          (None, 3, 3, 2048)   0           ['activation_85[0][0]',          \n",
            "                                                                  'mixed9_1[0][0]',               \n",
            "                                                                  'concatenate_1[0][0]',          \n",
            "                                                                  'activation_93[0][0]']          \n",
            "                                                                                                  \n",
            " global_average_pooling2d_2 (Gl  (None, 2048)        0           ['mixed10[0][0]']                \n",
            " obalAveragePooling2D)                                                                            \n",
            "                                                                                                  \n",
            " dense_4 (Dense)                (None, 1024)         2098176     ['global_average_pooling2d_2[0][0\n",
            "                                                                 ]']                              \n",
            "                                                                                                  \n",
            " dropout_2 (Dropout)            (None, 1024)         0           ['dense_4[0][0]']                \n",
            "                                                                                                  \n",
            " dense_5 (Dense)                (None, 512)          524800      ['dropout_2[0][0]']              \n",
            "                                                                                                  \n",
            " dropout_3 (Dropout)            (None, 512)          0           ['dense_5[0][0]']                \n",
            "                                                                                                  \n",
            " dense_6 (Dense)                (None, 4)            2052        ['dropout_3[0][0]']              \n",
            "                                                                                                  \n",
            "==================================================================================================\n",
            "Total params: 24,427,812\n",
            "Trainable params: 2,625,028\n",
            "Non-trainable params: 21,802,784\n",
            "__________________________________________________________________________________________________\n"
          ]
        }
      ]
    },
    {
      "cell_type": "code",
      "source": [
        "model.compile(loss='categorical_crossentropy', optimizer='adam', metrics=['accuracy'])"
      ],
      "metadata": {
        "id": "x6a2CLcqP-h4"
      },
      "execution_count": 30,
      "outputs": []
    },
    {
      "cell_type": "code",
      "source": [
        "val_data = []\n",
        "val_labels = []\n",
        "for i in range(len(validation_generator)):\n",
        "    batch_val_data, batch_val_labels = validation_generator.next()\n",
        "    val_data.append(batch_val_data)\n",
        "    val_labels.append(batch_val_labels)\n",
        "\n",
        "x_val = np.concatenate(val_data)\n",
        "y_val = np.concatenate(val_labels)"
      ],
      "metadata": {
        "id": "I09um1j7PHGy"
      },
      "execution_count": null,
      "outputs": []
    },
    {
      "cell_type": "code",
      "source": [
        "#FOR FIT - validation_data=(x_val, y_val)"
      ],
      "metadata": {
        "id": "7caAWKRIVfg7"
      },
      "execution_count": null,
      "outputs": []
    },
    {
      "cell_type": "markdown",
      "source": [
        "validation data expects a tuple"
      ],
      "metadata": {
        "id": "ym-yHTYhS8AI"
      }
    },
    {
      "cell_type": "code",
      "source": [
        "history = model.fit(training_generator, epochs=20, validation_data=testing_generator)"
      ],
      "metadata": {
        "id": "yX5fNOv2O1cs",
        "colab": {
          "base_uri": "https://localhost:8080/"
        },
        "outputId": "9324f3a1-c62b-4528-8c15-4cb9dcb3c721"
      },
      "execution_count": 31,
      "outputs": [
        {
          "output_type": "stream",
          "name": "stdout",
          "text": [
            "Epoch 1/20\n",
            "72/72 [==============================] - 299s 4s/step - loss: 1.2539 - accuracy: 0.5882 - val_loss: 1.2104 - val_accuracy: 0.5305\n",
            "Epoch 2/20\n",
            "72/72 [==============================] - 100s 1s/step - loss: 0.6609 - accuracy: 0.7418 - val_loss: 1.1348 - val_accuracy: 0.5888\n",
            "Epoch 3/20\n",
            "72/72 [==============================] - 100s 1s/step - loss: 0.5896 - accuracy: 0.7754 - val_loss: 1.0775 - val_accuracy: 0.6168\n",
            "Epoch 4/20\n",
            "72/72 [==============================] - 100s 1s/step - loss: 0.5669 - accuracy: 0.7714 - val_loss: 1.0041 - val_accuracy: 0.6193\n",
            "Epoch 5/20\n",
            "72/72 [==============================] - 101s 1s/step - loss: 0.4909 - accuracy: 0.8093 - val_loss: 0.9955 - val_accuracy: 0.6244\n",
            "Epoch 6/20\n",
            "72/72 [==============================] - 100s 1s/step - loss: 0.4643 - accuracy: 0.8150 - val_loss: 1.2805 - val_accuracy: 0.6091\n",
            "Epoch 7/20\n",
            "72/72 [==============================] - 101s 1s/step - loss: 0.4245 - accuracy: 0.8320 - val_loss: 1.1660 - val_accuracy: 0.6345\n",
            "Epoch 8/20\n",
            "72/72 [==============================] - 92s 1s/step - loss: 0.4363 - accuracy: 0.8333 - val_loss: 0.8892 - val_accuracy: 0.6777\n",
            "Epoch 9/20\n",
            "72/72 [==============================] - 93s 1s/step - loss: 0.4118 - accuracy: 0.8350 - val_loss: 1.0912 - val_accuracy: 0.6701\n",
            "Epoch 10/20\n",
            "72/72 [==============================] - 100s 1s/step - loss: 0.3803 - accuracy: 0.8502 - val_loss: 1.0807 - val_accuracy: 0.6853\n",
            "Epoch 11/20\n",
            "72/72 [==============================] - 100s 1s/step - loss: 0.4036 - accuracy: 0.8437 - val_loss: 0.9402 - val_accuracy: 0.6929\n",
            "Epoch 12/20\n",
            "72/72 [==============================] - 92s 1s/step - loss: 0.3918 - accuracy: 0.8511 - val_loss: 0.9661 - val_accuracy: 0.7005\n",
            "Epoch 13/20\n",
            "72/72 [==============================] - 93s 1s/step - loss: 0.3256 - accuracy: 0.8737 - val_loss: 1.0986 - val_accuracy: 0.6701\n",
            "Epoch 14/20\n",
            "72/72 [==============================] - 91s 1s/step - loss: 0.3156 - accuracy: 0.8825 - val_loss: 0.8832 - val_accuracy: 0.6904\n",
            "Epoch 15/20\n",
            "72/72 [==============================] - 100s 1s/step - loss: 0.3509 - accuracy: 0.8642 - val_loss: 0.8699 - val_accuracy: 0.6954\n",
            "Epoch 16/20\n",
            "72/72 [==============================] - 100s 1s/step - loss: 0.3250 - accuracy: 0.8764 - val_loss: 1.1916 - val_accuracy: 0.7157\n",
            "Epoch 17/20\n",
            "72/72 [==============================] - 100s 1s/step - loss: 0.3356 - accuracy: 0.8729 - val_loss: 0.9052 - val_accuracy: 0.7284\n",
            "Epoch 18/20\n",
            "72/72 [==============================] - 100s 1s/step - loss: 0.3121 - accuracy: 0.8785 - val_loss: 0.8559 - val_accuracy: 0.6827\n",
            "Epoch 19/20\n",
            "72/72 [==============================] - 101s 1s/step - loss: 0.2984 - accuracy: 0.8807 - val_loss: 1.2815 - val_accuracy: 0.7030\n",
            "Epoch 20/20\n",
            "72/72 [==============================] - 92s 1s/step - loss: 0.2956 - accuracy: 0.8899 - val_loss: 1.1525 - val_accuracy: 0.7335\n"
          ]
        }
      ]
    },
    {
      "cell_type": "code",
      "source": [
        "history.history"
      ],
      "metadata": {
        "colab": {
          "base_uri": "https://localhost:8080/"
        },
        "id": "1Lys7I1ZKI9l",
        "outputId": "8c58a501-2122-45ef-afc2-c5e3bec7c05d"
      },
      "execution_count": 32,
      "outputs": [
        {
          "output_type": "execute_result",
          "data": {
            "text/plain": [
              "{'loss': [1.2538964748382568,\n",
              "  0.660862922668457,\n",
              "  0.589611828327179,\n",
              "  0.5669390559196472,\n",
              "  0.4908745288848877,\n",
              "  0.46434521675109863,\n",
              "  0.4244868755340576,\n",
              "  0.43633073568344116,\n",
              "  0.4118313789367676,\n",
              "  0.3802800178527832,\n",
              "  0.40363046526908875,\n",
              "  0.39176324009895325,\n",
              "  0.3256497085094452,\n",
              "  0.31560009717941284,\n",
              "  0.35089656710624695,\n",
              "  0.3250397741794586,\n",
              "  0.3355988562107086,\n",
              "  0.31207263469696045,\n",
              "  0.2983856797218323,\n",
              "  0.2955879271030426],\n",
              " 'accuracy': [0.5881584882736206,\n",
              "  0.741837203502655,\n",
              "  0.7753591537475586,\n",
              "  0.7714409828186035,\n",
              "  0.8093165159225464,\n",
              "  0.8149760365486145,\n",
              "  0.8319547176361084,\n",
              "  0.8332607746124268,\n",
              "  0.8350021839141846,\n",
              "  0.8502394556999207,\n",
              "  0.8437091708183289,\n",
              "  0.8511101603507996,\n",
              "  0.8737483620643616,\n",
              "  0.8824553489685059,\n",
              "  0.8641706705093384,\n",
              "  0.8763604760169983,\n",
              "  0.8728776574134827,\n",
              "  0.8785372376441956,\n",
              "  0.8807139992713928,\n",
              "  0.8898563385009766],\n",
              " 'val_loss': [1.210434079170227,\n",
              "  1.1348369121551514,\n",
              "  1.0774879455566406,\n",
              "  1.0041152238845825,\n",
              "  0.9954689741134644,\n",
              "  1.2805315256118774,\n",
              "  1.1659914255142212,\n",
              "  0.8892476558685303,\n",
              "  1.0911672115325928,\n",
              "  1.0807479619979858,\n",
              "  0.9401620626449585,\n",
              "  0.9660748839378357,\n",
              "  1.098571538925171,\n",
              "  0.8831741213798523,\n",
              "  0.8698707818984985,\n",
              "  1.1915613412857056,\n",
              "  0.9052414298057556,\n",
              "  0.8559231758117676,\n",
              "  1.2814542055130005,\n",
              "  1.1524604558944702],\n",
              " 'val_accuracy': [0.5304568409919739,\n",
              "  0.5888324975967407,\n",
              "  0.6167512536048889,\n",
              "  0.6192893385887146,\n",
              "  0.624365508556366,\n",
              "  0.6091370582580566,\n",
              "  0.6345177888870239,\n",
              "  0.6776649951934814,\n",
              "  0.6700507402420044,\n",
              "  0.6852791905403137,\n",
              "  0.692893385887146,\n",
              "  0.700507640838623,\n",
              "  0.6700507402420044,\n",
              "  0.6903553009033203,\n",
              "  0.6954314708709717,\n",
              "  0.7157360315322876,\n",
              "  0.7284263968467712,\n",
              "  0.682741105556488,\n",
              "  0.703045666217804,\n",
              "  0.7335025668144226]}"
            ]
          },
          "metadata": {},
          "execution_count": 32
        }
      ]
    },
    {
      "cell_type": "code",
      "source": [
        "plt.plot(history.history['loss'])\n",
        "plt.plot(history.history['accuracy'])\n",
        "plt.title('Model Loss and Accuracy')\n",
        "plt.ylabel('Loss/Accuracy')\n",
        "plt.xlabel('Epoch')\n",
        "plt.legend(['loss', 'accuracy'], loc='upper right')\n",
        "plt.show()"
      ],
      "metadata": {
        "id": "FNBOGFqB3LUB",
        "outputId": "91279b3f-33a4-4355-d801-585e284c5324",
        "colab": {
          "base_uri": "https://localhost:8080/",
          "height": 295
        }
      },
      "execution_count": 33,
      "outputs": [
        {
          "output_type": "display_data",
          "data": {
            "text/plain": [
              "<Figure size 432x288 with 1 Axes>"
            ],
            "image/png": "[encoded data removed]"
          },
          "metadata": {
            "needs_background": "light"
          }
        }
      ]
    },
    {
      "cell_type": "code",
      "source": [
        "test_loss, test_acc = model.evaluate(testing_generator)\n",
        "print('Test accuracy:', test_acc)"
      ],
      "metadata": {
        "id": "UbUWsCSqAkIj",
        "outputId": "5d8c1ae9-df11-4184-ab32-e26bd72ec625",
        "colab": {
          "base_uri": "https://localhost:8080/"
        }
      },
      "execution_count": null,
      "outputs": [
        {
          "output_type": "stream",
          "name": "stdout",
          "text": [
            "13/13 [==============================] - 15s 1s/step - loss: 2.0573 - accuracy: 0.2690\n",
            "Test accuracy: 0.2690355181694031\n"
          ]
        }
      ]
    },
    {
      "cell_type": "code",
      "source": [
        "test_loss, test_acc = model.evaluate(testing_generator)\n",
        "print('Test accuracy:', test_acc)"
      ],
      "metadata": {
        "id": "TwEbwj8bicmf",
        "outputId": "159a2865-01dd-470f-b826-f1f60c9510e5",
        "colab": {
          "base_uri": "https://localhost:8080/"
        }
      },
      "execution_count": 34,
      "outputs": [
        {
          "output_type": "stream",
          "name": "stdout",
          "text": [
            "13/13 [==============================] - 15s 1s/step - loss: 1.1525 - accuracy: 0.7335\n",
            "Test accuracy: 0.7335025668144226\n"
          ]
        }
      ]
    },
    {
      "cell_type": "code",
      "execution_count": null,
      "metadata": {
        "id": "zM77-N-k_eIC"
      },
      "outputs": [],
      "source": [
        "for images, labels in testgen.batch(batch_size = 32):\n",
        "    "
      ]
    },
    {
      "cell_type": "code",
      "execution_count": null,
      "metadata": {
        "id": "AcClxlpX_eIC",
        "outputId": "c8fc82f2-024b-4dac-c607-e1624ca2ef51"
      },
      "outputs": [
        {
          "ename": "NameError",
          "evalue": "name 'scipy' is not defined",
          "output_type": "error",
          "traceback": [
            "\u001b[1;31m---------------------------------------------------------------------------\u001b[0m",
            "\u001b[1;31mNameError\u001b[0m                                 Traceback (most recent call last)",
            "Cell \u001b[1;32mIn [12], line 1\u001b[0m\n\u001b[1;32m----> 1\u001b[0m x \u001b[39m=\u001b[39m testing_generator\u001b[39m.\u001b[39mnext()\n",
            "File \u001b[1;32mc:\\Users\\tomke\\AppData\\Local\\Programs\\Python\\Python310\\lib\\site-packages\\keras\\preprocessing\\image.py:168\u001b[0m, in \u001b[0;36mIterator.next\u001b[1;34m(self)\u001b[0m\n\u001b[0;32m    165\u001b[0m     index_array \u001b[39m=\u001b[39m \u001b[39mnext\u001b[39m(\u001b[39mself\u001b[39m\u001b[39m.\u001b[39mindex_generator)\n\u001b[0;32m    166\u001b[0m \u001b[39m# The transformation of images is not under thread lock\u001b[39;00m\n\u001b[0;32m    167\u001b[0m \u001b[39m# so it can be done in parallel\u001b[39;00m\n\u001b[1;32m--> 168\u001b[0m \u001b[39mreturn\u001b[39;00m \u001b[39mself\u001b[39;49m\u001b[39m.\u001b[39;49m_get_batches_of_transformed_samples(index_array)\n",
            "File \u001b[1;32mc:\\Users\\tomke\\AppData\\Local\\Programs\\Python\\Python310\\lib\\site-packages\\keras\\preprocessing\\image.py:384\u001b[0m, in \u001b[0;36mBatchFromFilesMixin._get_batches_of_transformed_samples\u001b[1;34m(self, index_array)\u001b[0m\n\u001b[0;32m    382\u001b[0m \u001b[39mif\u001b[39;00m \u001b[39mself\u001b[39m\u001b[39m.\u001b[39mimage_data_generator:\n\u001b[0;32m    383\u001b[0m     params \u001b[39m=\u001b[39m \u001b[39mself\u001b[39m\u001b[39m.\u001b[39mimage_data_generator\u001b[39m.\u001b[39mget_random_transform(x\u001b[39m.\u001b[39mshape)\n\u001b[1;32m--> 384\u001b[0m     x \u001b[39m=\u001b[39m \u001b[39mself\u001b[39;49m\u001b[39m.\u001b[39;49mimage_data_generator\u001b[39m.\u001b[39;49mapply_transform(x, params)\n\u001b[0;32m    385\u001b[0m     x \u001b[39m=\u001b[39m \u001b[39mself\u001b[39m\u001b[39m.\u001b[39mimage_data_generator\u001b[39m.\u001b[39mstandardize(x)\n\u001b[0;32m    386\u001b[0m batch_x[i] \u001b[39m=\u001b[39m x\n",
            "File \u001b[1;32mc:\\Users\\tomke\\AppData\\Local\\Programs\\Python\\Python310\\lib\\site-packages\\keras\\preprocessing\\image.py:2013\u001b[0m, in \u001b[0;36mImageDataGenerator.apply_transform\u001b[1;34m(self, x, transform_parameters)\u001b[0m\n\u001b[0;32m   2010\u001b[0m img_col_axis \u001b[39m=\u001b[39m \u001b[39mself\u001b[39m\u001b[39m.\u001b[39mcol_axis \u001b[39m-\u001b[39m \u001b[39m1\u001b[39m\n\u001b[0;32m   2011\u001b[0m img_channel_axis \u001b[39m=\u001b[39m \u001b[39mself\u001b[39m\u001b[39m.\u001b[39mchannel_axis \u001b[39m-\u001b[39m \u001b[39m1\u001b[39m\n\u001b[1;32m-> 2013\u001b[0m x \u001b[39m=\u001b[39m apply_affine_transform(\n\u001b[0;32m   2014\u001b[0m     x,\n\u001b[0;32m   2015\u001b[0m     transform_parameters\u001b[39m.\u001b[39;49mget(\u001b[39m\"\u001b[39;49m\u001b[39mtheta\u001b[39;49m\u001b[39m\"\u001b[39;49m, \u001b[39m0\u001b[39;49m),\n\u001b[0;32m   2016\u001b[0m     transform_parameters\u001b[39m.\u001b[39;49mget(\u001b[39m\"\u001b[39;49m\u001b[39mtx\u001b[39;49m\u001b[39m\"\u001b[39;49m, \u001b[39m0\u001b[39;49m),\n\u001b[0;32m   2017\u001b[0m     transform_parameters\u001b[39m.\u001b[39;49mget(\u001b[39m\"\u001b[39;49m\u001b[39mty\u001b[39;49m\u001b[39m\"\u001b[39;49m, \u001b[39m0\u001b[39;49m),\n\u001b[0;32m   2018\u001b[0m     transform_parameters\u001b[39m.\u001b[39;49mget(\u001b[39m\"\u001b[39;49m\u001b[39mshear\u001b[39;49m\u001b[39m\"\u001b[39;49m, \u001b[39m0\u001b[39;49m),\n\u001b[0;32m   2019\u001b[0m     transform_parameters\u001b[39m.\u001b[39;49mget(\u001b[39m\"\u001b[39;49m\u001b[39mzx\u001b[39;49m\u001b[39m\"\u001b[39;49m, \u001b[39m1\u001b[39;49m),\n\u001b[0;32m   2020\u001b[0m     transform_parameters\u001b[39m.\u001b[39;49mget(\u001b[39m\"\u001b[39;49m\u001b[39mzy\u001b[39;49m\u001b[39m\"\u001b[39;49m, \u001b[39m1\u001b[39;49m),\n\u001b[0;32m   2021\u001b[0m     row_axis\u001b[39m=\u001b[39;49mimg_row_axis,\n\u001b[0;32m   2022\u001b[0m     col_axis\u001b[39m=\u001b[39;49mimg_col_axis,\n\u001b[0;32m   2023\u001b[0m     channel_axis\u001b[39m=\u001b[39;49mimg_channel_axis,\n\u001b[0;32m   2024\u001b[0m     fill_mode\u001b[39m=\u001b[39;49m\u001b[39mself\u001b[39;49m\u001b[39m.\u001b[39;49mfill_mode,\n\u001b[0;32m   2025\u001b[0m     cval\u001b[39m=\u001b[39;49m\u001b[39mself\u001b[39;49m\u001b[39m.\u001b[39;49mcval,\n\u001b[0;32m   2026\u001b[0m     order\u001b[39m=\u001b[39;49m\u001b[39mself\u001b[39;49m\u001b[39m.\u001b[39;49minterpolation_order,\n\u001b[0;32m   2027\u001b[0m )\n\u001b[0;32m   2029\u001b[0m \u001b[39mif\u001b[39;00m transform_parameters\u001b[39m.\u001b[39mget(\u001b[39m\"\u001b[39m\u001b[39mchannel_shift_intensity\u001b[39m\u001b[39m\"\u001b[39m) \u001b[39mis\u001b[39;00m \u001b[39mnot\u001b[39;00m \u001b[39mNone\u001b[39;00m:\n\u001b[0;32m   2030\u001b[0m     x \u001b[39m=\u001b[39m apply_channel_shift(\n\u001b[0;32m   2031\u001b[0m         x,\n\u001b[0;32m   2032\u001b[0m         transform_parameters[\u001b[39m\"\u001b[39m\u001b[39mchannel_shift_intensity\u001b[39m\u001b[39m\"\u001b[39m],\n\u001b[0;32m   2033\u001b[0m         img_channel_axis,\n\u001b[0;32m   2034\u001b[0m     )\n",
            "File \u001b[1;32mc:\\Users\\tomke\\AppData\\Local\\Programs\\Python\\Python310\\lib\\site-packages\\keras\\preprocessing\\image.py:2529\u001b[0m, in \u001b[0;36mapply_affine_transform\u001b[1;34m(x, theta, tx, ty, shear, zx, zy, row_axis, col_axis, channel_axis, fill_mode, cval, order)\u001b[0m\n\u001b[0;32m   2485\u001b[0m \u001b[39m@keras_export\u001b[39m(\u001b[39m\"\u001b[39m\u001b[39mkeras.preprocessing.image.apply_affine_transform\u001b[39m\u001b[39m\"\u001b[39m)\n\u001b[0;32m   2486\u001b[0m \u001b[39mdef\u001b[39;00m \u001b[39mapply_affine_transform\u001b[39m(\n\u001b[0;32m   2487\u001b[0m     x,\n\u001b[1;32m   (...)\u001b[0m\n\u001b[0;32m   2499\u001b[0m     order\u001b[39m=\u001b[39m\u001b[39m1\u001b[39m,\n\u001b[0;32m   2500\u001b[0m ):\n\u001b[0;32m   2501\u001b[0m     \u001b[39m\"\"\"Applies an affine transformation specified by the parameters given.\u001b[39;00m\n\u001b[0;32m   2502\u001b[0m \n\u001b[0;32m   2503\u001b[0m \u001b[39m    Args:\u001b[39;00m\n\u001b[1;32m   (...)\u001b[0m\n\u001b[0;32m   2527\u001b[0m \u001b[39m        ImportError: if SciPy is not available.\u001b[39;00m\n\u001b[0;32m   2528\u001b[0m \u001b[39m    \"\"\"\u001b[39;00m\n\u001b[1;32m-> 2529\u001b[0m     \u001b[39mif\u001b[39;00m scipy \u001b[39mis\u001b[39;00m \u001b[39mNone\u001b[39;00m:\n\u001b[0;32m   2530\u001b[0m         \u001b[39mraise\u001b[39;00m \u001b[39mImportError\u001b[39;00m(\n\u001b[0;32m   2531\u001b[0m             \u001b[39m\"\u001b[39m\u001b[39mImage transformations require SciPy. \u001b[39m\u001b[39m\"\u001b[39m \u001b[39m\"\u001b[39m\u001b[39mInstall SciPy.\u001b[39m\u001b[39m\"\u001b[39m\n\u001b[0;32m   2532\u001b[0m         )\n\u001b[0;32m   2534\u001b[0m     \u001b[39m# Input sanity checks:\u001b[39;00m\n\u001b[0;32m   2535\u001b[0m     \u001b[39m# 1. x must 2D image with one or more channels (i.e., a 3D tensor)\u001b[39;00m\n\u001b[0;32m   2536\u001b[0m     \u001b[39m# 2. channels must be either first or last dimension\u001b[39;00m\n",
            "\u001b[1;31mNameError\u001b[0m: name 'scipy' is not defined"
          ]
        }
      ],
      "source": [
        "x = testing_generator.next()"
      ]
    },
    {
      "cell_type": "code",
      "execution_count": null,
      "metadata": {
        "id": "XmuvPyQg_eID",
        "outputId": "2e79ec4f-210a-4b71-9839-d34070233c80"
      },
      "outputs": [
        {
          "data": {
            "text/plain": [
              "'.'"
            ]
          },
          "execution_count": 21,
          "metadata": {},
          "output_type": "execute_result"
        }
      ],
      "source": [
        "testing_path[1]"
      ]
    },
    {
      "cell_type": "code",
      "execution_count": null,
      "metadata": {
        "id": "5875GGVK_eIE",
        "outputId": "51631196-be74-468e-ead2-6f41a949b51a"
      },
      "outputs": [
        {
          "ename": "NameError",
          "evalue": "name 'testing_data_generator' is not defined",
          "output_type": "error",
          "traceback": [
            "\u001b[1;31m---------------------------------------------------------------------------\u001b[0m",
            "\u001b[1;31mNameError\u001b[0m                                 Traceback (most recent call last)",
            "Cell \u001b[1;32mIn [10], line 1\u001b[0m\n\u001b[1;32m----> 1\u001b[0m tf\u001b[39m.\u001b[39mkeras\u001b[39m.\u001b[39mutils\u001b[39m.\u001b[39mto_categorical(testing_data_generator, num_classes\u001b[39m=\u001b[39m\u001b[39m4\u001b[39m, dtype\u001b[39m=\u001b[39m\u001b[39m\"\u001b[39m\u001b[39muint8\u001b[39m\u001b[39m\"\u001b[39m)\n",
            "\u001b[1;31mNameError\u001b[0m: name 'testing_data_generator' is not defined"
          ]
        }
      ],
      "source": [
        "tf.keras.utils.to_categorical(testing_data_generator, num_classes=4, dtype=\"uint8\")"
      ]
    },
    {
      "cell_type": "markdown",
      "metadata": {
        "id": "hh1E02Cjwxqo"
      },
      "source": [
        "Test code below, can delete or use as backup if things go wrong"
      ]
    },
    {
      "cell_type": "code",
      "execution_count": null,
      "metadata": {
        "colab": {
          "base_uri": "https://localhost:8080/",
          "height": 241
        },
        "id": "MkCyI6yJiQno",
        "outputId": "951291b9-764b-4d18-fe06-6c625b684970"
      },
      "outputs": [
        {
          "ename": "error",
          "evalue": "ignored",
          "output_type": "error",
          "traceback": [
            "\u001b[0;31m---------------------------------------------------------------------------\u001b[0m",
            "\u001b[0;31merror\u001b[0m                                     Traceback (most recent call last)",
            "\u001b[0;32m<ipython-input-12-99c3932628ba>\u001b[0m in \u001b[0;36m<module>\u001b[0;34m\u001b[0m\n\u001b[1;32m      9\u001b[0m \u001b[0;32mfor\u001b[0m \u001b[0mi\u001b[0m \u001b[0;32min\u001b[0m \u001b[0mtest_path\u001b[0m\u001b[0;34m:\u001b[0m\u001b[0;34m\u001b[0m\u001b[0;34m\u001b[0m\u001b[0m\n\u001b[1;32m     10\u001b[0m   \u001b[0mimage\u001b[0m \u001b[0;34m=\u001b[0m \u001b[0mcv2\u001b[0m\u001b[0;34m.\u001b[0m\u001b[0mimread\u001b[0m\u001b[0;34m(\u001b[0m\u001b[0mtesting_path\u001b[0m\u001b[0;34m,\u001b[0m \u001b[0mcv2\u001b[0m\u001b[0;34m.\u001b[0m\u001b[0mIMREAD_COLOR\u001b[0m\u001b[0;34m)\u001b[0m\u001b[0;34m\u001b[0m\u001b[0;34m\u001b[0m\u001b[0m\n\u001b[0;32m---> 11\u001b[0;31m   \u001b[0mimage\u001b[0m \u001b[0;34m=\u001b[0m \u001b[0mcv2\u001b[0m\u001b[0;34m.\u001b[0m\u001b[0mresize\u001b[0m\u001b[0;34m(\u001b[0m\u001b[0mimage\u001b[0m\u001b[0;34m,\u001b[0m \u001b[0;34m(\u001b[0m\u001b[0;36m150\u001b[0m\u001b[0;34m,\u001b[0m \u001b[0;36m150\u001b[0m\u001b[0;34m)\u001b[0m\u001b[0;34m)\u001b[0m\u001b[0;34m\u001b[0m\u001b[0;34m\u001b[0m\u001b[0m\n\u001b[0m\u001b[1;32m     12\u001b[0m   \u001b[0mimage\u001b[0m \u001b[0;34m=\u001b[0m \u001b[0mimage\u001b[0m \u001b[0;34m/\u001b[0m \u001b[0;36m255.0\u001b[0m \u001b[0;31m#normalisation if above chunk of code works, will likely not need to apply this\u001b[0m\u001b[0;34m\u001b[0m\u001b[0;34m\u001b[0m\u001b[0m\n\u001b[1;32m     13\u001b[0m   \u001b[0mtesting\u001b[0m\u001b[0;34m.\u001b[0m\u001b[0mappend\u001b[0m\u001b[0;34m(\u001b[0m\u001b[0mimage\u001b[0m\u001b[0;34m)\u001b[0m\u001b[0;34m\u001b[0m\u001b[0;34m\u001b[0m\u001b[0m\n",
            "\u001b[0;31merror\u001b[0m: OpenCV(4.6.0) /io/opencv/modules/imgproc/src/resize.cpp:4052: error: (-215:Assertion failed) !ssize.empty() in function 'resize'\n"
          ]
        }
      ],
      "source": [
        "training = []\n",
        "training_label = []\n",
        "\n",
        "testing = []\n",
        "testing_label = []\n",
        "\n",
        "#test_path = os.listdir('/content/drive/MyDrive/data/archive/Training')\n",
        "\n",
        "for i in testing_path:\n",
        "  image = cv2.imread(testing_path, cv2.IMREAD_COLOR)\n",
        "  image = cv2.resize(image, (150, 150))\n",
        "  image = image / 255.0 #normalisation if above chunk of code works, will likely not need to apply this\n",
        "  testing.append(image)\n",
        "  testing_label.append(labels)"
      ]
    },
    {
      "cell_type": "markdown",
      "metadata": {
        "id": "FBhvVA5Tw6gf"
      },
      "source": [
        "Next I'll likely use Keras’ ImageDataGenerator function to augment the dataset"
      ]
    },
    {
      "cell_type": "code",
      "execution_count": null,
      "metadata": {
        "id": "SbpxOKv9xCtJ"
      },
      "outputs": [],
      "source": [
        "#Example: https://studymachinelearning.com/keras-imagedatagenerator-with-flow_from_directory/\n",
        "#src_path_train = \"data/train/\"\n",
        "#src_path_test = \"data/test/\"\n",
        "\n",
        "#adjust this function\n",
        "\n",
        "data_agument = ImageDataGenerator(\n",
        "    rotation_range = 20,\n",
        "    zoom_range = 0.05,\n",
        "    width_shift_range = 0.05,\n",
        "    height_shift_range = 0.05,\n",
        "    shear_range = 0.05,\n",
        "    horizontal_flip = True,\n",
        "    fill_mode = 'nearest',\n",
        "    validation_split = 0.20\n",
        ")\n",
        "\n",
        "#train_datagen = ImageDataGenerator(\n",
        "        #rescale=1 / 255.0,\n",
        "        #rotation_range=20,\n",
        "        #zoom_range=0.05,\n",
        "        #width_shift_range=0.05,\n",
        "        #height_shift_range=0.05,\n",
        "        #shear_range=0.05,\n",
        "        #horizontal_flip=True,\n",
        "        #fill_mode=\"nearest\",\n",
        "        #validation_split=0.20)\n",
        "\n",
        "#test_datagen = ImageDataGenerator(rescale=1 / 255.0)"
      ]
    }
  ],
  "metadata": {
    "colab": {
      "provenance": [],
      "include_colab_link": true
    },
    "kernelspec": {
      "display_name": "Python 3",
      "language": "python",
      "name": "python3"
    },
    "language_info": {
      "codemirror_mode": {
        "name": "ipython",
        "version": 3
      },
      "file_extension": ".py",
      "mimetype": "text/x-python",
      "name": "python",
      "nbconvert_exporter": "python",
      "pygments_lexer": "ipython3",
      "version": "3.10.1"
    },
    "vscode": {
      "interpreter": {
        "hash": "46bfae0556cc79fc827cf62550d4b72d149cdfc64787c68439fc9ea0697c8cac"
      }
    },
    "gpuClass": "standard"
  },
  "nbformat": 4,
  "nbformat_minor": 0
}
