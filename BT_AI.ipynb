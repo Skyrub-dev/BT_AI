{
  "cells": [
    {
      "cell_type": "markdown",
      "metadata": {
        "id": "view-in-github",
        "colab_type": "text"
      },
      "source": [
        "<a href=\"https://colab.research.google.com/github/Skyy-Dev/BT_AI/blob/main/BT_AI.ipynb\" target=\"_parent\"><img src=\"https://colab.research.google.com/assets/colab-badge.svg\" alt=\"Open In Colab\"/></a>"
      ]
    },
    {
      "cell_type": "markdown",
      "metadata": {
        "id": "ITl913RrtYZL"
      },
      "source": [
        "# **L6 End-of-year project**"
      ]
    },
    {
      "cell_type": "markdown",
      "metadata": {
        "id": "1RKzqSqO5qgV"
      },
      "source": [
        "**Import Files**\n",
        "\n",
        "---\n",
        "\n"
      ]
    },
    {
      "cell_type": "code",
      "execution_count": null,
      "metadata": {
        "colab": {
          "base_uri": "https://localhost:8080/",
          "height": 336
        },
        "id": "z4hrSFDsGduZ",
        "outputId": "316d7094-df05-4958-a33c-cda7530d3789"
      },
      "outputs": [
        {
          "ename": "ValueError",
          "evalue": "ignored",
          "output_type": "error",
          "traceback": [
            "\u001b[0;31m---------------------------------------------------------------------------\u001b[0m",
            "\u001b[0;31mValueError\u001b[0m                                Traceback (most recent call last)",
            "\u001b[0;32m<ipython-input-1-272d4cbdf5cd>\u001b[0m in \u001b[0;36m<module>\u001b[0;34m\u001b[0m\n\u001b[1;32m      1\u001b[0m \u001b[0;32mfrom\u001b[0m \u001b[0mgoogle\u001b[0m\u001b[0;34m.\u001b[0m\u001b[0mcolab\u001b[0m \u001b[0;32mimport\u001b[0m \u001b[0mdrive\u001b[0m\u001b[0;34m\u001b[0m\u001b[0;34m\u001b[0m\u001b[0m\n\u001b[0;32m----> 2\u001b[0;31m \u001b[0mdrive\u001b[0m\u001b[0;34m.\u001b[0m\u001b[0mmount\u001b[0m\u001b[0;34m(\u001b[0m\u001b[0;34m'/content/drive/MyDrive/data'\u001b[0m\u001b[0;34m)\u001b[0m\u001b[0;34m\u001b[0m\u001b[0;34m\u001b[0m\u001b[0m\n\u001b[0m",
            "\u001b[0;32m/usr/local/lib/python3.8/dist-packages/google/colab/drive.py\u001b[0m in \u001b[0;36mmount\u001b[0;34m(mountpoint, force_remount, timeout_ms, readonly)\u001b[0m\n\u001b[1;32m     99\u001b[0m \u001b[0;32mdef\u001b[0m \u001b[0mmount\u001b[0m\u001b[0;34m(\u001b[0m\u001b[0mmountpoint\u001b[0m\u001b[0;34m,\u001b[0m \u001b[0mforce_remount\u001b[0m\u001b[0;34m=\u001b[0m\u001b[0;32mFalse\u001b[0m\u001b[0;34m,\u001b[0m \u001b[0mtimeout_ms\u001b[0m\u001b[0;34m=\u001b[0m\u001b[0;36m120000\u001b[0m\u001b[0;34m,\u001b[0m \u001b[0mreadonly\u001b[0m\u001b[0;34m=\u001b[0m\u001b[0;32mFalse\u001b[0m\u001b[0;34m)\u001b[0m\u001b[0;34m:\u001b[0m\u001b[0;34m\u001b[0m\u001b[0;34m\u001b[0m\u001b[0m\n\u001b[1;32m    100\u001b[0m   \u001b[0;34m\"\"\"Mount your Google Drive at the specified mountpoint path.\"\"\"\u001b[0m\u001b[0;34m\u001b[0m\u001b[0;34m\u001b[0m\u001b[0m\n\u001b[0;32m--> 101\u001b[0;31m   return _mount(\n\u001b[0m\u001b[1;32m    102\u001b[0m       \u001b[0mmountpoint\u001b[0m\u001b[0;34m,\u001b[0m\u001b[0;34m\u001b[0m\u001b[0;34m\u001b[0m\u001b[0m\n\u001b[1;32m    103\u001b[0m       \u001b[0mforce_remount\u001b[0m\u001b[0;34m=\u001b[0m\u001b[0mforce_remount\u001b[0m\u001b[0;34m,\u001b[0m\u001b[0;34m\u001b[0m\u001b[0;34m\u001b[0m\u001b[0m\n",
            "\u001b[0;32m/usr/local/lib/python3.8/dist-packages/google/colab/drive.py\u001b[0m in \u001b[0;36m_mount\u001b[0;34m(mountpoint, force_remount, timeout_ms, ephemeral, readonly)\u001b[0m\n\u001b[1;32m    187\u001b[0m     \u001b[0mnormed\u001b[0m \u001b[0;34m=\u001b[0m \u001b[0m_os\u001b[0m\u001b[0;34m.\u001b[0m\u001b[0mpath\u001b[0m\u001b[0;34m.\u001b[0m\u001b[0mnormpath\u001b[0m\u001b[0;34m(\u001b[0m\u001b[0mmountpoint\u001b[0m\u001b[0;34m)\u001b[0m\u001b[0;34m\u001b[0m\u001b[0;34m\u001b[0m\u001b[0m\n\u001b[1;32m    188\u001b[0m     \u001b[0;32mif\u001b[0m \u001b[0;34m'/'\u001b[0m \u001b[0;32min\u001b[0m \u001b[0mnormed\u001b[0m \u001b[0;32mand\u001b[0m \u001b[0;32mnot\u001b[0m \u001b[0m_os\u001b[0m\u001b[0;34m.\u001b[0m\u001b[0mpath\u001b[0m\u001b[0;34m.\u001b[0m\u001b[0mexists\u001b[0m\u001b[0;34m(\u001b[0m\u001b[0m_os\u001b[0m\u001b[0;34m.\u001b[0m\u001b[0mpath\u001b[0m\u001b[0;34m.\u001b[0m\u001b[0mdirname\u001b[0m\u001b[0;34m(\u001b[0m\u001b[0mnormed\u001b[0m\u001b[0;34m)\u001b[0m\u001b[0;34m)\u001b[0m\u001b[0;34m:\u001b[0m\u001b[0;34m\u001b[0m\u001b[0;34m\u001b[0m\u001b[0m\n\u001b[0;32m--> 189\u001b[0;31m       \u001b[0;32mraise\u001b[0m \u001b[0mValueError\u001b[0m\u001b[0;34m(\u001b[0m\u001b[0;34m'Mountpoint must be in a directory that exists'\u001b[0m\u001b[0;34m)\u001b[0m\u001b[0;34m\u001b[0m\u001b[0;34m\u001b[0m\u001b[0m\n\u001b[0m\u001b[1;32m    190\u001b[0m   \u001b[0;32mexcept\u001b[0m\u001b[0;34m:\u001b[0m\u001b[0;34m\u001b[0m\u001b[0;34m\u001b[0m\u001b[0m\n\u001b[1;32m    191\u001b[0m     \u001b[0md\u001b[0m\u001b[0;34m.\u001b[0m\u001b[0mkill\u001b[0m\u001b[0;34m(\u001b[0m\u001b[0m_signal\u001b[0m\u001b[0;34m.\u001b[0m\u001b[0mSIGKILL\u001b[0m\u001b[0;34m)\u001b[0m\u001b[0;34m\u001b[0m\u001b[0;34m\u001b[0m\u001b[0m\n",
            "\u001b[0;31mValueError\u001b[0m: Mountpoint must be in a directory that exists"
          ]
        }
      ],
      "source": [
        "from google.colab import drive\n",
        "drive.mount('/content/drive/MyDrive/data')"
      ]
    },
    {
      "cell_type": "code",
      "execution_count": 1,
      "metadata": {
        "colab": {
          "base_uri": "https://localhost:8080/"
        },
        "id": "4YVuh3Om96VN",
        "outputId": "96b5b81d-4cf5-413d-934d-b33a1bf6f449"
      },
      "outputs": [
        {
          "output_type": "stream",
          "name": "stdout",
          "text": [
            "Mounted at /content/drive\n"
          ]
        }
      ],
      "source": [
        "from google.colab import drive\n",
        "drive.mount('/content/drive')"
      ]
    },
    {
      "cell_type": "markdown",
      "metadata": {
        "id": "y9XM_FtFdp8_"
      },
      "source": [
        "**Alternatively, through a local machine**"
      ]
    },
    {
      "cell_type": "code",
      "execution_count": null,
      "metadata": {
        "id": "tYtdUe3Rd2C8"
      },
      "outputs": [],
      "source": [
        "local_dir = '../Archive'"
      ]
    },
    {
      "cell_type": "markdown",
      "metadata": {
        "id": "dU8Icm6DY3gV"
      },
      "source": [
        "Before proceeding, check that the directory can be found"
      ]
    },
    {
      "cell_type": "code",
      "execution_count": null,
      "metadata": {
        "id": "2BFYXMEKY3gV",
        "outputId": "79ab8b96-226a-41a6-8621-9ded0b816fb4",
        "colab": {
          "base_uri": "https://localhost:8080/",
          "height": 169
        }
      },
      "outputs": [
        {
          "output_type": "error",
          "ename": "NameError",
          "evalue": "ignored",
          "traceback": [
            "\u001b[0;31m---------------------------------------------------------------------------\u001b[0m",
            "\u001b[0;31mNameError\u001b[0m                                 Traceback (most recent call last)",
            "\u001b[0;32m<ipython-input-4-55bad8a77143>\u001b[0m in \u001b[0;36m<module>\u001b[0;34m\u001b[0m\n\u001b[0;32m----> 1\u001b[0;31m \u001b[0mos\u001b[0m\u001b[0;34m.\u001b[0m\u001b[0mlistdir\u001b[0m\u001b[0;34m(\u001b[0m\u001b[0mlocal_dir\u001b[0m\u001b[0;34m)\u001b[0m\u001b[0;34m\u001b[0m\u001b[0;34m\u001b[0m\u001b[0m\n\u001b[0m",
            "\u001b[0;31mNameError\u001b[0m: name 'local_dir' is not defined"
          ]
        }
      ],
      "source": [
        "os.listdir(local_dir)"
      ]
    },
    {
      "cell_type": "markdown",
      "metadata": {
        "id": "YAHBNGLj5_tt"
      },
      "source": [
        "**Importing libraries**\n",
        "\n",
        "---\n",
        "\n"
      ]
    },
    {
      "cell_type": "code",
      "execution_count": 2,
      "metadata": {
        "id": "z80tFMw8eF2G"
      },
      "outputs": [],
      "source": [
        "import os\n",
        "import tensorflow as tf\n",
        "import cv2 #checkout open cv\n",
        "import imghdr #allows to check file extensions for images\n",
        "from matplotlib import pyplot as plt\n",
        "import numpy as np\n",
        "from sklearn.model_selection import train_test_split\n",
        "import random\n",
        "import shutil\n",
        "#import scipy\n",
        "from sklearn.model_selection import train_test_split\n",
        "#import kaggle - will likely change\n",
        "\n",
        "from tensorflow import keras\n",
        "from tensorflow.python.keras import layers\n",
        "from tensorflow.python.keras.layers import Dense, Flatten, Dropout\n",
        "from tensorflow.python.keras.models import sequential, Model\n",
        "from keras.preprocessing.image import ImageDataGenerator\n",
        "from keras.utils import to_categorical\n",
        "from keras.applications import EfficientNetB0\n",
        "from keras.layers.pooling.global_average_pooling2d import GlobalAveragePooling2D"
      ]
    },
    {
      "cell_type": "markdown",
      "metadata": {
        "id": "dlEfSL8f2Eok"
      },
      "source": [
        "GPU check optimisation"
      ]
    },
    {
      "cell_type": "code",
      "execution_count": null,
      "metadata": {
        "id": "dQ74ovch2GCk"
      },
      "outputs": [],
      "source": [
        "gpus = tf.config.experimental.list_physical_devices('GPU')\n",
        "for gpu in gpus:\n",
        "    tf.config.experimental.set_memory_growth(gpu, True)"
      ]
    },
    {
      "cell_type": "markdown",
      "metadata": {
        "id": "Ja8EYaeISnEg"
      },
      "source": [
        "CPU / GPU debug"
      ]
    },
    {
      "cell_type": "code",
      "execution_count": null,
      "metadata": {
        "colab": {
          "base_uri": "https://localhost:8080/"
        },
        "id": "K6wztOusSuA1",
        "outputId": "9df66efd-dbdb-457e-feb3-d5aff2561213"
      },
      "outputs": [
        {
          "output_type": "execute_result",
          "data": {
            "text/plain": [
              "[PhysicalDevice(name='/physical_device:CPU:0', device_type='CPU'),\n",
              " PhysicalDevice(name='/physical_device:GPU:0', device_type='GPU')]"
            ]
          },
          "metadata": {},
          "execution_count": 3
        }
      ],
      "source": [
        "tf.config.list_physical_devices(device_type=None)"
      ]
    },
    {
      "cell_type": "markdown",
      "metadata": {
        "id": "0xwK85HmsRaT"
      },
      "source": [
        "**If running off a local machine, this line of code must be run to install all dependencies**\n",
        "\n",
        "---\n",
        "\n"
      ]
    },
    {
      "cell_type": "code",
      "execution_count": null,
      "metadata": {
        "colab": {
          "base_uri": "https://localhost:8080/",
          "height": 1000
        },
        "id": "i23KPhcisdD7",
        "outputId": "2de4c2d6-313c-4cd3-a1df-8fb56fc0c5a4"
      },
      "outputs": [
        {
          "name": "stdout",
          "output_type": "stream",
          "text": [
            "Looking in indexes: https://pypi.org/simple, https://us-python.pkg.dev/colab-wheels/public/simple/\n",
            "Requirement already satisfied: tensorflow in /usr/local/lib/python3.8/dist-packages (2.9.2)\n",
            "Collecting tensorflow-gpu\n",
            "  Downloading tensorflow_gpu-2.11.0-cp38-cp38-manylinux_2_17_x86_64.manylinux2014_x86_64.whl (588.3 MB)\n",
            "\u001b[2K     \u001b[90m━━━━━━━━━━━━━━━━━━━━━━━━━━━━━━━━━━━━━━━\u001b[0m \u001b[32m588.3/588.3 MB\u001b[0m \u001b[31m2.3 MB/s\u001b[0m eta \u001b[36m0:00:00\u001b[0m\n",
            "\u001b[?25hRequirement already satisfied: opencv-python in /usr/local/lib/python3.8/dist-packages (4.6.0.66)\n",
            "Requirement already satisfied: matplotlib in /usr/local/lib/python3.8/dist-packages (3.2.2)\n",
            "Requirement already satisfied: six>=1.12.0 in /usr/local/lib/python3.8/dist-packages (from tensorflow) (1.15.0)\n",
            "Requirement already satisfied: keras<2.10.0,>=2.9.0rc0 in /usr/local/lib/python3.8/dist-packages (from tensorflow) (2.9.0)\n",
            "Requirement already satisfied: flatbuffers<2,>=1.12 in /usr/local/lib/python3.8/dist-packages (from tensorflow) (1.12)\n",
            "Requirement already satisfied: protobuf<3.20,>=3.9.2 in /usr/local/lib/python3.8/dist-packages (from tensorflow) (3.19.6)\n",
            "Requirement already satisfied: tensorboard<2.10,>=2.9 in /usr/local/lib/python3.8/dist-packages (from tensorflow) (2.9.1)\n",
            "Requirement already satisfied: gast<=0.4.0,>=0.2.1 in /usr/local/lib/python3.8/dist-packages (from tensorflow) (0.4.0)\n",
            "Requirement already satisfied: grpcio<2.0,>=1.24.3 in /usr/local/lib/python3.8/dist-packages (from tensorflow) (1.51.1)\n",
            "Requirement already satisfied: google-pasta>=0.1.1 in /usr/local/lib/python3.8/dist-packages (from tensorflow) (0.2.0)\n",
            "Requirement already satisfied: wrapt>=1.11.0 in /usr/local/lib/python3.8/dist-packages (from tensorflow) (1.14.1)\n",
            "Requirement already satisfied: opt-einsum>=2.3.2 in /usr/local/lib/python3.8/dist-packages (from tensorflow) (3.3.0)\n",
            "Requirement already satisfied: h5py>=2.9.0 in /usr/local/lib/python3.8/dist-packages (from tensorflow) (3.1.0)\n",
            "Requirement already satisfied: keras-preprocessing>=1.1.1 in /usr/local/lib/python3.8/dist-packages (from tensorflow) (1.1.2)\n",
            "Requirement already satisfied: numpy>=1.20 in /usr/local/lib/python3.8/dist-packages (from tensorflow) (1.21.6)\n",
            "Requirement already satisfied: tensorflow-io-gcs-filesystem>=0.23.1 in /usr/local/lib/python3.8/dist-packages (from tensorflow) (0.29.0)\n",
            "Requirement already satisfied: packaging in /usr/local/lib/python3.8/dist-packages (from tensorflow) (21.3)\n",
            "Requirement already satisfied: setuptools in /usr/local/lib/python3.8/dist-packages (from tensorflow) (57.4.0)\n",
            "Requirement already satisfied: typing-extensions>=3.6.6 in /usr/local/lib/python3.8/dist-packages (from tensorflow) (4.4.0)\n",
            "Requirement already satisfied: tensorflow-estimator<2.10.0,>=2.9.0rc0 in /usr/local/lib/python3.8/dist-packages (from tensorflow) (2.9.0)\n",
            "Requirement already satisfied: libclang>=13.0.0 in /usr/local/lib/python3.8/dist-packages (from tensorflow) (15.0.6.1)\n",
            "Requirement already satisfied: astunparse>=1.6.0 in /usr/local/lib/python3.8/dist-packages (from tensorflow) (1.6.3)\n",
            "Requirement already satisfied: absl-py>=1.0.0 in /usr/local/lib/python3.8/dist-packages (from tensorflow) (1.3.0)\n",
            "Requirement already satisfied: termcolor>=1.1.0 in /usr/local/lib/python3.8/dist-packages (from tensorflow) (2.2.0)\n",
            "  Downloading tensorflow_gpu-2.10.1-cp38-cp38-manylinux_2_17_x86_64.manylinux2014_x86_64.whl (578.1 MB)\n",
            "\u001b[2K     \u001b[90m━━━━━━━━━━━━━━━━━━━━━━━━━━━━━━━━━━━━━━━\u001b[0m \u001b[32m578.1/578.1 MB\u001b[0m \u001b[31m2.8 MB/s\u001b[0m eta \u001b[36m0:00:00\u001b[0m\n",
            "\u001b[?25h  Downloading tensorflow_gpu-2.10.0-cp38-cp38-manylinux_2_17_x86_64.manylinux2014_x86_64.whl (578.1 MB)\n",
            "\u001b[2K     \u001b[90m━━━━━━━━━━━━━━━━━━━━━━━━━━━━━━━━━━━━━━━\u001b[0m \u001b[32m578.1/578.1 MB\u001b[0m \u001b[31m3.2 MB/s\u001b[0m eta \u001b[36m0:00:00\u001b[0m\n",
            "\u001b[?25h  Downloading tensorflow_gpu-2.9.3-cp38-cp38-manylinux_2_17_x86_64.manylinux2014_x86_64.whl (511.8 MB)\n",
            "\u001b[2K     \u001b[90m━━━━━━━━━━━━━━━━━━━━━━━━━━━━━━━━━━━━━━━\u001b[0m \u001b[32m511.8/511.8 MB\u001b[0m \u001b[31m3.5 MB/s\u001b[0m eta \u001b[36m0:00:00\u001b[0m\n",
            "\u001b[?25hRequirement already satisfied: kiwisolver>=1.0.1 in /usr/local/lib/python3.8/dist-packages (from matplotlib) (1.4.4)\n",
            "Requirement already satisfied: python-dateutil>=2.1 in /usr/local/lib/python3.8/dist-packages (from matplotlib) (2.8.2)\n",
            "Requirement already satisfied: pyparsing!=2.0.4,!=2.1.2,!=2.1.6,>=2.0.1 in /usr/local/lib/python3.8/dist-packages (from matplotlib) (3.0.9)\n",
            "Requirement already satisfied: cycler>=0.10 in /usr/local/lib/python3.8/dist-packages (from matplotlib) (0.11.0)\n",
            "Requirement already satisfied: wheel<1.0,>=0.23.0 in /usr/local/lib/python3.8/dist-packages (from astunparse>=1.6.0->tensorflow) (0.38.4)\n",
            "Requirement already satisfied: requests<3,>=2.21.0 in /usr/local/lib/python3.8/dist-packages (from tensorboard<2.10,>=2.9->tensorflow) (2.25.1)\n",
            "Requirement already satisfied: tensorboard-plugin-wit>=1.6.0 in /usr/local/lib/python3.8/dist-packages (from tensorboard<2.10,>=2.9->tensorflow) (1.8.1)\n",
            "Requirement already satisfied: werkzeug>=1.0.1 in /usr/local/lib/python3.8/dist-packages (from tensorboard<2.10,>=2.9->tensorflow) (1.0.1)\n",
            "Requirement already satisfied: google-auth-oauthlib<0.5,>=0.4.1 in /usr/local/lib/python3.8/dist-packages (from tensorboard<2.10,>=2.9->tensorflow) (0.4.6)\n",
            "Requirement already satisfied: markdown>=2.6.8 in /usr/local/lib/python3.8/dist-packages (from tensorboard<2.10,>=2.9->tensorflow) (3.4.1)\n",
            "Requirement already satisfied: google-auth<3,>=1.6.3 in /usr/local/lib/python3.8/dist-packages (from tensorboard<2.10,>=2.9->tensorflow) (2.16.0)\n",
            "Requirement already satisfied: tensorboard-data-server<0.7.0,>=0.6.0 in /usr/local/lib/python3.8/dist-packages (from tensorboard<2.10,>=2.9->tensorflow) (0.6.1)\n",
            "Requirement already satisfied: cachetools<6.0,>=2.0.0 in /usr/local/lib/python3.8/dist-packages (from google-auth<3,>=1.6.3->tensorboard<2.10,>=2.9->tensorflow) (5.2.1)\n",
            "Requirement already satisfied: rsa<5,>=3.1.4 in /usr/local/lib/python3.8/dist-packages (from google-auth<3,>=1.6.3->tensorboard<2.10,>=2.9->tensorflow) (4.9)\n",
            "Requirement already satisfied: pyasn1-modules>=0.2.1 in /usr/local/lib/python3.8/dist-packages (from google-auth<3,>=1.6.3->tensorboard<2.10,>=2.9->tensorflow) (0.2.8)\n",
            "Requirement already satisfied: requests-oauthlib>=0.7.0 in /usr/local/lib/python3.8/dist-packages (from google-auth-oauthlib<0.5,>=0.4.1->tensorboard<2.10,>=2.9->tensorflow) (1.3.1)\n",
            "Requirement already satisfied: importlib-metadata>=4.4 in /usr/local/lib/python3.8/dist-packages (from markdown>=2.6.8->tensorboard<2.10,>=2.9->tensorflow) (6.0.0)\n",
            "Requirement already satisfied: certifi>=2017.4.17 in /usr/local/lib/python3.8/dist-packages (from requests<3,>=2.21.0->tensorboard<2.10,>=2.9->tensorflow) (2022.12.7)\n",
            "Requirement already satisfied: urllib3<1.27,>=1.21.1 in /usr/local/lib/python3.8/dist-packages (from requests<3,>=2.21.0->tensorboard<2.10,>=2.9->tensorflow) (1.24.3)\n",
            "Requirement already satisfied: chardet<5,>=3.0.2 in /usr/local/lib/python3.8/dist-packages (from requests<3,>=2.21.0->tensorboard<2.10,>=2.9->tensorflow) (4.0.0)\n",
            "Requirement already satisfied: idna<3,>=2.5 in /usr/local/lib/python3.8/dist-packages (from requests<3,>=2.21.0->tensorboard<2.10,>=2.9->tensorflow) (2.10)\n",
            "Requirement already satisfied: zipp>=0.5 in /usr/local/lib/python3.8/dist-packages (from importlib-metadata>=4.4->markdown>=2.6.8->tensorboard<2.10,>=2.9->tensorflow) (3.11.0)\n",
            "Requirement already satisfied: pyasn1<0.5.0,>=0.4.6 in /usr/local/lib/python3.8/dist-packages (from pyasn1-modules>=0.2.1->google-auth<3,>=1.6.3->tensorboard<2.10,>=2.9->tensorflow) (0.4.8)\n",
            "Requirement already satisfied: oauthlib>=3.0.0 in /usr/local/lib/python3.8/dist-packages (from requests-oauthlib>=0.7.0->google-auth-oauthlib<0.5,>=0.4.1->tensorboard<2.10,>=2.9->tensorflow) (3.2.2)\n",
            "Installing collected packages: tensorflow-gpu\n",
            "Successfully installed tensorflow-gpu-2.9.3\n"
          ]
        },
        {
          "data": {
            "application/vnd.colab-display-data+json": {
              "pip_warning": {
                "packages": [
                  "tensorflow"
                ]
              }
            }
          },
          "metadata": {},
          "output_type": "display_data"
        }
      ],
      "source": [
        "!pip install tensorflow tensorflow-gpu opencv-python matplotlib #! || % at the beginning"
      ]
    },
    {
      "cell_type": "markdown",
      "metadata": {
        "id": "JN60NljZq1_c"
      },
      "source": [
        "**Importing and loading the data**\n",
        "\n",
        "---\n",
        "\n"
      ]
    },
    {
      "cell_type": "markdown",
      "metadata": {
        "id": "n6XRz8vUswae"
      },
      "source": [
        "To import our data, we're going to be using an approach known as \"Supervised learning\". This is defined through pre-labelled datasets which the AI will be trained on. This is the best approach to solve a classification problem as the model can adjust itself and learn from its mistakes."
      ]
    },
    {
      "cell_type": "markdown",
      "metadata": {
        "id": "TrsCD9TS26Lt"
      },
      "source": [
        "https://www.youtube.com/watch?v=_L2uYfVV48I\n",
        "\n",
        "This is something that you do only for toy datasets or small sample sets. In the reality using image data generator is not recommended when you have huge volumes of images or video frames (which is usually the case). In those cases is a good practice to load and split the data across multiple tfrecords, then loading it progressively with tf.data and perform multithreaded augmentations dynamically during training. The majority of the augmentations can be computed using low level tf or common python functions."
      ]
    },
    {
      "cell_type": "code",
      "execution_count": null,
      "metadata": {
        "id": "eqHD8gInq9Lo"
      },
      "outputs": [],
      "source": [
        "labels = ['glioma_tumor', 'meningioma_tumor', 'no_tumor', 'pituitary_tumor']"
      ]
    },
    {
      "cell_type": "markdown",
      "metadata": {
        "id": "pH9nl4esw2Ws"
      },
      "source": [
        "**Loading the images**\n",
        "\n",
        "---\n",
        "\n"
      ]
    },
    {
      "cell_type": "markdown",
      "metadata": {
        "id": "lEQV_i18Y3gh"
      },
      "source": [
        "**When using Colab, run the following lines of code from Google drive**"
      ]
    },
    {
      "cell_type": "code",
      "execution_count": 3,
      "metadata": {
        "id": "rLf1DwtKY3gi"
      },
      "outputs": [],
      "source": [
        "testing_path = '/content/drive/MyDrive/data/archive/Testing'\n",
        "training_path = '/content/drive/MyDrive/data/archive/Training'\n",
        "validation_path = '/content/drive/MyDrive/data/archive/Validation'"
      ]
    },
    {
      "cell_type": "markdown",
      "metadata": {
        "id": "OO4Euhf0Y3gj"
      },
      "source": [
        "**If using the downloaded local file, run these lines of code**"
      ]
    },
    {
      "cell_type": "code",
      "execution_count": null,
      "metadata": {
        "id": "bRg9HgRGY3gj"
      },
      "outputs": [],
      "source": [
        "testing_path = '../Archive/Testing/'\n",
        "training_path = '../Archive/Training/'\n",
        "validation_path = '../Archive/Validation/'"
      ]
    },
    {
      "cell_type": "markdown",
      "metadata": {
        "id": "n0vWjgUDZXox"
      },
      "source": [
        "Do **NOT** run them both, this will cause errors, only run the one which is applicable to you"
      ]
    },
    {
      "cell_type": "markdown",
      "source": [
        "**Performing a validation split**\n",
        "\n",
        "---\n",
        "\n"
      ],
      "metadata": {
        "id": "jkbF_f2ZsJh1"
      }
    },
    {
      "cell_type": "markdown",
      "source": [
        "Validation is typically recommended to be split 80/20"
      ],
      "metadata": {
        "id": "uc2FHuAcsOjn"
      }
    },
    {
      "cell_type": "markdown",
      "metadata": {
        "id": "XESSJtE1_eIA"
      },
      "source": [
        "Splitting data into testing, training and validation"
      ]
    },
    {
      "cell_type": "code",
      "source": [
        "for label in labels:\n",
        "  train_dir = os.path.join(training_path, label)\n",
        "  valid_dir = os.path.join(validation_path, label)\n",
        "  T_files = os.listdir(train_dir)\n",
        "  valid_split = int(len(T_files) * 0.2)\n",
        "  valid_files = random.sample(T_files, valid_split)\n",
        "  for file in valid_files:\n",
        "    src = os.path.join(train_dir, file)\n",
        "    dst = os.path.join(valid_dir, file)\n",
        "    shutil.move(src, dst)\n",
        "\n",
        "#https://www.v7labs.com/blog/train-validation-test-set"
      ],
      "metadata": {
        "id": "RVo55_Lw_4ao"
      },
      "execution_count": null,
      "outputs": []
    },
    {
      "cell_type": "code",
      "source": [
        "for label in labels:\n",
        "  vlid_dir = os.path.join(validation_path, label)\n",
        "  "
      ],
      "metadata": {
        "id": "p_mWzl1sPi2C"
      },
      "execution_count": null,
      "outputs": []
    },
    {
      "cell_type": "code",
      "execution_count": null,
      "metadata": {
        "id": "merjq1--_eIB",
        "outputId": "76d3de0a-85e7-4e99-d4d9-033799518933",
        "colab": {
          "base_uri": "https://localhost:8080/",
          "height": 425
        }
      },
      "outputs": [
        {
          "output_type": "stream",
          "name": "stdout",
          "text": [
            "Found 394 files belonging to 4 classes.\n",
            "Found 2870 files belonging to 4 classes.\n"
          ]
        },
        {
          "output_type": "error",
          "ename": "ValueError",
          "evalue": "ignored",
          "traceback": [
            "\u001b[0;31m---------------------------------------------------------------------------\u001b[0m",
            "\u001b[0;31mValueError\u001b[0m                                Traceback (most recent call last)",
            "\u001b[0;32m<ipython-input-4-43678a790fff>\u001b[0m in \u001b[0;36m<module>\u001b[0;34m\u001b[0m\n\u001b[1;32m     19\u001b[0m )\n\u001b[1;32m     20\u001b[0m \u001b[0;34m\u001b[0m\u001b[0m\n\u001b[0;32m---> 21\u001b[0;31m validgen = tf.keras.preprocessing.image_dataset_from_directory(\n\u001b[0m\u001b[1;32m     22\u001b[0m     \u001b[0mdirectory\u001b[0m \u001b[0;34m=\u001b[0m \u001b[0mvalidation_path\u001b[0m\u001b[0;34m,\u001b[0m\u001b[0;34m\u001b[0m\u001b[0;34m\u001b[0m\u001b[0m\n\u001b[1;32m     23\u001b[0m     \u001b[0mlabels\u001b[0m \u001b[0;34m=\u001b[0m \u001b[0;34m'inferred'\u001b[0m\u001b[0;34m,\u001b[0m\u001b[0;34m\u001b[0m\u001b[0;34m\u001b[0m\u001b[0m\n",
            "\u001b[0;32m/usr/local/lib/python3.8/dist-packages/keras/utils/image_dataset.py\u001b[0m in \u001b[0;36mimage_dataset_from_directory\u001b[0;34m(directory, labels, label_mode, class_names, color_mode, batch_size, image_size, shuffle, seed, validation_split, subset, interpolation, follow_links, crop_to_aspect_ratio, **kwargs)\u001b[0m\n\u001b[1;32m    205\u001b[0m     \u001b[0;32mif\u001b[0m \u001b[0mseed\u001b[0m \u001b[0;32mis\u001b[0m \u001b[0;32mNone\u001b[0m\u001b[0;34m:\u001b[0m\u001b[0;34m\u001b[0m\u001b[0;34m\u001b[0m\u001b[0m\n\u001b[1;32m    206\u001b[0m         \u001b[0mseed\u001b[0m \u001b[0;34m=\u001b[0m \u001b[0mnp\u001b[0m\u001b[0;34m.\u001b[0m\u001b[0mrandom\u001b[0m\u001b[0;34m.\u001b[0m\u001b[0mrandint\u001b[0m\u001b[0;34m(\u001b[0m\u001b[0;36m1e6\u001b[0m\u001b[0;34m)\u001b[0m\u001b[0;34m\u001b[0m\u001b[0;34m\u001b[0m\u001b[0m\n\u001b[0;32m--> 207\u001b[0;31m     image_paths, labels, class_names = dataset_utils.index_directory(\n\u001b[0m\u001b[1;32m    208\u001b[0m         \u001b[0mdirectory\u001b[0m\u001b[0;34m,\u001b[0m\u001b[0;34m\u001b[0m\u001b[0;34m\u001b[0m\u001b[0m\n\u001b[1;32m    209\u001b[0m         \u001b[0mlabels\u001b[0m\u001b[0;34m,\u001b[0m\u001b[0;34m\u001b[0m\u001b[0;34m\u001b[0m\u001b[0m\n",
            "\u001b[0;32m/usr/local/lib/python3.8/dist-packages/keras/utils/dataset_utils.py\u001b[0m in \u001b[0;36mindex_directory\u001b[0;34m(directory, labels, formats, class_names, shuffle, seed, follow_links)\u001b[0m\n\u001b[1;32m    541\u001b[0m         \u001b[0;32melse\u001b[0m\u001b[0;34m:\u001b[0m\u001b[0;34m\u001b[0m\u001b[0;34m\u001b[0m\u001b[0m\n\u001b[1;32m    542\u001b[0m             \u001b[0;32mif\u001b[0m \u001b[0mset\u001b[0m\u001b[0;34m(\u001b[0m\u001b[0mclass_names\u001b[0m\u001b[0;34m)\u001b[0m \u001b[0;34m!=\u001b[0m \u001b[0mset\u001b[0m\u001b[0;34m(\u001b[0m\u001b[0msubdirs\u001b[0m\u001b[0;34m)\u001b[0m\u001b[0;34m:\u001b[0m\u001b[0;34m\u001b[0m\u001b[0;34m\u001b[0m\u001b[0m\n\u001b[0;32m--> 543\u001b[0;31m                 raise ValueError(\n\u001b[0m\u001b[1;32m    544\u001b[0m                     \u001b[0;34m\"The `class_names` passed did not match the \"\u001b[0m\u001b[0;34m\u001b[0m\u001b[0;34m\u001b[0m\u001b[0m\n\u001b[1;32m    545\u001b[0m                     \u001b[0;34m\"names of the subdirectories of the target directory. \"\u001b[0m\u001b[0;34m\u001b[0m\u001b[0;34m\u001b[0m\u001b[0m\n",
            "\u001b[0;31mValueError\u001b[0m: The `class_names` passed did not match the names of the subdirectories of the target directory. Expected: [], but received: ['glioma_tumor', 'meningioma_tumor', 'no_tumor', 'pituitary_tumor']"
          ]
        }
      ],
      "source": [
        "testgen = tf.keras.preprocessing.image_dataset_from_directory(\n",
        "    directory = testing_path,\n",
        "    labels = 'inferred',\n",
        "    label_mode= 'categorical',\n",
        "    class_names = ['glioma_tumor', 'meningioma_tumor', 'no_tumor', 'pituitary_tumor'],\n",
        "    batch_size = 32,\n",
        "    image_size = (150, 150),\n",
        "    shuffle = True\n",
        ")\n",
        "\n",
        "traingen = tf.keras.preprocessing.image_dataset_from_directory(\n",
        "    directory = training_path,\n",
        "    labels = 'inferred',\n",
        "    label_mode= 'categorical',\n",
        "    class_names = ['glioma_tumor', 'meningioma_tumor', 'no_tumor', 'pituitary_tumor'],\n",
        "    batch_size = 32,\n",
        "    image_size = (150, 150),\n",
        "    shuffle = True\n",
        ")\n",
        "\n",
        "validgen = tf.keras.preprocessing.image_dataset_from_directory(\n",
        "    directory = validation_path,\n",
        "    labels = 'inferred',\n",
        "    label_mode= 'categorical',\n",
        "    class_names = ['glioma_tumor', 'meningioma_tumor', 'no_tumor', 'pituitary_tumor'],\n",
        "    batch_size = 32,\n",
        "    image_size = (150, 150),\n",
        "    shuffle = True\n",
        ")"
      ]
    },
    {
      "cell_type": "code",
      "source": [
        "#https://ibrahimsobh.github.io/kaggle-COVID19-Classification/\n",
        "#https://www.datacamp.com/tutorial/complete-guide-data-augmentation\n",
        "#https://kylewbanks.com/blog/train-validation-split-with-imagedatagenerator-keras"
      ],
      "metadata": {
        "id": "euSJF5lK-XIp"
      },
      "execution_count": null,
      "outputs": []
    },
    {
      "cell_type": "code",
      "execution_count": 4,
      "metadata": {
        "colab": {
          "base_uri": "https://localhost:8080/"
        },
        "id": "EL9s954SlLvg",
        "outputId": "5ef8b0fc-71de-444d-cd91-75098ccf9fe5"
      },
      "outputs": [
        {
          "output_type": "stream",
          "name": "stdout",
          "text": [
            "Found 394 images belonging to 4 classes.\n",
            "Found 2297 images belonging to 4 classes.\n",
            "Found 573 images belonging to 4 classes.\n"
          ]
        }
      ],
      "source": [
        "#https://studymachinelearning.com/keras-imagedatagenerator-with-flow_from_directory/\n",
        "#https://stackoverflow.com/questions/54263218/cnn-divide-images-into-training-validation-testing\n",
        "\n",
        "img_size = 150 #Likely not necessary but could be used\n",
        "\n",
        "classes = 4\n",
        "#Normalising pixel values to be between 0 and 1\n",
        "testing_data_generator = ImageDataGenerator(rescale = 1./255)\n",
        "training_data_generator = ImageDataGenerator(rescale = 1./255)\n",
        "validation_data_generator = ImageDataGenerator(rescale = 1./255)\n",
        "\n",
        "testing_generator = testing_data_generator.flow_from_directory (testing_path,\n",
        "                                                                target_size = (150, 150),\n",
        "                                                                color_mode = 'rgb',\n",
        "                                                                save_format = 'jpg',\n",
        "                                                                batch_size = 32,\n",
        "                                                                class_mode = 'categorical', #Automatically converts the class labels to a one-hot encoded form\n",
        "                                                                classes = ['glioma_tumor', 'meningioma_tumor', 'no_tumor', 'pituitary_tumor'])\n",
        "\n",
        "#Need to check these two and make sure they're configured correctly\n",
        "\n",
        "training_generator = training_data_generator.flow_from_directory (training_path,\n",
        "                                                                target_size = (150, 150),\n",
        "                                                                color_mode = 'rgb',\n",
        "                                                                save_format = 'jpg',\n",
        "                                                                batch_size = 32,\n",
        "                                                                class_mode = 'categorical',\n",
        "                                                                shuffle = True, #Prevents overfitting but when evaluating model keep the data in its original order\n",
        "                                                                subset = 'training',\n",
        "                                                                #validation_split = 0.2,\n",
        "                                                                classes = ['glioma_tumor', 'meningioma_tumor', 'no_tumor', 'pituitary_tumor'])\n",
        "\n",
        "validation_generator = validation_data_generator.flow_from_directory (validation_path,\n",
        "                                                                target_size = (150, 150),\n",
        "                                                                color_mode = 'rgb',\n",
        "                                                                save_format = 'jpg',\n",
        "                                                                batch_size = 32,\n",
        "                                                                class_mode = 'categorical',\n",
        "                                                                #subset = 'validation',\n",
        "                                                                classes = ['glioma_tumor', 'meningioma_tumor', 'no_tumor', 'pituitary_tumor'])\n"
      ]
    },
    {
      "cell_type": "code",
      "source": [],
      "metadata": {
        "id": "aQB5jYloPchC"
      },
      "execution_count": null,
      "outputs": []
    },
    {
      "cell_type": "markdown",
      "source": [
        "Grabs data from the batch"
      ],
      "metadata": {
        "id": "I9NXEFXvA7A4"
      }
    },
    {
      "cell_type": "code",
      "execution_count": 7,
      "metadata": {
        "id": "RLCtifJw_eIC"
      },
      "outputs": [],
      "source": [
        "batch = images, labels = next(training_generator)"
      ]
    },
    {
      "cell_type": "code",
      "source": [
        "label_keys = list(testing_generator.class_indices.keys()) # https://stackoverflow.com/questions/48373685/keras-imagedatagenerator-how-to-get-all-labels-from-data#51652128"
      ],
      "metadata": {
        "id": "alSFoLj9FSfT"
      },
      "execution_count": 11,
      "outputs": []
    },
    {
      "cell_type": "code",
      "source": [
        "num_images = images.shape[0] #May remove"
      ],
      "metadata": {
        "id": "k9CPOCu9_-Pb"
      },
      "execution_count": null,
      "outputs": []
    },
    {
      "cell_type": "code",
      "source": [
        "ground_truth_labels = ['glioma_tumor', 'meningioma_tumor', 'no_tumor', 'pituitary_tumor']"
      ],
      "metadata": {
        "id": "UEyW7EPej9KS"
      },
      "execution_count": 5,
      "outputs": []
    },
    {
      "cell_type": "code",
      "source": [
        "#NEED TO REWORK THIS - JUST AN EXAMPLE\n",
        "for i in range(num_images):\n",
        "  image = images[i]\n",
        "  label = labels[i]\n",
        "\n",
        "  label_index = label.argmax()\n",
        "\n",
        "  class_name = ['giloma_tumor', 'meningioma_tumor', 'no_tumor', 'pituitary_tumor'][label_index]\n",
        "\n",
        "  plt.imshow(image)\n",
        "  plt.title(class_name)\n",
        "  plt.show()"
      ],
      "metadata": {
        "id": "UJjVeUw3ACI9"
      },
      "execution_count": null,
      "outputs": []
    },
    {
      "cell_type": "code",
      "source": [
        "#for i in range(num_images):\n",
        "  \n",
        "\n",
        "fig, ax = plt.subplots(ncols=4, figsize=(20,20))\n",
        "fig.text(s='Batch images', size = 18, fontweight = 'bold', fontname = 'monospace', y=0.62, x=0.4, alpha=0.8)\n",
        "for i in range(4):\n",
        "  image = images[i]\n",
        "  label = labels[i]\n",
        "  label_index = label.argmax() #Because it's one-hot encoded it's pulling the highest value\n",
        "  class_name = ['glioma_tumor', 'meningioma_tumor', 'no_tumor', 'pituitary_tumor'][label_index]\n",
        "  ax[i].imshow(images[i])\n",
        "  ax[i].set_title(class_name)\n",
        "\n",
        "if class_name == ground_truth_labels[i]:\n",
        "    print(f\"IGNORE THIS BECAUSE IT'S WRONG\")\n",
        "    print(f\"Image {i + 1} is correctly labelled as {class_name}\")\n",
        "else:\n",
        "    print(f\"Image {i + 1} is incorrectly labelled as {class_name}, the ground truth label is {ground_truth_labels[i]}\")\n",
        "#plt.imshow(image)\n",
        "#plt.title(class_name)\n",
        "#plt.show()\n",
        "#for idx, img in enumerate(batch[0][:4]):\n",
        "  #ax[idx].imshow(image)\n",
        "  #ax[idx].title.set_text(class_name)"
      ],
      "metadata": {
        "colab": {
          "base_uri": "https://localhost:8080/",
          "height": 376
        },
        "id": "HMdoR19sBYtw",
        "outputId": "5294601d-80be-48ce-b2fa-7bf53513af01"
      },
      "execution_count": 13,
      "outputs": [
        {
          "output_type": "stream",
          "name": "stdout",
          "text": [
            "IGNORE THIS BECAUSE IT'S WRONG\n",
            "Image 4 is correctly labelled as pituitary_tumor\n"
          ]
        },
        {
          "output_type": "display_data",
          "data": {
            "text/plain": [
              "<Figure size 1440x1440 with 4 Axes>"
            ],
            "image/png": "[encoded data removed]"
          },
          "metadata": {
            "needs_background": "light"
          }
        }
      ]
    },
    {
      "cell_type": "markdown",
      "source": [
        "Build the model"
      ],
      "metadata": {
        "id": "Msz_AU6Lrxl-"
      }
    },
    {
      "cell_type": "markdown",
      "source": [
        "Transfer learning"
      ],
      "metadata": {
        "id": "DBrmPnwLTGLD"
      }
    },
    {
      "cell_type": "markdown",
      "source": [
        "Source: https://keras.io/examples/vision/image_classification_efficientnet_fine_tuning/"
      ],
      "metadata": {
        "id": "eNq2uwwadH26"
      }
    },
    {
      "cell_type": "markdown",
      "source": [
        "![Screenshot 2023-03-02 175223.png](data:image/png;base64,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)"
      ],
      "metadata": {
        "id": "OlN1-U7jc7wU"
      }
    },
    {
      "cell_type": "code",
      "source": [
        "#Define the model\n",
        "trnsfer_model = EfficientNetB0(weights='imagenet', include_top=False, input_shape=(img_size, img_size, 3))\n",
        "\n",
        "#freeze the model\n",
        "#trnsfer_model.trainable = False\n",
        "\n",
        "#freeze model layers\n",
        "for layer in trnsfer_model.layers:\n",
        "  layer.trainable = False"
      ],
      "metadata": {
        "id": "9MBJfO1VTHv0",
        "colab": {
          "base_uri": "https://localhost:8080/"
        },
        "outputId": "549cf087-3d02-4398-be6c-4c9020ca166e"
      },
      "execution_count": null,
      "outputs": [
        {
          "output_type": "stream",
          "name": "stdout",
          "text": [
            "Downloading data from https://storage.googleapis.com/keras-applications/efficientnetb0_notop.h5\n",
            "16705208/16705208 [==============================] - 0s 0us/step\n"
          ]
        }
      ]
    },
    {
      "cell_type": "markdown",
      "source": [
        "Model"
      ],
      "metadata": {
        "id": "ujc2E9APbVP0"
      }
    },
    {
      "cell_type": "markdown",
      "source": [
        "https://stackoverflow.com/questions/53825007/keras-cnn-model-training-time"
      ],
      "metadata": {
        "id": "ztiVg4Vinnmm"
      }
    },
    {
      "cell_type": "code",
      "source": [
        "model = trnsfer_model.output\n",
        "model = tf.keras.layers.GlobalAveragePooling2D()(model)\n",
        "model = tf.keras.layers.Dense(128, activation='relu')(model)\n",
        "model = tf.keras.layers.Dropout(0.5)(model)\n",
        "predict = tf.keras.layers.Dense(classes, activation='softmax')(model)\n",
        "\n",
        "#for layer in trnsfer_model.layers[-5:]:\n",
        "  #layer.trainable = True\n",
        "\n",
        "model = keras.Model(inputs=trnsfer_model.input, outputs=predict)\n",
        "model.summary()\n",
        "#model.fit(training_generator, epochs=10, validation_data=validation_data_generator)"
      ],
      "metadata": {
        "id": "jMqfgCh7bWBr",
        "colab": {
          "base_uri": "https://localhost:8080/"
        },
        "outputId": "69276fac-4cc5-4df2-c67e-bb2bd7623332"
      },
      "execution_count": null,
      "outputs": [
        {
          "output_type": "stream",
          "name": "stdout",
          "text": [
            "Model: \"model\"\n",
            "__________________________________________________________________________________________________\n",
            " Layer (type)                   Output Shape         Param #     Connected to                     \n",
            "==================================================================================================\n",
            " input_1 (InputLayer)           [(None, 150, 150, 3  0           []                               \n",
            "                                )]                                                                \n",
            "                                                                                                  \n",
            " rescaling (Rescaling)          (None, 150, 150, 3)  0           ['input_1[0][0]']                \n",
            "                                                                                                  \n",
            " normalization (Normalization)  (None, 150, 150, 3)  7           ['rescaling[0][0]']              \n",
            "                                                                                                  \n",
            " rescaling_1 (Rescaling)        (None, 150, 150, 3)  0           ['normalization[0][0]']          \n",
            "                                                                                                  \n",
            " stem_conv_pad (ZeroPadding2D)  (None, 151, 151, 3)  0           ['rescaling_1[0][0]']            \n",
            "                                                                                                  \n",
            " stem_conv (Conv2D)             (None, 75, 75, 32)   864         ['stem_conv_pad[0][0]']          \n",
            "                                                                                                  \n",
            " stem_bn (BatchNormalization)   (None, 75, 75, 32)   128         ['stem_conv[0][0]']              \n",
            "                                                                                                  \n",
            " stem_activation (Activation)   (None, 75, 75, 32)   0           ['stem_bn[0][0]']                \n",
            "                                                                                                  \n",
            " block1a_dwconv (DepthwiseConv2  (None, 75, 75, 32)  288         ['stem_activation[0][0]']        \n",
            " D)                                                                                               \n",
            "                                                                                                  \n",
            " block1a_bn (BatchNormalization  (None, 75, 75, 32)  128         ['block1a_dwconv[0][0]']         \n",
            " )                                                                                                \n",
            "                                                                                                  \n",
            " block1a_activation (Activation  (None, 75, 75, 32)  0           ['block1a_bn[0][0]']             \n",
            " )                                                                                                \n",
            "                                                                                                  \n",
            " block1a_se_squeeze (GlobalAver  (None, 32)          0           ['block1a_activation[0][0]']     \n",
            " agePooling2D)                                                                                    \n",
            "                                                                                                  \n",
            " block1a_se_reshape (Reshape)   (None, 1, 1, 32)     0           ['block1a_se_squeeze[0][0]']     \n",
            "                                                                                                  \n",
            " block1a_se_reduce (Conv2D)     (None, 1, 1, 8)      264         ['block1a_se_reshape[0][0]']     \n",
            "                                                                                                  \n",
            " block1a_se_expand (Conv2D)     (None, 1, 1, 32)     288         ['block1a_se_reduce[0][0]']      \n",
            "                                                                                                  \n",
            " block1a_se_excite (Multiply)   (None, 75, 75, 32)   0           ['block1a_activation[0][0]',     \n",
            "                                                                  'block1a_se_expand[0][0]']      \n",
            "                                                                                                  \n",
            " block1a_project_conv (Conv2D)  (None, 75, 75, 16)   512         ['block1a_se_excite[0][0]']      \n",
            "                                                                                                  \n",
            " block1a_project_bn (BatchNorma  (None, 75, 75, 16)  64          ['block1a_project_conv[0][0]']   \n",
            " lization)                                                                                        \n",
            "                                                                                                  \n",
            " block2a_expand_conv (Conv2D)   (None, 75, 75, 96)   1536        ['block1a_project_bn[0][0]']     \n",
            "                                                                                                  \n",
            " block2a_expand_bn (BatchNormal  (None, 75, 75, 96)  384         ['block2a_expand_conv[0][0]']    \n",
            " ization)                                                                                         \n",
            "                                                                                                  \n",
            " block2a_expand_activation (Act  (None, 75, 75, 96)  0           ['block2a_expand_bn[0][0]']      \n",
            " ivation)                                                                                         \n",
            "                                                                                                  \n",
            " block2a_dwconv_pad (ZeroPaddin  (None, 77, 77, 96)  0           ['block2a_expand_activation[0][0]\n",
            " g2D)                                                            ']                               \n",
            "                                                                                                  \n",
            " block2a_dwconv (DepthwiseConv2  (None, 38, 38, 96)  864         ['block2a_dwconv_pad[0][0]']     \n",
            " D)                                                                                               \n",
            "                                                                                                  \n",
            " block2a_bn (BatchNormalization  (None, 38, 38, 96)  384         ['block2a_dwconv[0][0]']         \n",
            " )                                                                                                \n",
            "                                                                                                  \n",
            " block2a_activation (Activation  (None, 38, 38, 96)  0           ['block2a_bn[0][0]']             \n",
            " )                                                                                                \n",
            "                                                                                                  \n",
            " block2a_se_squeeze (GlobalAver  (None, 96)          0           ['block2a_activation[0][0]']     \n",
            " agePooling2D)                                                                                    \n",
            "                                                                                                  \n",
            " block2a_se_reshape (Reshape)   (None, 1, 1, 96)     0           ['block2a_se_squeeze[0][0]']     \n",
            "                                                                                                  \n",
            " block2a_se_reduce (Conv2D)     (None, 1, 1, 4)      388         ['block2a_se_reshape[0][0]']     \n",
            "                                                                                                  \n",
            " block2a_se_expand (Conv2D)     (None, 1, 1, 96)     480         ['block2a_se_reduce[0][0]']      \n",
            "                                                                                                  \n",
            " block2a_se_excite (Multiply)   (None, 38, 38, 96)   0           ['block2a_activation[0][0]',     \n",
            "                                                                  'block2a_se_expand[0][0]']      \n",
            "                                                                                                  \n",
            " block2a_project_conv (Conv2D)  (None, 38, 38, 24)   2304        ['block2a_se_excite[0][0]']      \n",
            "                                                                                                  \n",
            " block2a_project_bn (BatchNorma  (None, 38, 38, 24)  96          ['block2a_project_conv[0][0]']   \n",
            " lization)                                                                                        \n",
            "                                                                                                  \n",
            " block2b_expand_conv (Conv2D)   (None, 38, 38, 144)  3456        ['block2a_project_bn[0][0]']     \n",
            "                                                                                                  \n",
            " block2b_expand_bn (BatchNormal  (None, 38, 38, 144)  576        ['block2b_expand_conv[0][0]']    \n",
            " ization)                                                                                         \n",
            "                                                                                                  \n",
            " block2b_expand_activation (Act  (None, 38, 38, 144)  0          ['block2b_expand_bn[0][0]']      \n",
            " ivation)                                                                                         \n",
            "                                                                                                  \n",
            " block2b_dwconv (DepthwiseConv2  (None, 38, 38, 144)  1296       ['block2b_expand_activation[0][0]\n",
            " D)                                                              ']                               \n",
            "                                                                                                  \n",
            " block2b_bn (BatchNormalization  (None, 38, 38, 144)  576        ['block2b_dwconv[0][0]']         \n",
            " )                                                                                                \n",
            "                                                                                                  \n",
            " block2b_activation (Activation  (None, 38, 38, 144)  0          ['block2b_bn[0][0]']             \n",
            " )                                                                                                \n",
            "                                                                                                  \n",
            " block2b_se_squeeze (GlobalAver  (None, 144)         0           ['block2b_activation[0][0]']     \n",
            " agePooling2D)                                                                                    \n",
            "                                                                                                  \n",
            " block2b_se_reshape (Reshape)   (None, 1, 1, 144)    0           ['block2b_se_squeeze[0][0]']     \n",
            "                                                                                                  \n",
            " block2b_se_reduce (Conv2D)     (None, 1, 1, 6)      870         ['block2b_se_reshape[0][0]']     \n",
            "                                                                                                  \n",
            " block2b_se_expand (Conv2D)     (None, 1, 1, 144)    1008        ['block2b_se_reduce[0][0]']      \n",
            "                                                                                                  \n",
            " block2b_se_excite (Multiply)   (None, 38, 38, 144)  0           ['block2b_activation[0][0]',     \n",
            "                                                                  'block2b_se_expand[0][0]']      \n",
            "                                                                                                  \n",
            " block2b_project_conv (Conv2D)  (None, 38, 38, 24)   3456        ['block2b_se_excite[0][0]']      \n",
            "                                                                                                  \n",
            " block2b_project_bn (BatchNorma  (None, 38, 38, 24)  96          ['block2b_project_conv[0][0]']   \n",
            " lization)                                                                                        \n",
            "                                                                                                  \n",
            " block2b_drop (Dropout)         (None, 38, 38, 24)   0           ['block2b_project_bn[0][0]']     \n",
            "                                                                                                  \n",
            " block2b_add (Add)              (None, 38, 38, 24)   0           ['block2b_drop[0][0]',           \n",
            "                                                                  'block2a_project_bn[0][0]']     \n",
            "                                                                                                  \n",
            " block3a_expand_conv (Conv2D)   (None, 38, 38, 144)  3456        ['block2b_add[0][0]']            \n",
            "                                                                                                  \n",
            " block3a_expand_bn (BatchNormal  (None, 38, 38, 144)  576        ['block3a_expand_conv[0][0]']    \n",
            " ization)                                                                                         \n",
            "                                                                                                  \n",
            " block3a_expand_activation (Act  (None, 38, 38, 144)  0          ['block3a_expand_bn[0][0]']      \n",
            " ivation)                                                                                         \n",
            "                                                                                                  \n",
            " block3a_dwconv_pad (ZeroPaddin  (None, 41, 41, 144)  0          ['block3a_expand_activation[0][0]\n",
            " g2D)                                                            ']                               \n",
            "                                                                                                  \n",
            " block3a_dwconv (DepthwiseConv2  (None, 19, 19, 144)  3600       ['block3a_dwconv_pad[0][0]']     \n",
            " D)                                                                                               \n",
            "                                                                                                  \n",
            " block3a_bn (BatchNormalization  (None, 19, 19, 144)  576        ['block3a_dwconv[0][0]']         \n",
            " )                                                                                                \n",
            "                                                                                                  \n",
            " block3a_activation (Activation  (None, 19, 19, 144)  0          ['block3a_bn[0][0]']             \n",
            " )                                                                                                \n",
            "                                                                                                  \n",
            " block3a_se_squeeze (GlobalAver  (None, 144)         0           ['block3a_activation[0][0]']     \n",
            " agePooling2D)                                                                                    \n",
            "                                                                                                  \n",
            " block3a_se_reshape (Reshape)   (None, 1, 1, 144)    0           ['block3a_se_squeeze[0][0]']     \n",
            "                                                                                                  \n",
            " block3a_se_reduce (Conv2D)     (None, 1, 1, 6)      870         ['block3a_se_reshape[0][0]']     \n",
            "                                                                                                  \n",
            " block3a_se_expand (Conv2D)     (None, 1, 1, 144)    1008        ['block3a_se_reduce[0][0]']      \n",
            "                                                                                                  \n",
            " block3a_se_excite (Multiply)   (None, 19, 19, 144)  0           ['block3a_activation[0][0]',     \n",
            "                                                                  'block3a_se_expand[0][0]']      \n",
            "                                                                                                  \n",
            " block3a_project_conv (Conv2D)  (None, 19, 19, 40)   5760        ['block3a_se_excite[0][0]']      \n",
            "                                                                                                  \n",
            " block3a_project_bn (BatchNorma  (None, 19, 19, 40)  160         ['block3a_project_conv[0][0]']   \n",
            " lization)                                                                                        \n",
            "                                                                                                  \n",
            " block3b_expand_conv (Conv2D)   (None, 19, 19, 240)  9600        ['block3a_project_bn[0][0]']     \n",
            "                                                                                                  \n",
            " block3b_expand_bn (BatchNormal  (None, 19, 19, 240)  960        ['block3b_expand_conv[0][0]']    \n",
            " ization)                                                                                         \n",
            "                                                                                                  \n",
            " block3b_expand_activation (Act  (None, 19, 19, 240)  0          ['block3b_expand_bn[0][0]']      \n",
            " ivation)                                                                                         \n",
            "                                                                                                  \n",
            " block3b_dwconv (DepthwiseConv2  (None, 19, 19, 240)  6000       ['block3b_expand_activation[0][0]\n",
            " D)                                                              ']                               \n",
            "                                                                                                  \n",
            " block3b_bn (BatchNormalization  (None, 19, 19, 240)  960        ['block3b_dwconv[0][0]']         \n",
            " )                                                                                                \n",
            "                                                                                                  \n",
            " block3b_activation (Activation  (None, 19, 19, 240)  0          ['block3b_bn[0][0]']             \n",
            " )                                                                                                \n",
            "                                                                                                  \n",
            " block3b_se_squeeze (GlobalAver  (None, 240)         0           ['block3b_activation[0][0]']     \n",
            " agePooling2D)                                                                                    \n",
            "                                                                                                  \n",
            " block3b_se_reshape (Reshape)   (None, 1, 1, 240)    0           ['block3b_se_squeeze[0][0]']     \n",
            "                                                                                                  \n",
            " block3b_se_reduce (Conv2D)     (None, 1, 1, 10)     2410        ['block3b_se_reshape[0][0]']     \n",
            "                                                                                                  \n",
            " block3b_se_expand (Conv2D)     (None, 1, 1, 240)    2640        ['block3b_se_reduce[0][0]']      \n",
            "                                                                                                  \n",
            " block3b_se_excite (Multiply)   (None, 19, 19, 240)  0           ['block3b_activation[0][0]',     \n",
            "                                                                  'block3b_se_expand[0][0]']      \n",
            "                                                                                                  \n",
            " block3b_project_conv (Conv2D)  (None, 19, 19, 40)   9600        ['block3b_se_excite[0][0]']      \n",
            "                                                                                                  \n",
            " block3b_project_bn (BatchNorma  (None, 19, 19, 40)  160         ['block3b_project_conv[0][0]']   \n",
            " lization)                                                                                        \n",
            "                                                                                                  \n",
            " block3b_drop (Dropout)         (None, 19, 19, 40)   0           ['block3b_project_bn[0][0]']     \n",
            "                                                                                                  \n",
            " block3b_add (Add)              (None, 19, 19, 40)   0           ['block3b_drop[0][0]',           \n",
            "                                                                  'block3a_project_bn[0][0]']     \n",
            "                                                                                                  \n",
            " block4a_expand_conv (Conv2D)   (None, 19, 19, 240)  9600        ['block3b_add[0][0]']            \n",
            "                                                                                                  \n",
            " block4a_expand_bn (BatchNormal  (None, 19, 19, 240)  960        ['block4a_expand_conv[0][0]']    \n",
            " ization)                                                                                         \n",
            "                                                                                                  \n",
            " block4a_expand_activation (Act  (None, 19, 19, 240)  0          ['block4a_expand_bn[0][0]']      \n",
            " ivation)                                                                                         \n",
            "                                                                                                  \n",
            " block4a_dwconv_pad (ZeroPaddin  (None, 21, 21, 240)  0          ['block4a_expand_activation[0][0]\n",
            " g2D)                                                            ']                               \n",
            "                                                                                                  \n",
            " block4a_dwconv (DepthwiseConv2  (None, 10, 10, 240)  2160       ['block4a_dwconv_pad[0][0]']     \n",
            " D)                                                                                               \n",
            "                                                                                                  \n",
            " block4a_bn (BatchNormalization  (None, 10, 10, 240)  960        ['block4a_dwconv[0][0]']         \n",
            " )                                                                                                \n",
            "                                                                                                  \n",
            " block4a_activation (Activation  (None, 10, 10, 240)  0          ['block4a_bn[0][0]']             \n",
            " )                                                                                                \n",
            "                                                                                                  \n",
            " block4a_se_squeeze (GlobalAver  (None, 240)         0           ['block4a_activation[0][0]']     \n",
            " agePooling2D)                                                                                    \n",
            "                                                                                                  \n",
            " block4a_se_reshape (Reshape)   (None, 1, 1, 240)    0           ['block4a_se_squeeze[0][0]']     \n",
            "                                                                                                  \n",
            " block4a_se_reduce (Conv2D)     (None, 1, 1, 10)     2410        ['block4a_se_reshape[0][0]']     \n",
            "                                                                                                  \n",
            " block4a_se_expand (Conv2D)     (None, 1, 1, 240)    2640        ['block4a_se_reduce[0][0]']      \n",
            "                                                                                                  \n",
            " block4a_se_excite (Multiply)   (None, 10, 10, 240)  0           ['block4a_activation[0][0]',     \n",
            "                                                                  'block4a_se_expand[0][0]']      \n",
            "                                                                                                  \n",
            " block4a_project_conv (Conv2D)  (None, 10, 10, 80)   19200       ['block4a_se_excite[0][0]']      \n",
            "                                                                                                  \n",
            " block4a_project_bn (BatchNorma  (None, 10, 10, 80)  320         ['block4a_project_conv[0][0]']   \n",
            " lization)                                                                                        \n",
            "                                                                                                  \n",
            " block4b_expand_conv (Conv2D)   (None, 10, 10, 480)  38400       ['block4a_project_bn[0][0]']     \n",
            "                                                                                                  \n",
            " block4b_expand_bn (BatchNormal  (None, 10, 10, 480)  1920       ['block4b_expand_conv[0][0]']    \n",
            " ization)                                                                                         \n",
            "                                                                                                  \n",
            " block4b_expand_activation (Act  (None, 10, 10, 480)  0          ['block4b_expand_bn[0][0]']      \n",
            " ivation)                                                                                         \n",
            "                                                                                                  \n",
            " block4b_dwconv (DepthwiseConv2  (None, 10, 10, 480)  4320       ['block4b_expand_activation[0][0]\n",
            " D)                                                              ']                               \n",
            "                                                                                                  \n",
            " block4b_bn (BatchNormalization  (None, 10, 10, 480)  1920       ['block4b_dwconv[0][0]']         \n",
            " )                                                                                                \n",
            "                                                                                                  \n",
            " block4b_activation (Activation  (None, 10, 10, 480)  0          ['block4b_bn[0][0]']             \n",
            " )                                                                                                \n",
            "                                                                                                  \n",
            " block4b_se_squeeze (GlobalAver  (None, 480)         0           ['block4b_activation[0][0]']     \n",
            " agePooling2D)                                                                                    \n",
            "                                                                                                  \n",
            " block4b_se_reshape (Reshape)   (None, 1, 1, 480)    0           ['block4b_se_squeeze[0][0]']     \n",
            "                                                                                                  \n",
            " block4b_se_reduce (Conv2D)     (None, 1, 1, 20)     9620        ['block4b_se_reshape[0][0]']     \n",
            "                                                                                                  \n",
            " block4b_se_expand (Conv2D)     (None, 1, 1, 480)    10080       ['block4b_se_reduce[0][0]']      \n",
            "                                                                                                  \n",
            " block4b_se_excite (Multiply)   (None, 10, 10, 480)  0           ['block4b_activation[0][0]',     \n",
            "                                                                  'block4b_se_expand[0][0]']      \n",
            "                                                                                                  \n",
            " block4b_project_conv (Conv2D)  (None, 10, 10, 80)   38400       ['block4b_se_excite[0][0]']      \n",
            "                                                                                                  \n",
            " block4b_project_bn (BatchNorma  (None, 10, 10, 80)  320         ['block4b_project_conv[0][0]']   \n",
            " lization)                                                                                        \n",
            "                                                                                                  \n",
            " block4b_drop (Dropout)         (None, 10, 10, 80)   0           ['block4b_project_bn[0][0]']     \n",
            "                                                                                                  \n",
            " block4b_add (Add)              (None, 10, 10, 80)   0           ['block4b_drop[0][0]',           \n",
            "                                                                  'block4a_project_bn[0][0]']     \n",
            "                                                                                                  \n",
            " block4c_expand_conv (Conv2D)   (None, 10, 10, 480)  38400       ['block4b_add[0][0]']            \n",
            "                                                                                                  \n",
            " block4c_expand_bn (BatchNormal  (None, 10, 10, 480)  1920       ['block4c_expand_conv[0][0]']    \n",
            " ization)                                                                                         \n",
            "                                                                                                  \n",
            " block4c_expand_activation (Act  (None, 10, 10, 480)  0          ['block4c_expand_bn[0][0]']      \n",
            " ivation)                                                                                         \n",
            "                                                                                                  \n",
            " block4c_dwconv (DepthwiseConv2  (None, 10, 10, 480)  4320       ['block4c_expand_activation[0][0]\n",
            " D)                                                              ']                               \n",
            "                                                                                                  \n",
            " block4c_bn (BatchNormalization  (None, 10, 10, 480)  1920       ['block4c_dwconv[0][0]']         \n",
            " )                                                                                                \n",
            "                                                                                                  \n",
            " block4c_activation (Activation  (None, 10, 10, 480)  0          ['block4c_bn[0][0]']             \n",
            " )                                                                                                \n",
            "                                                                                                  \n",
            " block4c_se_squeeze (GlobalAver  (None, 480)         0           ['block4c_activation[0][0]']     \n",
            " agePooling2D)                                                                                    \n",
            "                                                                                                  \n",
            " block4c_se_reshape (Reshape)   (None, 1, 1, 480)    0           ['block4c_se_squeeze[0][0]']     \n",
            "                                                                                                  \n",
            " block4c_se_reduce (Conv2D)     (None, 1, 1, 20)     9620        ['block4c_se_reshape[0][0]']     \n",
            "                                                                                                  \n",
            " block4c_se_expand (Conv2D)     (None, 1, 1, 480)    10080       ['block4c_se_reduce[0][0]']      \n",
            "                                                                                                  \n",
            " block4c_se_excite (Multiply)   (None, 10, 10, 480)  0           ['block4c_activation[0][0]',     \n",
            "                                                                  'block4c_se_expand[0][0]']      \n",
            "                                                                                                  \n",
            " block4c_project_conv (Conv2D)  (None, 10, 10, 80)   38400       ['block4c_se_excite[0][0]']      \n",
            "                                                                                                  \n",
            " block4c_project_bn (BatchNorma  (None, 10, 10, 80)  320         ['block4c_project_conv[0][0]']   \n",
            " lization)                                                                                        \n",
            "                                                                                                  \n",
            " block4c_drop (Dropout)         (None, 10, 10, 80)   0           ['block4c_project_bn[0][0]']     \n",
            "                                                                                                  \n",
            " block4c_add (Add)              (None, 10, 10, 80)   0           ['block4c_drop[0][0]',           \n",
            "                                                                  'block4b_add[0][0]']            \n",
            "                                                                                                  \n",
            " block5a_expand_conv (Conv2D)   (None, 10, 10, 480)  38400       ['block4c_add[0][0]']            \n",
            "                                                                                                  \n",
            " block5a_expand_bn (BatchNormal  (None, 10, 10, 480)  1920       ['block5a_expand_conv[0][0]']    \n",
            " ization)                                                                                         \n",
            "                                                                                                  \n",
            " block5a_expand_activation (Act  (None, 10, 10, 480)  0          ['block5a_expand_bn[0][0]']      \n",
            " ivation)                                                                                         \n",
            "                                                                                                  \n",
            " block5a_dwconv (DepthwiseConv2  (None, 10, 10, 480)  12000      ['block5a_expand_activation[0][0]\n",
            " D)                                                              ']                               \n",
            "                                                                                                  \n",
            " block5a_bn (BatchNormalization  (None, 10, 10, 480)  1920       ['block5a_dwconv[0][0]']         \n",
            " )                                                                                                \n",
            "                                                                                                  \n",
            " block5a_activation (Activation  (None, 10, 10, 480)  0          ['block5a_bn[0][0]']             \n",
            " )                                                                                                \n",
            "                                                                                                  \n",
            " block5a_se_squeeze (GlobalAver  (None, 480)         0           ['block5a_activation[0][0]']     \n",
            " agePooling2D)                                                                                    \n",
            "                                                                                                  \n",
            " block5a_se_reshape (Reshape)   (None, 1, 1, 480)    0           ['block5a_se_squeeze[0][0]']     \n",
            "                                                                                                  \n",
            " block5a_se_reduce (Conv2D)     (None, 1, 1, 20)     9620        ['block5a_se_reshape[0][0]']     \n",
            "                                                                                                  \n",
            " block5a_se_expand (Conv2D)     (None, 1, 1, 480)    10080       ['block5a_se_reduce[0][0]']      \n",
            "                                                                                                  \n",
            " block5a_se_excite (Multiply)   (None, 10, 10, 480)  0           ['block5a_activation[0][0]',     \n",
            "                                                                  'block5a_se_expand[0][0]']      \n",
            "                                                                                                  \n",
            " block5a_project_conv (Conv2D)  (None, 10, 10, 112)  53760       ['block5a_se_excite[0][0]']      \n",
            "                                                                                                  \n",
            " block5a_project_bn (BatchNorma  (None, 10, 10, 112)  448        ['block5a_project_conv[0][0]']   \n",
            " lization)                                                                                        \n",
            "                                                                                                  \n",
            " block5b_expand_conv (Conv2D)   (None, 10, 10, 672)  75264       ['block5a_project_bn[0][0]']     \n",
            "                                                                                                  \n",
            " block5b_expand_bn (BatchNormal  (None, 10, 10, 672)  2688       ['block5b_expand_conv[0][0]']    \n",
            " ization)                                                                                         \n",
            "                                                                                                  \n",
            " block5b_expand_activation (Act  (None, 10, 10, 672)  0          ['block5b_expand_bn[0][0]']      \n",
            " ivation)                                                                                         \n",
            "                                                                                                  \n",
            " block5b_dwconv (DepthwiseConv2  (None, 10, 10, 672)  16800      ['block5b_expand_activation[0][0]\n",
            " D)                                                              ']                               \n",
            "                                                                                                  \n",
            " block5b_bn (BatchNormalization  (None, 10, 10, 672)  2688       ['block5b_dwconv[0][0]']         \n",
            " )                                                                                                \n",
            "                                                                                                  \n",
            " block5b_activation (Activation  (None, 10, 10, 672)  0          ['block5b_bn[0][0]']             \n",
            " )                                                                                                \n",
            "                                                                                                  \n",
            " block5b_se_squeeze (GlobalAver  (None, 672)         0           ['block5b_activation[0][0]']     \n",
            " agePooling2D)                                                                                    \n",
            "                                                                                                  \n",
            " block5b_se_reshape (Reshape)   (None, 1, 1, 672)    0           ['block5b_se_squeeze[0][0]']     \n",
            "                                                                                                  \n",
            " block5b_se_reduce (Conv2D)     (None, 1, 1, 28)     18844       ['block5b_se_reshape[0][0]']     \n",
            "                                                                                                  \n",
            " block5b_se_expand (Conv2D)     (None, 1, 1, 672)    19488       ['block5b_se_reduce[0][0]']      \n",
            "                                                                                                  \n",
            " block5b_se_excite (Multiply)   (None, 10, 10, 672)  0           ['block5b_activation[0][0]',     \n",
            "                                                                  'block5b_se_expand[0][0]']      \n",
            "                                                                                                  \n",
            " block5b_project_conv (Conv2D)  (None, 10, 10, 112)  75264       ['block5b_se_excite[0][0]']      \n",
            "                                                                                                  \n",
            " block5b_project_bn (BatchNorma  (None, 10, 10, 112)  448        ['block5b_project_conv[0][0]']   \n",
            " lization)                                                                                        \n",
            "                                                                                                  \n",
            " block5b_drop (Dropout)         (None, 10, 10, 112)  0           ['block5b_project_bn[0][0]']     \n",
            "                                                                                                  \n",
            " block5b_add (Add)              (None, 10, 10, 112)  0           ['block5b_drop[0][0]',           \n",
            "                                                                  'block5a_project_bn[0][0]']     \n",
            "                                                                                                  \n",
            " block5c_expand_conv (Conv2D)   (None, 10, 10, 672)  75264       ['block5b_add[0][0]']            \n",
            "                                                                                                  \n",
            " block5c_expand_bn (BatchNormal  (None, 10, 10, 672)  2688       ['block5c_expand_conv[0][0]']    \n",
            " ization)                                                                                         \n",
            "                                                                                                  \n",
            " block5c_expand_activation (Act  (None, 10, 10, 672)  0          ['block5c_expand_bn[0][0]']      \n",
            " ivation)                                                                                         \n",
            "                                                                                                  \n",
            " block5c_dwconv (DepthwiseConv2  (None, 10, 10, 672)  16800      ['block5c_expand_activation[0][0]\n",
            " D)                                                              ']                               \n",
            "                                                                                                  \n",
            " block5c_bn (BatchNormalization  (None, 10, 10, 672)  2688       ['block5c_dwconv[0][0]']         \n",
            " )                                                                                                \n",
            "                                                                                                  \n",
            " block5c_activation (Activation  (None, 10, 10, 672)  0          ['block5c_bn[0][0]']             \n",
            " )                                                                                                \n",
            "                                                                                                  \n",
            " block5c_se_squeeze (GlobalAver  (None, 672)         0           ['block5c_activation[0][0]']     \n",
            " agePooling2D)                                                                                    \n",
            "                                                                                                  \n",
            " block5c_se_reshape (Reshape)   (None, 1, 1, 672)    0           ['block5c_se_squeeze[0][0]']     \n",
            "                                                                                                  \n",
            " block5c_se_reduce (Conv2D)     (None, 1, 1, 28)     18844       ['block5c_se_reshape[0][0]']     \n",
            "                                                                                                  \n",
            " block5c_se_expand (Conv2D)     (None, 1, 1, 672)    19488       ['block5c_se_reduce[0][0]']      \n",
            "                                                                                                  \n",
            " block5c_se_excite (Multiply)   (None, 10, 10, 672)  0           ['block5c_activation[0][0]',     \n",
            "                                                                  'block5c_se_expand[0][0]']      \n",
            "                                                                                                  \n",
            " block5c_project_conv (Conv2D)  (None, 10, 10, 112)  75264       ['block5c_se_excite[0][0]']      \n",
            "                                                                                                  \n",
            " block5c_project_bn (BatchNorma  (None, 10, 10, 112)  448        ['block5c_project_conv[0][0]']   \n",
            " lization)                                                                                        \n",
            "                                                                                                  \n",
            " block5c_drop (Dropout)         (None, 10, 10, 112)  0           ['block5c_project_bn[0][0]']     \n",
            "                                                                                                  \n",
            " block5c_add (Add)              (None, 10, 10, 112)  0           ['block5c_drop[0][0]',           \n",
            "                                                                  'block5b_add[0][0]']            \n",
            "                                                                                                  \n",
            " block6a_expand_conv (Conv2D)   (None, 10, 10, 672)  75264       ['block5c_add[0][0]']            \n",
            "                                                                                                  \n",
            " block6a_expand_bn (BatchNormal  (None, 10, 10, 672)  2688       ['block6a_expand_conv[0][0]']    \n",
            " ization)                                                                                         \n",
            "                                                                                                  \n",
            " block6a_expand_activation (Act  (None, 10, 10, 672)  0          ['block6a_expand_bn[0][0]']      \n",
            " ivation)                                                                                         \n",
            "                                                                                                  \n",
            " block6a_dwconv_pad (ZeroPaddin  (None, 13, 13, 672)  0          ['block6a_expand_activation[0][0]\n",
            " g2D)                                                            ']                               \n",
            "                                                                                                  \n",
            " block6a_dwconv (DepthwiseConv2  (None, 5, 5, 672)   16800       ['block6a_dwconv_pad[0][0]']     \n",
            " D)                                                                                               \n",
            "                                                                                                  \n",
            " block6a_bn (BatchNormalization  (None, 5, 5, 672)   2688        ['block6a_dwconv[0][0]']         \n",
            " )                                                                                                \n",
            "                                                                                                  \n",
            " block6a_activation (Activation  (None, 5, 5, 672)   0           ['block6a_bn[0][0]']             \n",
            " )                                                                                                \n",
            "                                                                                                  \n",
            " block6a_se_squeeze (GlobalAver  (None, 672)         0           ['block6a_activation[0][0]']     \n",
            " agePooling2D)                                                                                    \n",
            "                                                                                                  \n",
            " block6a_se_reshape (Reshape)   (None, 1, 1, 672)    0           ['block6a_se_squeeze[0][0]']     \n",
            "                                                                                                  \n",
            " block6a_se_reduce (Conv2D)     (None, 1, 1, 28)     18844       ['block6a_se_reshape[0][0]']     \n",
            "                                                                                                  \n",
            " block6a_se_expand (Conv2D)     (None, 1, 1, 672)    19488       ['block6a_se_reduce[0][0]']      \n",
            "                                                                                                  \n",
            " block6a_se_excite (Multiply)   (None, 5, 5, 672)    0           ['block6a_activation[0][0]',     \n",
            "                                                                  'block6a_se_expand[0][0]']      \n",
            "                                                                                                  \n",
            " block6a_project_conv (Conv2D)  (None, 5, 5, 192)    129024      ['block6a_se_excite[0][0]']      \n",
            "                                                                                                  \n",
            " block6a_project_bn (BatchNorma  (None, 5, 5, 192)   768         ['block6a_project_conv[0][0]']   \n",
            " lization)                                                                                        \n",
            "                                                                                                  \n",
            " block6b_expand_conv (Conv2D)   (None, 5, 5, 1152)   221184      ['block6a_project_bn[0][0]']     \n",
            "                                                                                                  \n",
            " block6b_expand_bn (BatchNormal  (None, 5, 5, 1152)  4608        ['block6b_expand_conv[0][0]']    \n",
            " ization)                                                                                         \n",
            "                                                                                                  \n",
            " block6b_expand_activation (Act  (None, 5, 5, 1152)  0           ['block6b_expand_bn[0][0]']      \n",
            " ivation)                                                                                         \n",
            "                                                                                                  \n",
            " block6b_dwconv (DepthwiseConv2  (None, 5, 5, 1152)  28800       ['block6b_expand_activation[0][0]\n",
            " D)                                                              ']                               \n",
            "                                                                                                  \n",
            " block6b_bn (BatchNormalization  (None, 5, 5, 1152)  4608        ['block6b_dwconv[0][0]']         \n",
            " )                                                                                                \n",
            "                                                                                                  \n",
            " block6b_activation (Activation  (None, 5, 5, 1152)  0           ['block6b_bn[0][0]']             \n",
            " )                                                                                                \n",
            "                                                                                                  \n",
            " block6b_se_squeeze (GlobalAver  (None, 1152)        0           ['block6b_activation[0][0]']     \n",
            " agePooling2D)                                                                                    \n",
            "                                                                                                  \n",
            " block6b_se_reshape (Reshape)   (None, 1, 1, 1152)   0           ['block6b_se_squeeze[0][0]']     \n",
            "                                                                                                  \n",
            " block6b_se_reduce (Conv2D)     (None, 1, 1, 48)     55344       ['block6b_se_reshape[0][0]']     \n",
            "                                                                                                  \n",
            " block6b_se_expand (Conv2D)     (None, 1, 1, 1152)   56448       ['block6b_se_reduce[0][0]']      \n",
            "                                                                                                  \n",
            " block6b_se_excite (Multiply)   (None, 5, 5, 1152)   0           ['block6b_activation[0][0]',     \n",
            "                                                                  'block6b_se_expand[0][0]']      \n",
            "                                                                                                  \n",
            " block6b_project_conv (Conv2D)  (None, 5, 5, 192)    221184      ['block6b_se_excite[0][0]']      \n",
            "                                                                                                  \n",
            " block6b_project_bn (BatchNorma  (None, 5, 5, 192)   768         ['block6b_project_conv[0][0]']   \n",
            " lization)                                                                                        \n",
            "                                                                                                  \n",
            " block6b_drop (Dropout)         (None, 5, 5, 192)    0           ['block6b_project_bn[0][0]']     \n",
            "                                                                                                  \n",
            " block6b_add (Add)              (None, 5, 5, 192)    0           ['block6b_drop[0][0]',           \n",
            "                                                                  'block6a_project_bn[0][0]']     \n",
            "                                                                                                  \n",
            " block6c_expand_conv (Conv2D)   (None, 5, 5, 1152)   221184      ['block6b_add[0][0]']            \n",
            "                                                                                                  \n",
            " block6c_expand_bn (BatchNormal  (None, 5, 5, 1152)  4608        ['block6c_expand_conv[0][0]']    \n",
            " ization)                                                                                         \n",
            "                                                                                                  \n",
            " block6c_expand_activation (Act  (None, 5, 5, 1152)  0           ['block6c_expand_bn[0][0]']      \n",
            " ivation)                                                                                         \n",
            "                                                                                                  \n",
            " block6c_dwconv (DepthwiseConv2  (None, 5, 5, 1152)  28800       ['block6c_expand_activation[0][0]\n",
            " D)                                                              ']                               \n",
            "                                                                                                  \n",
            " block6c_bn (BatchNormalization  (None, 5, 5, 1152)  4608        ['block6c_dwconv[0][0]']         \n",
            " )                                                                                                \n",
            "                                                                                                  \n",
            " block6c_activation (Activation  (None, 5, 5, 1152)  0           ['block6c_bn[0][0]']             \n",
            " )                                                                                                \n",
            "                                                                                                  \n",
            " block6c_se_squeeze (GlobalAver  (None, 1152)        0           ['block6c_activation[0][0]']     \n",
            " agePooling2D)                                                                                    \n",
            "                                                                                                  \n",
            " block6c_se_reshape (Reshape)   (None, 1, 1, 1152)   0           ['block6c_se_squeeze[0][0]']     \n",
            "                                                                                                  \n",
            " block6c_se_reduce (Conv2D)     (None, 1, 1, 48)     55344       ['block6c_se_reshape[0][0]']     \n",
            "                                                                                                  \n",
            " block6c_se_expand (Conv2D)     (None, 1, 1, 1152)   56448       ['block6c_se_reduce[0][0]']      \n",
            "                                                                                                  \n",
            " block6c_se_excite (Multiply)   (None, 5, 5, 1152)   0           ['block6c_activation[0][0]',     \n",
            "                                                                  'block6c_se_expand[0][0]']      \n",
            "                                                                                                  \n",
            " block6c_project_conv (Conv2D)  (None, 5, 5, 192)    221184      ['block6c_se_excite[0][0]']      \n",
            "                                                                                                  \n",
            " block6c_project_bn (BatchNorma  (None, 5, 5, 192)   768         ['block6c_project_conv[0][0]']   \n",
            " lization)                                                                                        \n",
            "                                                                                                  \n",
            " block6c_drop (Dropout)         (None, 5, 5, 192)    0           ['block6c_project_bn[0][0]']     \n",
            "                                                                                                  \n",
            " block6c_add (Add)              (None, 5, 5, 192)    0           ['block6c_drop[0][0]',           \n",
            "                                                                  'block6b_add[0][0]']            \n",
            "                                                                                                  \n",
            " block6d_expand_conv (Conv2D)   (None, 5, 5, 1152)   221184      ['block6c_add[0][0]']            \n",
            "                                                                                                  \n",
            " block6d_expand_bn (BatchNormal  (None, 5, 5, 1152)  4608        ['block6d_expand_conv[0][0]']    \n",
            " ization)                                                                                         \n",
            "                                                                                                  \n",
            " block6d_expand_activation (Act  (None, 5, 5, 1152)  0           ['block6d_expand_bn[0][0]']      \n",
            " ivation)                                                                                         \n",
            "                                                                                                  \n",
            " block6d_dwconv (DepthwiseConv2  (None, 5, 5, 1152)  28800       ['block6d_expand_activation[0][0]\n",
            " D)                                                              ']                               \n",
            "                                                                                                  \n",
            " block6d_bn (BatchNormalization  (None, 5, 5, 1152)  4608        ['block6d_dwconv[0][0]']         \n",
            " )                                                                                                \n",
            "                                                                                                  \n",
            " block6d_activation (Activation  (None, 5, 5, 1152)  0           ['block6d_bn[0][0]']             \n",
            " )                                                                                                \n",
            "                                                                                                  \n",
            " block6d_se_squeeze (GlobalAver  (None, 1152)        0           ['block6d_activation[0][0]']     \n",
            " agePooling2D)                                                                                    \n",
            "                                                                                                  \n",
            " block6d_se_reshape (Reshape)   (None, 1, 1, 1152)   0           ['block6d_se_squeeze[0][0]']     \n",
            "                                                                                                  \n",
            " block6d_se_reduce (Conv2D)     (None, 1, 1, 48)     55344       ['block6d_se_reshape[0][0]']     \n",
            "                                                                                                  \n",
            " block6d_se_expand (Conv2D)     (None, 1, 1, 1152)   56448       ['block6d_se_reduce[0][0]']      \n",
            "                                                                                                  \n",
            " block6d_se_excite (Multiply)   (None, 5, 5, 1152)   0           ['block6d_activation[0][0]',     \n",
            "                                                                  'block6d_se_expand[0][0]']      \n",
            "                                                                                                  \n",
            " block6d_project_conv (Conv2D)  (None, 5, 5, 192)    221184      ['block6d_se_excite[0][0]']      \n",
            "                                                                                                  \n",
            " block6d_project_bn (BatchNorma  (None, 5, 5, 192)   768         ['block6d_project_conv[0][0]']   \n",
            " lization)                                                                                        \n",
            "                                                                                                  \n",
            " block6d_drop (Dropout)         (None, 5, 5, 192)    0           ['block6d_project_bn[0][0]']     \n",
            "                                                                                                  \n",
            " block6d_add (Add)              (None, 5, 5, 192)    0           ['block6d_drop[0][0]',           \n",
            "                                                                  'block6c_add[0][0]']            \n",
            "                                                                                                  \n",
            " block7a_expand_conv (Conv2D)   (None, 5, 5, 1152)   221184      ['block6d_add[0][0]']            \n",
            "                                                                                                  \n",
            " block7a_expand_bn (BatchNormal  (None, 5, 5, 1152)  4608        ['block7a_expand_conv[0][0]']    \n",
            " ization)                                                                                         \n",
            "                                                                                                  \n",
            " block7a_expand_activation (Act  (None, 5, 5, 1152)  0           ['block7a_expand_bn[0][0]']      \n",
            " ivation)                                                                                         \n",
            "                                                                                                  \n",
            " block7a_dwconv (DepthwiseConv2  (None, 5, 5, 1152)  10368       ['block7a_expand_activation[0][0]\n",
            " D)                                                              ']                               \n",
            "                                                                                                  \n",
            " block7a_bn (BatchNormalization  (None, 5, 5, 1152)  4608        ['block7a_dwconv[0][0]']         \n",
            " )                                                                                                \n",
            "                                                                                                  \n",
            " block7a_activation (Activation  (None, 5, 5, 1152)  0           ['block7a_bn[0][0]']             \n",
            " )                                                                                                \n",
            "                                                                                                  \n",
            " block7a_se_squeeze (GlobalAver  (None, 1152)        0           ['block7a_activation[0][0]']     \n",
            " agePooling2D)                                                                                    \n",
            "                                                                                                  \n",
            " block7a_se_reshape (Reshape)   (None, 1, 1, 1152)   0           ['block7a_se_squeeze[0][0]']     \n",
            "                                                                                                  \n",
            " block7a_se_reduce (Conv2D)     (None, 1, 1, 48)     55344       ['block7a_se_reshape[0][0]']     \n",
            "                                                                                                  \n",
            " block7a_se_expand (Conv2D)     (None, 1, 1, 1152)   56448       ['block7a_se_reduce[0][0]']      \n",
            "                                                                                                  \n",
            " block7a_se_excite (Multiply)   (None, 5, 5, 1152)   0           ['block7a_activation[0][0]',     \n",
            "                                                                  'block7a_se_expand[0][0]']      \n",
            "                                                                                                  \n",
            " block7a_project_conv (Conv2D)  (None, 5, 5, 320)    368640      ['block7a_se_excite[0][0]']      \n",
            "                                                                                                  \n",
            " block7a_project_bn (BatchNorma  (None, 5, 5, 320)   1280        ['block7a_project_conv[0][0]']   \n",
            " lization)                                                                                        \n",
            "                                                                                                  \n",
            " top_conv (Conv2D)              (None, 5, 5, 1280)   409600      ['block7a_project_bn[0][0]']     \n",
            "                                                                                                  \n",
            " top_bn (BatchNormalization)    (None, 5, 5, 1280)   5120        ['top_conv[0][0]']               \n",
            "                                                                                                  \n",
            " top_activation (Activation)    (None, 5, 5, 1280)   0           ['top_bn[0][0]']                 \n",
            "                                                                                                  \n",
            " global_average_pooling2d_1 (Gl  (None, 1280)        0           ['top_activation[0][0]']         \n",
            " obalAveragePooling2D)                                                                            \n",
            "                                                                                                  \n",
            " dense_2 (Dense)                (None, 128)          163968      ['global_average_pooling2d_1[0][0\n",
            "                                                                 ]']                              \n",
            "                                                                                                  \n",
            " dropout_1 (Dropout)            (None, 128)          0           ['dense_2[0][0]']                \n",
            "                                                                                                  \n",
            " dense_3 (Dense)                (None, 4)            516         ['dropout_1[0][0]']              \n",
            "                                                                                                  \n",
            "==================================================================================================\n",
            "Total params: 4,214,055\n",
            "Trainable params: 164,484\n",
            "Non-trainable params: 4,049,571\n",
            "__________________________________________________________________________________________________\n"
          ]
        }
      ]
    },
    {
      "cell_type": "code",
      "source": [
        "model.compile(loss='categorical_crossentropy', optimizer='adam', metrics=['accuracy'])"
      ],
      "metadata": {
        "id": "x6a2CLcqP-h4"
      },
      "execution_count": null,
      "outputs": []
    },
    {
      "cell_type": "code",
      "source": [
        "val_data = []\n",
        "val_labels = []\n",
        "for i in range(len(validation_generator)):\n",
        "    batch_val_data, batch_val_labels = validation_generator.next()\n",
        "    val_data.append(batch_val_data)\n",
        "    val_labels.append(batch_val_labels)\n",
        "\n",
        "x_val = np.concatenate(val_data)\n",
        "y_val = np.concatenate(val_labels)"
      ],
      "metadata": {
        "id": "I09um1j7PHGy"
      },
      "execution_count": null,
      "outputs": []
    },
    {
      "cell_type": "code",
      "source": [
        "#FOR FIT - validation_data=(x_val, y_val)"
      ],
      "metadata": {
        "id": "7caAWKRIVfg7"
      },
      "execution_count": null,
      "outputs": []
    },
    {
      "cell_type": "markdown",
      "source": [
        "validation data expects a tuple"
      ],
      "metadata": {
        "id": "ym-yHTYhS8AI"
      }
    },
    {
      "cell_type": "code",
      "source": [
        "history = model.fit(training_generator, epochs=10, validation_data=validation_generator)"
      ],
      "metadata": {
        "id": "yX5fNOv2O1cs",
        "colab": {
          "base_uri": "https://localhost:8080/"
        },
        "outputId": "b1675dd7-8437-4a45-cb56-4c08eae4300f"
      },
      "execution_count": null,
      "outputs": [
        {
          "output_type": "stream",
          "name": "stdout",
          "text": [
            "Epoch 1/10\n",
            "72/72 [==============================] - 104s 1s/step - loss: 1.3503 - accuracy: 0.2712 - val_loss: 1.3499 - val_accuracy: 0.2862\n",
            "Epoch 2/10\n",
            "72/72 [==============================] - 114s 2s/step - loss: 1.3496 - accuracy: 0.2865 - val_loss: 1.3494 - val_accuracy: 0.2862\n",
            "Epoch 3/10\n",
            "72/72 [==============================] - 104s 1s/step - loss: 1.3492 - accuracy: 0.2778 - val_loss: 1.3491 - val_accuracy: 0.2862\n",
            "Epoch 4/10\n",
            "72/72 [==============================] - 104s 1s/step - loss: 1.3489 - accuracy: 0.2852 - val_loss: 1.3488 - val_accuracy: 0.2880\n",
            "Epoch 5/10\n",
            "72/72 [==============================] - 122s 2s/step - loss: 1.3486 - accuracy: 0.2882 - val_loss: 1.3486 - val_accuracy: 0.2880\n",
            "Epoch 6/10\n",
            "72/72 [==============================] - 104s 1s/step - loss: 1.3485 - accuracy: 0.2760 - val_loss: 1.3485 - val_accuracy: 0.2880\n",
            "Epoch 7/10\n",
            "72/72 [==============================] - 104s 1s/step - loss: 1.3483 - accuracy: 0.2786 - val_loss: 1.3484 - val_accuracy: 0.2880\n",
            "Epoch 8/10\n",
            "72/72 [==============================] - 104s 1s/step - loss: 1.3483 - accuracy: 0.2882 - val_loss: 1.3484 - val_accuracy: 0.2880\n",
            "Epoch 9/10\n",
            "72/72 [==============================] - 123s 2s/step - loss: 1.3482 - accuracy: 0.2721 - val_loss: 1.3483 - val_accuracy: 0.2880\n",
            "Epoch 10/10\n",
            "72/72 [==============================] - 104s 1s/step - loss: 1.3483 - accuracy: 0.2769 - val_loss: 1.3483 - val_accuracy: 0.2880\n"
          ]
        }
      ]
    },
    {
      "cell_type": "code",
      "source": [
        "history.history"
      ],
      "metadata": {
        "colab": {
          "base_uri": "https://localhost:8080/"
        },
        "id": "1Lys7I1ZKI9l",
        "outputId": "89cc2645-da3f-49e0-ab06-1b1ce472cb49"
      },
      "execution_count": null,
      "outputs": [
        {
          "output_type": "execute_result",
          "data": {
            "text/plain": [
              "{'loss': [1.3677661418914795,\n",
              "  1.357596755027771,\n",
              "  1.3601630926132202,\n",
              "  1.360884189605713,\n",
              "  1.3527201414108276,\n",
              "  1.355267882347107,\n",
              "  1.3542760610580444,\n",
              "  1.3526884317398071,\n",
              "  1.351296305656433,\n",
              "  1.3542497158050537],\n",
              " 'accuracy': [0.28080105781555176,\n",
              "  0.3043099641799927,\n",
              "  0.28384849429130554,\n",
              "  0.27340009808540344,\n",
              "  0.2925555109977722,\n",
              "  0.3069220781326294,\n",
              "  0.27993035316467285,\n",
              "  0.2825424373149872,\n",
              "  0.2768828868865967,\n",
              "  0.29516759514808655]}"
            ]
          },
          "metadata": {},
          "execution_count": 15
        }
      ]
    },
    {
      "cell_type": "code",
      "execution_count": null,
      "metadata": {
        "id": "zM77-N-k_eIC"
      },
      "outputs": [],
      "source": [
        "for images, labels in testgen.batch(batch_size = 32):\n",
        "    "
      ]
    },
    {
      "cell_type": "code",
      "execution_count": null,
      "metadata": {
        "id": "AcClxlpX_eIC",
        "outputId": "c8fc82f2-024b-4dac-c607-e1624ca2ef51"
      },
      "outputs": [
        {
          "ename": "NameError",
          "evalue": "name 'scipy' is not defined",
          "output_type": "error",
          "traceback": [
            "\u001b[1;31m---------------------------------------------------------------------------\u001b[0m",
            "\u001b[1;31mNameError\u001b[0m                                 Traceback (most recent call last)",
            "Cell \u001b[1;32mIn [12], line 1\u001b[0m\n\u001b[1;32m----> 1\u001b[0m x \u001b[39m=\u001b[39m testing_generator\u001b[39m.\u001b[39mnext()\n",
            "File \u001b[1;32mc:\\Users\\tomke\\AppData\\Local\\Programs\\Python\\Python310\\lib\\site-packages\\keras\\preprocessing\\image.py:168\u001b[0m, in \u001b[0;36mIterator.next\u001b[1;34m(self)\u001b[0m\n\u001b[0;32m    165\u001b[0m     index_array \u001b[39m=\u001b[39m \u001b[39mnext\u001b[39m(\u001b[39mself\u001b[39m\u001b[39m.\u001b[39mindex_generator)\n\u001b[0;32m    166\u001b[0m \u001b[39m# The transformation of images is not under thread lock\u001b[39;00m\n\u001b[0;32m    167\u001b[0m \u001b[39m# so it can be done in parallel\u001b[39;00m\n\u001b[1;32m--> 168\u001b[0m \u001b[39mreturn\u001b[39;00m \u001b[39mself\u001b[39;49m\u001b[39m.\u001b[39;49m_get_batches_of_transformed_samples(index_array)\n",
            "File \u001b[1;32mc:\\Users\\tomke\\AppData\\Local\\Programs\\Python\\Python310\\lib\\site-packages\\keras\\preprocessing\\image.py:384\u001b[0m, in \u001b[0;36mBatchFromFilesMixin._get_batches_of_transformed_samples\u001b[1;34m(self, index_array)\u001b[0m\n\u001b[0;32m    382\u001b[0m \u001b[39mif\u001b[39;00m \u001b[39mself\u001b[39m\u001b[39m.\u001b[39mimage_data_generator:\n\u001b[0;32m    383\u001b[0m     params \u001b[39m=\u001b[39m \u001b[39mself\u001b[39m\u001b[39m.\u001b[39mimage_data_generator\u001b[39m.\u001b[39mget_random_transform(x\u001b[39m.\u001b[39mshape)\n\u001b[1;32m--> 384\u001b[0m     x \u001b[39m=\u001b[39m \u001b[39mself\u001b[39;49m\u001b[39m.\u001b[39;49mimage_data_generator\u001b[39m.\u001b[39;49mapply_transform(x, params)\n\u001b[0;32m    385\u001b[0m     x \u001b[39m=\u001b[39m \u001b[39mself\u001b[39m\u001b[39m.\u001b[39mimage_data_generator\u001b[39m.\u001b[39mstandardize(x)\n\u001b[0;32m    386\u001b[0m batch_x[i] \u001b[39m=\u001b[39m x\n",
            "File \u001b[1;32mc:\\Users\\tomke\\AppData\\Local\\Programs\\Python\\Python310\\lib\\site-packages\\keras\\preprocessing\\image.py:2013\u001b[0m, in \u001b[0;36mImageDataGenerator.apply_transform\u001b[1;34m(self, x, transform_parameters)\u001b[0m\n\u001b[0;32m   2010\u001b[0m img_col_axis \u001b[39m=\u001b[39m \u001b[39mself\u001b[39m\u001b[39m.\u001b[39mcol_axis \u001b[39m-\u001b[39m \u001b[39m1\u001b[39m\n\u001b[0;32m   2011\u001b[0m img_channel_axis \u001b[39m=\u001b[39m \u001b[39mself\u001b[39m\u001b[39m.\u001b[39mchannel_axis \u001b[39m-\u001b[39m \u001b[39m1\u001b[39m\n\u001b[1;32m-> 2013\u001b[0m x \u001b[39m=\u001b[39m apply_affine_transform(\n\u001b[0;32m   2014\u001b[0m     x,\n\u001b[0;32m   2015\u001b[0m     transform_parameters\u001b[39m.\u001b[39;49mget(\u001b[39m\"\u001b[39;49m\u001b[39mtheta\u001b[39;49m\u001b[39m\"\u001b[39;49m, \u001b[39m0\u001b[39;49m),\n\u001b[0;32m   2016\u001b[0m     transform_parameters\u001b[39m.\u001b[39;49mget(\u001b[39m\"\u001b[39;49m\u001b[39mtx\u001b[39;49m\u001b[39m\"\u001b[39;49m, \u001b[39m0\u001b[39;49m),\n\u001b[0;32m   2017\u001b[0m     transform_parameters\u001b[39m.\u001b[39;49mget(\u001b[39m\"\u001b[39;49m\u001b[39mty\u001b[39;49m\u001b[39m\"\u001b[39;49m, \u001b[39m0\u001b[39;49m),\n\u001b[0;32m   2018\u001b[0m     transform_parameters\u001b[39m.\u001b[39;49mget(\u001b[39m\"\u001b[39;49m\u001b[39mshear\u001b[39;49m\u001b[39m\"\u001b[39;49m, \u001b[39m0\u001b[39;49m),\n\u001b[0;32m   2019\u001b[0m     transform_parameters\u001b[39m.\u001b[39;49mget(\u001b[39m\"\u001b[39;49m\u001b[39mzx\u001b[39;49m\u001b[39m\"\u001b[39;49m, \u001b[39m1\u001b[39;49m),\n\u001b[0;32m   2020\u001b[0m     transform_parameters\u001b[39m.\u001b[39;49mget(\u001b[39m\"\u001b[39;49m\u001b[39mzy\u001b[39;49m\u001b[39m\"\u001b[39;49m, \u001b[39m1\u001b[39;49m),\n\u001b[0;32m   2021\u001b[0m     row_axis\u001b[39m=\u001b[39;49mimg_row_axis,\n\u001b[0;32m   2022\u001b[0m     col_axis\u001b[39m=\u001b[39;49mimg_col_axis,\n\u001b[0;32m   2023\u001b[0m     channel_axis\u001b[39m=\u001b[39;49mimg_channel_axis,\n\u001b[0;32m   2024\u001b[0m     fill_mode\u001b[39m=\u001b[39;49m\u001b[39mself\u001b[39;49m\u001b[39m.\u001b[39;49mfill_mode,\n\u001b[0;32m   2025\u001b[0m     cval\u001b[39m=\u001b[39;49m\u001b[39mself\u001b[39;49m\u001b[39m.\u001b[39;49mcval,\n\u001b[0;32m   2026\u001b[0m     order\u001b[39m=\u001b[39;49m\u001b[39mself\u001b[39;49m\u001b[39m.\u001b[39;49minterpolation_order,\n\u001b[0;32m   2027\u001b[0m )\n\u001b[0;32m   2029\u001b[0m \u001b[39mif\u001b[39;00m transform_parameters\u001b[39m.\u001b[39mget(\u001b[39m\"\u001b[39m\u001b[39mchannel_shift_intensity\u001b[39m\u001b[39m\"\u001b[39m) \u001b[39mis\u001b[39;00m \u001b[39mnot\u001b[39;00m \u001b[39mNone\u001b[39;00m:\n\u001b[0;32m   2030\u001b[0m     x \u001b[39m=\u001b[39m apply_channel_shift(\n\u001b[0;32m   2031\u001b[0m         x,\n\u001b[0;32m   2032\u001b[0m         transform_parameters[\u001b[39m\"\u001b[39m\u001b[39mchannel_shift_intensity\u001b[39m\u001b[39m\"\u001b[39m],\n\u001b[0;32m   2033\u001b[0m         img_channel_axis,\n\u001b[0;32m   2034\u001b[0m     )\n",
            "File \u001b[1;32mc:\\Users\\tomke\\AppData\\Local\\Programs\\Python\\Python310\\lib\\site-packages\\keras\\preprocessing\\image.py:2529\u001b[0m, in \u001b[0;36mapply_affine_transform\u001b[1;34m(x, theta, tx, ty, shear, zx, zy, row_axis, col_axis, channel_axis, fill_mode, cval, order)\u001b[0m\n\u001b[0;32m   2485\u001b[0m \u001b[39m@keras_export\u001b[39m(\u001b[39m\"\u001b[39m\u001b[39mkeras.preprocessing.image.apply_affine_transform\u001b[39m\u001b[39m\"\u001b[39m)\n\u001b[0;32m   2486\u001b[0m \u001b[39mdef\u001b[39;00m \u001b[39mapply_affine_transform\u001b[39m(\n\u001b[0;32m   2487\u001b[0m     x,\n\u001b[1;32m   (...)\u001b[0m\n\u001b[0;32m   2499\u001b[0m     order\u001b[39m=\u001b[39m\u001b[39m1\u001b[39m,\n\u001b[0;32m   2500\u001b[0m ):\n\u001b[0;32m   2501\u001b[0m     \u001b[39m\"\"\"Applies an affine transformation specified by the parameters given.\u001b[39;00m\n\u001b[0;32m   2502\u001b[0m \n\u001b[0;32m   2503\u001b[0m \u001b[39m    Args:\u001b[39;00m\n\u001b[1;32m   (...)\u001b[0m\n\u001b[0;32m   2527\u001b[0m \u001b[39m        ImportError: if SciPy is not available.\u001b[39;00m\n\u001b[0;32m   2528\u001b[0m \u001b[39m    \"\"\"\u001b[39;00m\n\u001b[1;32m-> 2529\u001b[0m     \u001b[39mif\u001b[39;00m scipy \u001b[39mis\u001b[39;00m \u001b[39mNone\u001b[39;00m:\n\u001b[0;32m   2530\u001b[0m         \u001b[39mraise\u001b[39;00m \u001b[39mImportError\u001b[39;00m(\n\u001b[0;32m   2531\u001b[0m             \u001b[39m\"\u001b[39m\u001b[39mImage transformations require SciPy. \u001b[39m\u001b[39m\"\u001b[39m \u001b[39m\"\u001b[39m\u001b[39mInstall SciPy.\u001b[39m\u001b[39m\"\u001b[39m\n\u001b[0;32m   2532\u001b[0m         )\n\u001b[0;32m   2534\u001b[0m     \u001b[39m# Input sanity checks:\u001b[39;00m\n\u001b[0;32m   2535\u001b[0m     \u001b[39m# 1. x must 2D image with one or more channels (i.e., a 3D tensor)\u001b[39;00m\n\u001b[0;32m   2536\u001b[0m     \u001b[39m# 2. channels must be either first or last dimension\u001b[39;00m\n",
            "\u001b[1;31mNameError\u001b[0m: name 'scipy' is not defined"
          ]
        }
      ],
      "source": [
        "x = testing_generator.next()"
      ]
    },
    {
      "cell_type": "code",
      "execution_count": null,
      "metadata": {
        "id": "XmuvPyQg_eID",
        "outputId": "2e79ec4f-210a-4b71-9839-d34070233c80"
      },
      "outputs": [
        {
          "data": {
            "text/plain": [
              "'.'"
            ]
          },
          "execution_count": 21,
          "metadata": {},
          "output_type": "execute_result"
        }
      ],
      "source": [
        "testing_path[1]"
      ]
    },
    {
      "cell_type": "code",
      "execution_count": null,
      "metadata": {
        "id": "5875GGVK_eIE",
        "outputId": "51631196-be74-468e-ead2-6f41a949b51a"
      },
      "outputs": [
        {
          "ename": "NameError",
          "evalue": "name 'testing_data_generator' is not defined",
          "output_type": "error",
          "traceback": [
            "\u001b[1;31m---------------------------------------------------------------------------\u001b[0m",
            "\u001b[1;31mNameError\u001b[0m                                 Traceback (most recent call last)",
            "Cell \u001b[1;32mIn [10], line 1\u001b[0m\n\u001b[1;32m----> 1\u001b[0m tf\u001b[39m.\u001b[39mkeras\u001b[39m.\u001b[39mutils\u001b[39m.\u001b[39mto_categorical(testing_data_generator, num_classes\u001b[39m=\u001b[39m\u001b[39m4\u001b[39m, dtype\u001b[39m=\u001b[39m\u001b[39m\"\u001b[39m\u001b[39muint8\u001b[39m\u001b[39m\"\u001b[39m)\n",
            "\u001b[1;31mNameError\u001b[0m: name 'testing_data_generator' is not defined"
          ]
        }
      ],
      "source": [
        "tf.keras.utils.to_categorical(testing_data_generator, num_classes=4, dtype=\"uint8\")"
      ]
    },
    {
      "cell_type": "markdown",
      "metadata": {
        "id": "hh1E02Cjwxqo"
      },
      "source": [
        "Test code below, can delete or use as backup if things go wrong"
      ]
    },
    {
      "cell_type": "code",
      "execution_count": null,
      "metadata": {
        "colab": {
          "base_uri": "https://localhost:8080/",
          "height": 241
        },
        "id": "MkCyI6yJiQno",
        "outputId": "951291b9-764b-4d18-fe06-6c625b684970"
      },
      "outputs": [
        {
          "ename": "error",
          "evalue": "ignored",
          "output_type": "error",
          "traceback": [
            "\u001b[0;31m---------------------------------------------------------------------------\u001b[0m",
            "\u001b[0;31merror\u001b[0m                                     Traceback (most recent call last)",
            "\u001b[0;32m<ipython-input-12-99c3932628ba>\u001b[0m in \u001b[0;36m<module>\u001b[0;34m\u001b[0m\n\u001b[1;32m      9\u001b[0m \u001b[0;32mfor\u001b[0m \u001b[0mi\u001b[0m \u001b[0;32min\u001b[0m \u001b[0mtest_path\u001b[0m\u001b[0;34m:\u001b[0m\u001b[0;34m\u001b[0m\u001b[0;34m\u001b[0m\u001b[0m\n\u001b[1;32m     10\u001b[0m   \u001b[0mimage\u001b[0m \u001b[0;34m=\u001b[0m \u001b[0mcv2\u001b[0m\u001b[0;34m.\u001b[0m\u001b[0mimread\u001b[0m\u001b[0;34m(\u001b[0m\u001b[0mtesting_path\u001b[0m\u001b[0;34m,\u001b[0m \u001b[0mcv2\u001b[0m\u001b[0;34m.\u001b[0m\u001b[0mIMREAD_COLOR\u001b[0m\u001b[0;34m)\u001b[0m\u001b[0;34m\u001b[0m\u001b[0;34m\u001b[0m\u001b[0m\n\u001b[0;32m---> 11\u001b[0;31m   \u001b[0mimage\u001b[0m \u001b[0;34m=\u001b[0m \u001b[0mcv2\u001b[0m\u001b[0;34m.\u001b[0m\u001b[0mresize\u001b[0m\u001b[0;34m(\u001b[0m\u001b[0mimage\u001b[0m\u001b[0;34m,\u001b[0m \u001b[0;34m(\u001b[0m\u001b[0;36m150\u001b[0m\u001b[0;34m,\u001b[0m \u001b[0;36m150\u001b[0m\u001b[0;34m)\u001b[0m\u001b[0;34m)\u001b[0m\u001b[0;34m\u001b[0m\u001b[0;34m\u001b[0m\u001b[0m\n\u001b[0m\u001b[1;32m     12\u001b[0m   \u001b[0mimage\u001b[0m \u001b[0;34m=\u001b[0m \u001b[0mimage\u001b[0m \u001b[0;34m/\u001b[0m \u001b[0;36m255.0\u001b[0m \u001b[0;31m#normalisation if above chunk of code works, will likely not need to apply this\u001b[0m\u001b[0;34m\u001b[0m\u001b[0;34m\u001b[0m\u001b[0m\n\u001b[1;32m     13\u001b[0m   \u001b[0mtesting\u001b[0m\u001b[0;34m.\u001b[0m\u001b[0mappend\u001b[0m\u001b[0;34m(\u001b[0m\u001b[0mimage\u001b[0m\u001b[0;34m)\u001b[0m\u001b[0;34m\u001b[0m\u001b[0;34m\u001b[0m\u001b[0m\n",
            "\u001b[0;31merror\u001b[0m: OpenCV(4.6.0) /io/opencv/modules/imgproc/src/resize.cpp:4052: error: (-215:Assertion failed) !ssize.empty() in function 'resize'\n"
          ]
        }
      ],
      "source": [
        "training = []\n",
        "training_label = []\n",
        "\n",
        "testing = []\n",
        "testing_label = []\n",
        "\n",
        "#test_path = os.listdir('/content/drive/MyDrive/data/archive/Training')\n",
        "\n",
        "for i in testing_path:\n",
        "  image = cv2.imread(testing_path, cv2.IMREAD_COLOR)\n",
        "  image = cv2.resize(image, (150, 150))\n",
        "  image = image / 255.0 #normalisation if above chunk of code works, will likely not need to apply this\n",
        "  testing.append(image)\n",
        "  testing_label.append(labels)"
      ]
    },
    {
      "cell_type": "markdown",
      "metadata": {
        "id": "FBhvVA5Tw6gf"
      },
      "source": [
        "Next I'll likely use Keras’ ImageDataGenerator function to augment the dataset"
      ]
    },
    {
      "cell_type": "code",
      "execution_count": null,
      "metadata": {
        "id": "SbpxOKv9xCtJ"
      },
      "outputs": [],
      "source": [
        "#Example: https://studymachinelearning.com/keras-imagedatagenerator-with-flow_from_directory/\n",
        "#src_path_train = \"data/train/\"\n",
        "#src_path_test = \"data/test/\"\n",
        "\n",
        "#adjust this function\n",
        "\n",
        "data_agument = ImageDataGenerator(\n",
        "    rotation_range = 20,\n",
        "    zoom_range = 0.05,\n",
        "    width_shift_range = 0.05,\n",
        "    height_shift_range = 0.05,\n",
        "    shear_range = 0.05,\n",
        "    horizontal_flip = True,\n",
        "    fill_mode = 'nearest',\n",
        "    validation_split = 0.20\n",
        ")\n",
        "\n",
        "#train_datagen = ImageDataGenerator(\n",
        "        #rescale=1 / 255.0,\n",
        "        #rotation_range=20,\n",
        "        #zoom_range=0.05,\n",
        "        #width_shift_range=0.05,\n",
        "        #height_shift_range=0.05,\n",
        "        #shear_range=0.05,\n",
        "        #horizontal_flip=True,\n",
        "        #fill_mode=\"nearest\",\n",
        "        #validation_split=0.20)\n",
        "\n",
        "#test_datagen = ImageDataGenerator(rescale=1 / 255.0)"
      ]
    }
  ],
  "metadata": {
    "colab": {
      "provenance": [],
      "history_visible": true,
      "include_colab_link": true
    },
    "kernelspec": {
      "display_name": "Python 3",
      "language": "python",
      "name": "python3"
    },
    "language_info": {
      "codemirror_mode": {
        "name": "ipython",
        "version": 3
      },
      "file_extension": ".py",
      "mimetype": "text/x-python",
      "name": "python",
      "nbconvert_exporter": "python",
      "pygments_lexer": "ipython3",
      "version": "3.10.1"
    },
    "vscode": {
      "interpreter": {
        "hash": "46bfae0556cc79fc827cf62550d4b72d149cdfc64787c68439fc9ea0697c8cac"
      }
    },
    "gpuClass": "standard"
  },
  "nbformat": 4,
  "nbformat_minor": 0
}